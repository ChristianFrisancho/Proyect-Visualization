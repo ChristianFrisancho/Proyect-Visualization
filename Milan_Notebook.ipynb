{
 "cells": [
  {
   "cell_type": "code",
   "execution_count": 1,
   "id": "5f241cce",
   "metadata": {},
   "outputs": [
    {
     "name": "stdout",
     "output_type": "stream",
     "text": [
      "Año: F2023 | países con Solar/Wind>0: 82  | filas totales CSV: 570\n"
     ]
    }
   ],
   "source": [
    "# 1) Prepara datos (año, pivot por país y estándar de tecnologías)\n",
    "import pandas as pd\n",
    "\n",
    "df = pd.read_csv(\"Isea/Energy_clean.csv\")\n",
    "year_cols = [c for c in df.columns if c.startswith(\"F\")]\n",
    "for c in year_cols: df[c] = pd.to_numeric(df[c], errors=\"coerce\")\n",
    "\n",
    "IND, UNIT = \"Electricity Installed Capacity\", \"Megawatt (MW)\"\n",
    "f = df[(df[\"Indicator\"]==IND) & (df[\"Unit\"]==UNIT)].copy()\n",
    "YEAR = [c for c in year_cols if f[c].notna().any()][-1]\n",
    "\n",
    "tech_map = {\n",
    "    \"Hydropower (excl. Pumped Storage)\": \"Hydro\",\n",
    "    \"Solar energy\": \"Solar\",\n",
    "    \"Wind energy\": \"Wind\",\n",
    "    \"Bioenergy\": \"Bio\",\n",
    "    \"Fossil fuels\": \"Fossil\",\n",
    "}\n",
    "f[\"Technology_std\"] = f[\"Technology\"].map(tech_map).fillna(f[\"Technology\"])\n",
    "\n",
    "# Pivot por país (1 punto = país) para el scatter\n",
    "idx = pd.MultiIndex.from_product([f[\"Country\"].dropna().unique(),\n",
    "                                  sorted(f[\"Technology_std\"].dropna().unique())],\n",
    "                                 names=[\"Country\",\"Technology_std\"])\n",
    "grid = (f.groupby([\"Country\",\"Technology_std\"])[YEAR].sum(min_count=1)\n",
    "          .reindex(idx, fill_value=0.0).reset_index())\n",
    "piv = (grid.pivot(index=\"Country\", columns=\"Technology_std\", values=YEAR)\n",
    "          .fillna(0.0).reset_index())\n",
    "\n",
    "for c in [\"Solar\",\"Wind\",\"Hydro\",\"Bio\",\"Fossil\"]:\n",
    "    if c not in piv.columns: piv[c] = 0.0\n",
    "piv[\"Total\"] = piv.drop(columns=[\"Country\"]).sum(axis=1, numeric_only=True)\n",
    "piv[\"DominantTech\"] = piv[[\"Solar\",\"Wind\",\"Hydro\",\"Bio\",\"Fossil\"]].idxmax(axis=1)\n",
    "\n",
    "# Para que no se amontonen, quitamos (0,0) solo del SCATTER:\n",
    "piv_viz = piv[(piv[\"Solar\"]>0) | (piv[\"Wind\"]>0)].copy()\n",
    "print(f\"Año: {YEAR} | países con Solar/Wind>0: {len(piv_viz)}  | filas totales CSV: {len(f)}\")"
   ]
  },
  {
   "cell_type": "code",
   "execution_count": 2,
   "id": "92760e4d-9211-4a42-9a2f-982ea830a439",
   "metadata": {},
   "outputs": [
    {
     "data": {
      "application/vnd.jupyter.widget-view+json": {
       "model_id": "b0570f337f49470d8ead54adc32326ac",
       "version_major": 2,
       "version_minor": 0
      },
      "text/plain": [
       "ScatterBrush(data=[{'id': 1, 'x': 1, 'y': 10, 'group': 'A'}, {'id': 2, 'x': 2, 'y': 8, 'group': 'B'}, {'id': 3…"
      ]
     },
     "metadata": {},
     "output_type": "display_data"
    },
    {
     "data": {
      "application/vnd.jupyter.widget-view+json": {
       "model_id": "147d32c2237f4cc3a062354e03439001",
       "version_major": 2,
       "version_minor": 0
      },
      "text/plain": [
       "Output()"
      ]
     },
     "metadata": {},
     "output_type": "display_data"
    }
   ],
   "source": [
    "from Isea import ScatterBrush\n",
    "from IPython.display import display\n",
    "from ipywidgets import Output\n",
    "import pandas as pd\n",
    "\n",
    "# sample data (note the actual column names)\n",
    "df = pd.DataFrame({\n",
    "    \"id\": [1,2,3,4],\n",
    "    \"x\":  [1,2,3,4],\n",
    "    \"y\":  [10,8,6,9],\n",
    "    \"group\": [\"A\",\"B\",\"A\",\"B\"]   # <-- categorical for color\n",
    "})\n",
    "\n",
    "# instantiate with the CORRECT column names\n",
    "w = ScatterBrush(\n",
    "    df,\n",
    "    x=\"x\", y=\"y\",           # <-- must match df\n",
    "    color=\"group\",          # optional, only if it exists\n",
    "    key=\"id\",               # optional; defaults to a stable id anyway\n",
    "    title=\"My Scatter\", x_label=\"X\", y_label=\"Y\",\n",
    "    width=720, height=420\n",
    ")\n",
    "display(w)\n",
    "\n",
    "# show selection live below the chart\n",
    "out = Output()\n",
    "def on_sel(change):\n",
    "    sel = change[\"new\"]\n",
    "    with out:\n",
    "        out.clear_output()\n",
    "        if sel.get(\"type\"):\n",
    "            rows = sel.get(\"rows\", [])\n",
    "            print(f\"{sel['type']} selection — {len(rows)} points\")\n",
    "            display(pd.DataFrame(rows))\n",
    "        else:\n",
    "            print(\"Selection cleared\")\n",
    "w.observe(on_sel, names=\"selection\")\n",
    "display(out)\n"
   ]
  },
  {
   "cell_type": "code",
   "execution_count": 3,
   "id": "b8050e31",
   "metadata": {},
   "outputs": [
    {
     "data": {
      "application/vnd.jupyter.widget-view+json": {
       "model_id": "147d32c2237f4cc3a062354e03439001",
       "version_major": 2,
       "version_minor": 0
      },
      "text/plain": [
       "Output()"
      ]
     },
     "metadata": {},
     "output_type": "display_data"
    }
   ],
   "source": [
    "display (out)"
   ]
  },
  {
   "cell_type": "code",
   "execution_count": 6,
   "id": "d381abdf",
   "metadata": {},
   "outputs": [],
   "source": [
    "import pandas as pd\n",
    "from Isea import ParallelEnergy\n",
    "\n",
    "df = pd.read_csv(\"Isea/Energy_clean.csv\")\n",
    "\n",
    "years = [c for c in df.columns if c.startswith(\"F\")]\n",
    "tech_map = {\n",
    "    \"Hydropower (excl. Pumped Storage)\": \"Hydro\",\n",
    "    \"Solar energy\": \"Solar\",\n",
    "    \"Wind energy\": \"Wind\",\n",
    "    \"Bioenergy\": \"Bio\",\n",
    "    \"Fossil fuels\": \"Fossil\",\n",
    "}\n",
    "df[\"Technology_std\"] = df[\"Technology\"].map(tech_map).fillna(df[\"Technology\"])\n"
   ]
  },
  {
   "cell_type": "code",
   "execution_count": null,
   "id": "55741701",
   "metadata": {},
   "outputs": [
    {
     "data": {
      "application/vnd.jupyter.widget-view+json": {
       "model_id": "447bd7dfbd574aee81aaa8ec3e59d2d9",
       "version_major": 2,
       "version_minor": 0
      },
      "text/plain": [
       "ParallelEnergy(data={'years': ['F2000', 'F2001', 'F2002', 'F2003', 'F2004', 'F2005', 'F2006', 'F2007', 'F2008'…"
      ]
     },
     "metadata": {},
     "output_type": "display_data"
    }
   ],
   "source": [
    "w = ParallelEnergy(\n",
    "    df, years,\n",
    "    tech_col=\"Technology_std\",\n",
    "    label_col=\"Country\",\n",
    "    dims=(\"Fossil\", \"Solar\", \"Hydro\", \"Wind\", \"Bio\"),\n",
    "    year_start=\"F2023\",\n",
    "    width=1100, height=560,\n",
    "    margin=dict(left=50, right=180, top=80, bottom=36),  # ajusta si quieres\n",
    "    panel_position=\"bottom\",       # \"right\" o \"bottom\"\n",
    "    panel_width=320, panel_height=220,\n",
    "    log_axes=False, normalize=False, reorder=True\n",
    ")\n",
    "w\n"
   ]
  },
  {
   "cell_type": "code",
   "execution_count": 8,
   "id": "c9f3311c",
   "metadata": {},
   "outputs": [
    {
     "data": {
      "text/html": [
       "<div>\n",
       "<style scoped>\n",
       "    .dataframe tbody tr th:only-of-type {\n",
       "        vertical-align: middle;\n",
       "    }\n",
       "\n",
       "    .dataframe tbody tr th {\n",
       "        vertical-align: top;\n",
       "    }\n",
       "\n",
       "    .dataframe thead th {\n",
       "        text-align: right;\n",
       "    }\n",
       "</style>\n",
       "<table border=\"1\" class=\"dataframe\">\n",
       "  <thead>\n",
       "    <tr style=\"text-align: right;\">\n",
       "      <th></th>\n",
       "      <th>Country</th>\n",
       "      <th>Year</th>\n",
       "      <th>Fossil</th>\n",
       "      <th>Solar</th>\n",
       "      <th>Hydro</th>\n",
       "      <th>Wind</th>\n",
       "      <th>Bio</th>\n",
       "      <th>DominantTech</th>\n",
       "    </tr>\n",
       "  </thead>\n",
       "  <tbody>\n",
       "    <tr>\n",
       "      <th>0</th>\n",
       "      <td>Canada</td>\n",
       "      <td>F2023</td>\n",
       "      <td>35176.9</td>\n",
       "      <td>0.000</td>\n",
       "      <td>83138.000</td>\n",
       "      <td>16989.418</td>\n",
       "      <td>2699.857</td>\n",
       "      <td>Hydro</td>\n",
       "    </tr>\n",
       "    <tr>\n",
       "      <th>1</th>\n",
       "      <td>United States</td>\n",
       "      <td>F2023</td>\n",
       "      <td>0.0</td>\n",
       "      <td>139205.277</td>\n",
       "      <td>84316.753</td>\n",
       "      <td>148019.861</td>\n",
       "      <td>10989.500</td>\n",
       "      <td>Wind</td>\n",
       "    </tr>\n",
       "  </tbody>\n",
       "</table>\n",
       "</div>"
      ],
      "text/plain": [
       "         Country   Year   Fossil       Solar      Hydro        Wind  \\\n",
       "0         Canada  F2023  35176.9       0.000  83138.000   16989.418   \n",
       "1  United States  F2023      0.0  139205.277  84316.753  148019.861   \n",
       "\n",
       "         Bio DominantTech  \n",
       "0   2699.857        Hydro  \n",
       "1  10989.500         Wind  "
      ]
     },
     "metadata": {},
     "output_type": "display_data"
    },
    {
     "data": {
      "text/html": [
       "<div>\n",
       "<style scoped>\n",
       "    .dataframe tbody tr th:only-of-type {\n",
       "        vertical-align: middle;\n",
       "    }\n",
       "\n",
       "    .dataframe tbody tr th {\n",
       "        vertical-align: top;\n",
       "    }\n",
       "\n",
       "    .dataframe thead th {\n",
       "        text-align: right;\n",
       "    }\n",
       "</style>\n",
       "<table border=\"1\" class=\"dataframe\">\n",
       "  <thead>\n",
       "    <tr style=\"text-align: right;\">\n",
       "      <th></th>\n",
       "      <th>Country</th>\n",
       "      <th>Year</th>\n",
       "      <th>Fossil</th>\n",
       "      <th>Solar</th>\n",
       "      <th>Hydro</th>\n",
       "      <th>Wind</th>\n",
       "      <th>Bio</th>\n",
       "      <th>DominantTech</th>\n",
       "    </tr>\n",
       "  </thead>\n",
       "  <tbody>\n",
       "    <tr>\n",
       "      <th>0</th>\n",
       "      <td>Canada</td>\n",
       "      <td>F2023</td>\n",
       "      <td>35176.9</td>\n",
       "      <td>0.000</td>\n",
       "      <td>83138.000</td>\n",
       "      <td>16989.418</td>\n",
       "      <td>2699.857</td>\n",
       "      <td>Hydro</td>\n",
       "    </tr>\n",
       "    <tr>\n",
       "      <th>1</th>\n",
       "      <td>United States</td>\n",
       "      <td>F2023</td>\n",
       "      <td>0.0</td>\n",
       "      <td>139205.277</td>\n",
       "      <td>84316.753</td>\n",
       "      <td>148019.861</td>\n",
       "      <td>10989.500</td>\n",
       "      <td>Wind</td>\n",
       "    </tr>\n",
       "  </tbody>\n",
       "</table>\n",
       "</div>"
      ],
      "text/plain": [
       "         Country   Year   Fossil       Solar      Hydro        Wind  \\\n",
       "0         Canada  F2023  35176.9       0.000  83138.000   16989.418   \n",
       "1  United States  F2023      0.0  139205.277  84316.753  148019.861   \n",
       "\n",
       "         Bio DominantTech  \n",
       "0   2699.857        Hydro  \n",
       "1  10989.500         Wind  "
      ]
     },
     "execution_count": 8,
     "metadata": {},
     "output_type": "execute_result"
    }
   ],
   "source": [
    "w.show_selection()"
   ]
  },
  {
   "cell_type": "code",
   "execution_count": 9,
   "id": "7c88b20d",
   "metadata": {},
   "outputs": [
    {
     "data": {
      "application/vnd.jupyter.widget-view+json": {
       "model_id": "2fa9978c82904f26b97052061995c94d",
       "version_major": 2,
       "version_minor": 0
      },
      "text/plain": [
       "Output()"
      ]
     },
     "metadata": {},
     "output_type": "display_data"
    }
   ],
   "source": [
    "from IPython.display import display, clear_output\n",
    "import ipywidgets as ipw\n",
    "\n",
    "out = ipw.Output()\n",
    "display(out)\n",
    "\n",
    "def on_sel(change):\n",
    "    with out:\n",
    "        clear_output(wait=True)\n",
    "        df_sel = w.selection_df()\n",
    "        print(f\"point selection — {len(df_sel)} points\")\n",
    "        display(df_sel)\n",
    "\n",
    "# Escucha cambios del widget\n",
    "w.observe(on_sel, \"selection\")\n"
   ]
  },
  {
   "cell_type": "code",
   "execution_count": 10,
   "id": "296872d8",
   "metadata": {},
   "outputs": [
    {
     "data": {
      "application/vnd.jupyter.widget-view+json": {
       "model_id": "b34f58ec9b384763b8645dcbbbde236e",
       "version_major": 2,
       "version_minor": 0
      },
      "text/plain": [
       "ParallelEnergy(data={'years': ['F2000', 'F2001', 'F2002', 'F2003', 'F2004', 'F2005', 'F2006', 'F2007', 'F2008'…"
      ]
     },
     "metadata": {},
     "output_type": "display_data"
    }
   ],
   "source": [
    "w2 = w.new_from_selection(\n",
    "    width=1000, height=520,\n",
    "    margin=dict(l=48, r=160, t=72, b=32),\n",
    "    panel_position=\"bottom\",\n",
    "    panel_height=200\n",
    ")\n",
    "w2\n"
   ]
  },
  {
   "cell_type": "code",
   "execution_count": 11,
   "id": "da74c88d",
   "metadata": {},
   "outputs": [
    {
     "name": "stdout",
     "output_type": "stream",
     "text": [
      "(self, df: pandas.core.frame.DataFrame, group_col: str, category_col: str, year_cols: Optional[List[str]] = None, year_start: Optional[str] = None, agg: str = 'sum', width: int = 900, height: int = 900, inner_radius: int = 200, pad_angle: float = 0.015, color_scheme: str = 'schemeSpectral', sort_on_click: bool = True, title: Optional[str] = None, custom_colors: Optional[List[str]] = None, **kwargs)\n",
      "year_cols en parámetros: True\n"
     ]
    }
   ],
   "source": [
    "import inspect\n",
    "from Isea.radial_stacked_bar import RadialStackedBar\n",
    "\n",
    "# Ver la firma de la función\n",
    "print(inspect.signature(RadialStackedBar.__init__))\n",
    "\n",
    "# Ver si year_cols está en los parámetros\n",
    "params = inspect.signature(RadialStackedBar.__init__).parameters\n",
    "print(\"year_cols en parámetros:\", \"year_cols\" in params)"
   ]
  },
  {
   "cell_type": "code",
   "execution_count": 12,
   "id": "75e6345c",
   "metadata": {},
   "outputs": [
    {
     "name": "stdout",
     "output_type": "stream",
     "text": [
      "✅ Datos preparados: 570 filas\n",
      "✅ Columnas: ['ObjectId', 'Country', 'ISO2', 'ISO3', 'Indicator', 'Technology', 'Energy_Type', 'Unit', 'Source', 'CTS_Name', 'CTS_Code', 'CTS_Full_Descriptor', 'F2000', 'F2001', 'F2002', 'F2003', 'F2004', 'F2005', 'F2006', 'F2007', 'F2008', 'F2009', 'F2010', 'F2011', 'F2012', 'F2013', 'F2014', 'F2015', 'F2016', 'F2017', 'F2018', 'F2019', 'F2020', 'F2021', 'F2022', 'F2023', 'Technology_std']\n",
      "✅ Tecnologías únicas: ['Fossil' 'Hydro' 'Bio' 'Solar' 'Wind']\n"
     ]
    },
    {
     "data": {
      "application/vnd.jupyter.widget-view+json": {
       "model_id": "9f75c7ad35a5489ea6a5a8fb5969129d",
       "version_major": 2,
       "version_minor": 0
      },
      "text/plain": [
       "RadialStackedBar(data={'years': ['F2000', 'F2001', 'F2002', 'F2003', 'F2004', 'F2005', 'F2006', 'F2007', 'F200…"
      ]
     },
     "metadata": {},
     "output_type": "display_data"
    },
    {
     "name": "stdout",
     "output_type": "stream",
     "text": [
      "✅ Widget creado exitosamente!\n"
     ]
    }
   ],
   "source": [
    "# ========== PRIMERO: Preparar datos (IGUAL A LA CELDA 1) ==========\n",
    "import pandas as pd\n",
    "from Isea import RadialStackedBar\n",
    "\n",
    "df = pd.read_csv(\"Isea/Energy_clean.csv\")\n",
    "year_cols = [c for c in df.columns if c.startswith(\"F\")]\n",
    "\n",
    "# Convertir a numéricas\n",
    "for c in year_cols: \n",
    "    df[c] = pd.to_numeric(df[c], errors=\"coerce\")\n",
    "\n",
    "# Filtrar por indicador y unidad\n",
    "IND, UNIT = \"Electricity Installed Capacity\", \"Megawatt (MW)\"\n",
    "df = df[(df[\"Indicator\"]==IND) & (df[\"Unit\"]==UNIT)].copy()\n",
    "\n",
    "# IMPORTANTE: Estandarizar tecnologías\n",
    "tech_map = {\n",
    "    \"Hydropower (excl. Pumped Storage)\": \"Hydro\",\n",
    "    \"Solar energy\": \"Solar\",\n",
    "    \"Wind energy\": \"Wind\",\n",
    "    \"Bioenergy\": \"Bio\",\n",
    "    \"Fossil fuels\": \"Fossil\",\n",
    "}\n",
    "df[\"Technology_std\"] = df[\"Technology\"].map(tech_map).fillna(df[\"Technology\"])\n",
    "\n",
    "print(f\"✅ Datos preparados: {len(df)} filas\")\n",
    "print(f\"✅ Columnas: {df.columns.tolist()}\")\n",
    "print(f\"✅ Tecnologías únicas: {df['Technology_std'].unique()}\")\n",
    "\n",
    "# ========== AHORA: Crear RadialStackedBar ==========\n",
    "radial = RadialStackedBar(\n",
    "    df=df,\n",
    "    group_col=\"Country\",\n",
    "    category_col=\"Technology_std\",\n",
    "    year_cols=year_cols,\n",
    "    year_start=\"F2023\",\n",
    "    width=900,\n",
    "    height=900,\n",
    "    inner_radius=200,\n",
    "    title=\"⚡ Capacidad Instalada\",\n",
    "    custom_colors=[\"#d73027\",\"#f46d43\",\"#fdae61\",\"#fee08b\",\"#e6f598\",\"#abdda4\",\"#66c2a5\",\"#3288bd\"]\n",
    ")\n",
    "\n",
    "display(radial)\n",
    "print(\"✅ Widget creado exitosamente!\")"
   ]
  },
  {
   "cell_type": "code",
   "execution_count": 13,
   "id": "26e28de5-2621-431c-8496-8c2d50f9ac13",
   "metadata": {
    "scrolled": true
   },
   "outputs": [
    {
     "name": "stdout",
     "output_type": "stream",
     "text": [
      "Columns: ['ObjectId', 'Country', 'ISO2', 'ISO3', 'Indicator', 'Technology', 'Energy_Type', 'Unit', 'Source', 'CTS_Name', 'CTS_Code', 'CTS_Full_Descriptor', 'F2000', 'F2001', 'F2002', 'F2003', 'F2004', 'F2005', 'F2006', 'F2007', 'F2008', 'F2009', 'F2010', 'F2011', 'F2012', 'F2013', 'F2014', 'F2015', 'F2016', 'F2017', 'F2018', 'F2019', 'F2020', 'F2021', 'F2022', 'F2023', 'Technology_std']\n",
      "Has Technology_std: True\n",
      "Year cols: ['F2000', 'F2001', 'F2002', 'F2003', 'F2004', 'F2005', 'F2006', 'F2007', 'F2008', 'F2009', 'F2010', 'F2011', 'F2012', 'F2013', 'F2014', 'F2015', 'F2016', 'F2017', 'F2018', 'F2019', 'F2020', 'F2021', 'F2022', 'F2023']\n",
      "Sample data:\n",
      "                         Country Technology_std     F2000\n",
      "0  Afghanistan, Islamic Rep. of         Fossil    29.725\n",
      "1  Afghanistan, Islamic Rep. of          Hydro   191.503\n",
      "2                       Albania          Hydro  1453.000\n",
      "3                       Algeria         Fossil  5846.210\n",
      "4                       Algeria          Hydro   276.600\n"
     ]
    }
   ],
   "source": [
    "print(\"Columns:\", df.columns.tolist())\n",
    "print(\"Has Technology_std:\", \"Technology_std\" in df.columns)\n",
    "print(\"Year cols:\", year_cols)\n",
    "print(\"Sample data:\\n\", df[[\"Country\", \"Technology_std\", year_cols[0]]].head())"
   ]
  },
  {
   "cell_type": "code",
   "execution_count": 14,
   "id": "9de7a6a5-16f5-4a54-8ab6-cca90e2576fe",
   "metadata": {},
   "outputs": [
    {
     "ename": "SyntaxError",
     "evalue": "invalid character '✅' (U+2705) (556875360.py, line 39)",
     "output_type": "error",
     "traceback": [
      "\u001b[1;36m  Cell \u001b[1;32mIn[14], line 39\u001b[1;36m\u001b[0m\n\u001b[1;33m    ✅ WorldRenewable widget created successfully!\u001b[0m\n\u001b[1;37m    ^\u001b[0m\n\u001b[1;31mSyntaxError\u001b[0m\u001b[1;31m:\u001b[0m invalid character '✅' (U+2705)\n"
     ]
    }
   ],
   "source": [
    "# Fuerza recarga\n",
    "import sys\n",
    "for mod in list(sys.modules.keys()):\n",
    "    if 'Isea' in mod:\n",
    "        del sys.modules[mod]\n",
    "\n",
    "# Reimporta\n",
    "from Isea import RadialStackedBar\n",
    "from IPython.display import display\n",
    "\n",
    "# Preparar datos (mismo que antes)\n",
    "import pandas as pd\n",
    "\n",
    "df = pd.read_csv(\"Isea/Energy_clean.csv\")\n",
    "year_cols = [c for c in df.columns if c.startswith(\"F\")]\n",
    "\n",
    "for c in year_cols: \n",
    "    df[c] = pd.to_numeric(df[c], errors=\"coerce\")\n",
    "\n",
    "IND, UNIT = \"Electricity Installed Capacity\", \"Megawatt (MW)\"\n",
    "df = df[(df[\"Indicator\"]==IND) & (df[\"Unit\"]==UNIT)].copy()\n",
    "\n",
    "tech_map = {\n",
    "    \"Hydropower (excl. Pumped Storage)\": \"Hydro\",\n",
    "    \"Solar energy\": \"Solar\",\n",
    "    \"Wind energy\": \"Wind\",\n",
    "    \"Bioenergy\": \"Bio\",\n",
    "    \"Fossil fuels\": \"Fossil\",\n",
    "}\n",
    "df[\"Technology_std\"] = df[\"Technology\"].map(tech_map).fillna(df[\"Technology\"])\n",
    "\n",
    "-1\n",
    "\n",
    "F2023\n",
    "Country\n",
    "ISO3\n",
    "Technology_std\n",
    "right\n",
    "✅ WorldRenewable widget created successfully!\n",
    "selection\n",
    "print(\"_esm path:\", RadialStackedBar._esm)\n",
    "print(\"Existe:\", Path(RadialStackedBar._esm).exists())\n",
    "\n",
    "# Si no existe, dinos y crearemos el archivo\n",
    "print(\"\\nContenido esperado del archivo:\")\n",
    "import inspect\n",
    "print(inspect.getfile(RadialStackedBar))"
   ]
  },
  {
   "cell_type": "code",
   "execution_count": 15,
   "id": "20660272-c7d8-4b9f-8bf5-f135be50ccda",
   "metadata": {},
   "outputs": [
    {
     "name": "stdout",
     "output_type": "stream",
     "text": [
      "📊 Países totales: 216\n",
      "✅ Países con 5 tecnologías: 26\n",
      "✅ Datos finales después de filtrar: 130 filas\n",
      "✅ Países únicos: 26\n",
      "✅ Tecnologías: ['Bio' 'Fossil' 'Hydro' 'Solar' 'Wind']\n"
     ]
    },
    {
     "data": {
      "application/vnd.jupyter.widget-view+json": {
       "model_id": "fe1d70c7725641b2b5c3cb731e724bf8",
       "version_major": 2,
       "version_minor": 0
      },
      "text/plain": [
       "RadialStackedBar(data={'years': ['F2000', 'F2001', 'F2002', 'F2003', 'F2004', 'F2005', 'F2006', 'F2007', 'F200…"
      ]
     },
     "metadata": {},
     "output_type": "display_data"
    },
    {
     "name": "stdout",
     "output_type": "stream",
     "text": [
      "✅ Widget creado con datos limpios!\n"
     ]
    }
   ],
   "source": [
    "# ========== PREPARACIÓN AGRESIVA DE DATOS ==========\n",
    "import pandas as pd\n",
    "from Isea import RadialStackedBar\n",
    "\n",
    "df = pd.read_csv(\"Isea/Energy_clean.csv\")\n",
    "year_cols = [c for c in df.columns if c.startswith(\"F\")]\n",
    "\n",
    "# Convertir a numéricas\n",
    "for c in year_cols: \n",
    "    df[c] = pd.to_numeric(df[c], errors=\"coerce\")\n",
    "\n",
    "# Filtrar por indicador y unidad\n",
    "IND, UNIT = \"Electricity Installed Capacity\", \"Megawatt (MW)\"\n",
    "df = df[(df[\"Indicator\"]==IND) & (df[\"Unit\"]==UNIT)].copy()\n",
    "\n",
    "# Estandarizar tecnologías\n",
    "tech_map = {\n",
    "    \"Hydropower (excl. Pumped Storage)\": \"Hydro\",\n",
    "    \"Solar energy\": \"Solar\",\n",
    "    \"Wind energy\": \"Wind\",\n",
    "    \"Bioenergy\": \"Bio\",\n",
    "    \"Fossil fuels\": \"Fossil\",\n",
    "}\n",
    "df[\"Technology_std\"] = df[\"Technology\"].map(tech_map).fillna(df[\"Technology\"])\n",
    "\n",
    "# ========== Filtrar solo tecnologías estándar ==========\n",
    "df_clean = df[\n",
    "    df[\"Technology_std\"].isin([\"Fossil\", \"Solar\", \"Wind\", \"Hydro\", \"Bio\"])\n",
    "].copy()\n",
    "\n",
    "# ========== NUEVO: Agrupar por país y tecnología ==========\n",
    "df_grouped = df_clean.groupby([\"Country\", \"Technology_std\"])[year_cols].sum().reset_index()\n",
    "\n",
    "# ========== NUEVO: Filtrar países con TODAS las tecnologías ==========\n",
    "# Contar cuántas tecnologías tiene cada país\n",
    "tech_count = df_grouped.groupby(\"Country\")[\"Technology_std\"].nunique()\n",
    "\n",
    "# Mantener solo países con LAS 5 TECNOLOGÍAS\n",
    "required_techs = 5  # Fossil, Solar, Wind, Hydro, Bio\n",
    "complete_countries = tech_count[tech_count == required_techs].index.tolist()\n",
    "\n",
    "print(f\"📊 Países totales: {df_grouped['Country'].nunique()}\")\n",
    "print(f\"✅ Países con 5 tecnologías: {len(complete_countries)}\")\n",
    "\n",
    "# Filtrar\n",
    "df_grouped = df_grouped[df_grouped[\"Country\"].isin(complete_countries)].copy()\n",
    "\n",
    "# ========== NUEVO: Eliminar filas donde TODOS los años son 0 ==========\n",
    "df_grouped[\"Total\"] = df_grouped[year_cols].sum(axis=1)\n",
    "df_grouped = df_grouped[df_grouped[\"Total\"] > 0].drop(columns=[\"Total\"])\n",
    "\n",
    "# ========== NUEVO: Filtrar por año más reciente con datos ==========\n",
    "# Solo mantener países con datos en F2023 (año más reciente)\n",
    "last_year = \"F2023\"\n",
    "df_grouped = df_grouped[df_grouped[last_year] > 0].copy()\n",
    "\n",
    "print(f\"✅ Datos finales después de filtrar: {len(df_grouped)} filas\")\n",
    "print(f\"✅ Países únicos: {df_grouped['Country'].nunique()}\")\n",
    "print(f\"✅ Tecnologías: {df_grouped['Technology_std'].unique()}\")\n",
    "\n",
    "# ========== Crear RadialStackedBar ==========\n",
    "radial = RadialStackedBar(\n",
    "    df=df_grouped,\n",
    "    group_col=\"Country\",\n",
    "    category_col=\"Technology_std\",\n",
    "    year_cols=year_cols,\n",
    "    year_start=\"F2023\",\n",
    "    width=900,\n",
    "    height=900,\n",
    "    inner_radius=200,\n",
    "    title=\"⚡ Capacidad Instalada (MW) - Países Completos\",\n",
    "    custom_colors=[\"#d73027\",\"#f46d43\",\"#fdae61\",\"#fee08b\",\"#e6f598\",\"#abdda4\",\"#66c2a5\",\"#3288bd\"]\n",
    ")\n",
    "\n",
    "display(radial)\n",
    "print(\"✅ Widget creado con datos limpios!\")"
   ]
  },
  {
   "cell_type": "code",
   "execution_count": 16,
   "id": "9ba9afa5-5a96-451e-8d1a-14d1d2d7b897",
   "metadata": {},
   "outputs": [
    {
     "data": {
      "application/vnd.jupyter.widget-view+json": {
       "model_id": "dfb8667099b6471aa520b8515ff5fd00",
       "version_major": 2,
       "version_minor": 0
      },
      "text/plain": [
       "WorldRenewable(data={'years': ['F2000', 'F2001', 'F2002', 'F2003', 'F2004', 'F2005', 'F2006', 'F2007', 'F2008'…"
      ]
     },
     "metadata": {},
     "output_type": "display_data"
    },
    {
     "name": "stdout",
     "output_type": "stream",
     "text": [
      "✅ WorldRenewable widget created successfully!\n"
     ]
    }
   ],
   "source": [
    "# ========== WorldRenewable Widget (AnyWidget Version) ==========\n",
    "from Isea import WorldRenewable\n",
    "from IPython.display import display\n",
    "import pandas as pd\n",
    "\n",
    "# Prepare data with Technology_std column\n",
    "df_world = pd.read_csv(\"Isea/Energy_clean.csv\")\n",
    "year_cols = [c for c in df_world.columns if c.startswith(\"F\")]\n",
    "for c in year_cols: \n",
    "    df_world[c] = pd.to_numeric(df_world[c], errors=\"coerce\")\n",
    "\n",
    "# Add Technology_std mapping\n",
    "tech_map = {\n",
    "    \"Hydropower (excl. Pumped Storage)\": \"Hydro\",\n",
    "    \"Solar energy\": \"Solar\",\n",
    "    \"Wind energy\": \"Wind\",\n",
    "    \"Bioenergy\": \"Bio\",\n",
    "    \"Fossil fuels\": \"Fossil\",\n",
    "}\n",
    "df_world[\"Technology_std\"] = df_world[\"Technology\"].map(tech_map).fillna(df_world[\"Technology\"])\n",
    "\n",
    "# Create the widget\n",
    "world_widget = WorldRenewable(\n",
    "    df=df_world,\n",
    "    year_cols=year_cols,\n",
    "    country_col=\"Country\",\n",
    "    iso3_col=\"ISO3\",\n",
    "    tech_col=\"Technology_std\",\n",
    "    start_year=\"F2023\",  # Start at the most recent year\n",
    "    width=1200,\n",
    "    height=660,\n",
    "    normalize=False\n",
    ")\n",
    "\n",
    "display(world_widget)\n",
    "print(\"✅ WorldRenewable widget created successfully!\")\n",
    "\n",
    "# Add observer to track selection\n",
    "def on_world_selection(change):\n",
    "    sel = change[\"new\"]\n",
    "    if sel and sel.get(\"iso3\"):\n",
    "        year = sel.get('year', 'N/A')\n",
    "        value = sel.get('value')\n",
    "        value_str = f\"{value:.1%}\" if value is not None else \"N/A\"\n",
    "        print(f\"Selected: {sel['name']} ({sel['iso3']}) - Year {year} - Renewable: {value_str}\")\n",
    "\n",
    "world_widget.observe(on_world_selection, names=\"selection\")"
   ]
  },
  {
   "cell_type": "markdown",
   "id": "97752308",
   "metadata": {},
   "source": [
    "Final code parallel"
   ]
  },
  {
   "cell_type": "code",
   "execution_count": 1,
   "id": "fb46b4d9",
   "metadata": {},
   "outputs": [
    {
     "data": {
      "application/vnd.jupyter.widget-view+json": {
       "model_id": "054fa4b6ff0947ef970acce22d204316",
       "version_major": 2,
       "version_minor": 0
      },
      "text/plain": [
       "EnergyQuad(data={'years': ['F2000', 'F2001', 'F2002', 'F2003', 'F2004', 'F2005', 'F2006', 'F2007', 'F2008', 'F…"
      ]
     },
     "metadata": {},
     "output_type": "display_data"
    }
   ],
   "source": [
    "import importlib, Isea\n",
    "importlib.reload(Isea)\n",
    "\n",
    "import pandas as pd\n",
    "from Isea import EnergyQuad\n",
    "\n",
    "df = pd.read_csv(\"Isea/Energy_clean.csv\")\n",
    "\n",
    "years = [c for c in df.columns if c.startswith(\"F\")]\n",
    "tech_map = {\n",
    "    \"Hydropower (excl. Pumped Storage)\": \"Hydro\",\n",
    "    \"Solar energy\": \"Solar\",\n",
    "    \"Wind energy\": \"Wind\",\n",
    "    \"Bioenergy\": \"Bio\",\n",
    "    \"Fossil fuels\": \"Fossil\",\n",
    "}\n",
    "df[\"Technology_std\"] = df[\"Technology\"].map(tech_map).fillna(df[\"Technology\"])\n",
    "\n",
    "dash = EnergyQuad(\n",
    "    df, years,\n",
    "    tech_col=\"Technology_std\", label_col=\"Country\",\n",
    "    dims=(\"Fossil\",\"Solar\",\"Hydro\",\"Wind\",\"Bio\"),\n",
    "    year_start=\"F2023\",\n",
    "    width=1180, left_width=720,   # balancea columnas\n",
    "    left_height=460, table_height=190,\n",
    "    right_width=440, insight_height=230, mini_height=260,\n",
    "    log_axes=False, normalize=False, reorder=True\n",
    ")\n",
    "dash\n",
    "\n"
   ]
  },
  {
   "cell_type": "code",
   "execution_count": 3,
   "id": "db7bb425",
   "metadata": {},
   "outputs": [
    {
     "data": {
      "text/html": [
       "<div>\n",
       "<style scoped>\n",
       "    .dataframe tbody tr th:only-of-type {\n",
       "        vertical-align: middle;\n",
       "    }\n",
       "\n",
       "    .dataframe tbody tr th {\n",
       "        vertical-align: top;\n",
       "    }\n",
       "\n",
       "    .dataframe thead th {\n",
       "        text-align: right;\n",
       "    }\n",
       "</style>\n",
       "<table border=\"1\" class=\"dataframe\">\n",
       "  <thead>\n",
       "    <tr style=\"text-align: right;\">\n",
       "      <th></th>\n",
       "      <th>Country</th>\n",
       "      <th>Year</th>\n",
       "      <th>Fossil</th>\n",
       "      <th>Solar</th>\n",
       "      <th>Hydro</th>\n",
       "      <th>Wind</th>\n",
       "      <th>Bio</th>\n",
       "      <th>DominantTech</th>\n",
       "    </tr>\n",
       "  </thead>\n",
       "  <tbody>\n",
       "    <tr>\n",
       "      <th>0</th>\n",
       "      <td>France</td>\n",
       "      <td>F2023</td>\n",
       "      <td>18499.104</td>\n",
       "      <td>20551.293</td>\n",
       "      <td>24139.006</td>\n",
       "      <td>20810.575</td>\n",
       "      <td>2187.252</td>\n",
       "      <td>Hydro</td>\n",
       "    </tr>\n",
       "    <tr>\n",
       "      <th>1</th>\n",
       "      <td>India</td>\n",
       "      <td>F2023</td>\n",
       "      <td>0.000</td>\n",
       "      <td>73109.342</td>\n",
       "      <td>47335.995</td>\n",
       "      <td>44736.240</td>\n",
       "      <td>10752.414</td>\n",
       "      <td>Solar</td>\n",
       "    </tr>\n",
       "    <tr>\n",
       "      <th>2</th>\n",
       "      <td>Italy</td>\n",
       "      <td>F2023</td>\n",
       "      <td>57284.374</td>\n",
       "      <td>29795.318</td>\n",
       "      <td>18847.790</td>\n",
       "      <td>12307.508</td>\n",
       "      <td>3434.457</td>\n",
       "      <td>Fossil</td>\n",
       "    </tr>\n",
       "    <tr>\n",
       "      <th>3</th>\n",
       "      <td>Japan</td>\n",
       "      <td>F2023</td>\n",
       "      <td>0.000</td>\n",
       "      <td>89077.000</td>\n",
       "      <td>28129.000</td>\n",
       "      <td>5343.000</td>\n",
       "      <td>5805.000</td>\n",
       "      <td>Solar</td>\n",
       "    </tr>\n",
       "    <tr>\n",
       "      <th>4</th>\n",
       "      <td>Norway</td>\n",
       "      <td>F2023</td>\n",
       "      <td>602.674</td>\n",
       "      <td>665.764</td>\n",
       "      <td>34401.000</td>\n",
       "      <td>5065.000</td>\n",
       "      <td>78.950</td>\n",
       "      <td>Hydro</td>\n",
       "    </tr>\n",
       "    <tr>\n",
       "      <th>5</th>\n",
       "      <td>Russian Federation</td>\n",
       "      <td>F2023</td>\n",
       "      <td>0.000</td>\n",
       "      <td>0.000</td>\n",
       "      <td>50571.000</td>\n",
       "      <td>2517.750</td>\n",
       "      <td>1372.500</td>\n",
       "      <td>Hydro</td>\n",
       "    </tr>\n",
       "    <tr>\n",
       "      <th>6</th>\n",
       "      <td>Spain</td>\n",
       "      <td>F2023</td>\n",
       "      <td>38001.297</td>\n",
       "      <td>31016.274</td>\n",
       "      <td>16808.693</td>\n",
       "      <td>31027.764</td>\n",
       "      <td>1278.630</td>\n",
       "      <td>Fossil</td>\n",
       "    </tr>\n",
       "    <tr>\n",
       "      <th>7</th>\n",
       "      <td>Sweden</td>\n",
       "      <td>F2023</td>\n",
       "      <td>3757.000</td>\n",
       "      <td>3488.000</td>\n",
       "      <td>16399.000</td>\n",
       "      <td>16252.000</td>\n",
       "      <td>4506.500</td>\n",
       "      <td>Hydro</td>\n",
       "    </tr>\n",
       "    <tr>\n",
       "      <th>8</th>\n",
       "      <td>Switzerland</td>\n",
       "      <td>F2023</td>\n",
       "      <td>528.000</td>\n",
       "      <td>5839.920</td>\n",
       "      <td>15279.000</td>\n",
       "      <td>87.000</td>\n",
       "      <td>234.000</td>\n",
       "      <td>Hydro</td>\n",
       "    </tr>\n",
       "    <tr>\n",
       "      <th>9</th>\n",
       "      <td>Türkiye, Rep. of</td>\n",
       "      <td>F2023</td>\n",
       "      <td>47420.199</td>\n",
       "      <td>11292.630</td>\n",
       "      <td>31779.490</td>\n",
       "      <td>11697.160</td>\n",
       "      <td>2001.067</td>\n",
       "      <td>Fossil</td>\n",
       "    </tr>\n",
       "    <tr>\n",
       "      <th>10</th>\n",
       "      <td>Venezuela, Rep. Bolivariana de</td>\n",
       "      <td>F2023</td>\n",
       "      <td>18794.119</td>\n",
       "      <td>0.000</td>\n",
       "      <td>16913.810</td>\n",
       "      <td>0.000</td>\n",
       "      <td>0.000</td>\n",
       "      <td>Fossil</td>\n",
       "    </tr>\n",
       "    <tr>\n",
       "      <th>11</th>\n",
       "      <td>Vietnam</td>\n",
       "      <td>F2023</td>\n",
       "      <td>36762.000</td>\n",
       "      <td>17077.410</td>\n",
       "      <td>22638.800</td>\n",
       "      <td>0.000</td>\n",
       "      <td>407.735</td>\n",
       "      <td>Fossil</td>\n",
       "    </tr>\n",
       "  </tbody>\n",
       "</table>\n",
       "</div>"
      ],
      "text/plain": [
       "                           Country   Year     Fossil      Solar      Hydro  \\\n",
       "0                           France  F2023  18499.104  20551.293  24139.006   \n",
       "1                            India  F2023      0.000  73109.342  47335.995   \n",
       "2                            Italy  F2023  57284.374  29795.318  18847.790   \n",
       "3                            Japan  F2023      0.000  89077.000  28129.000   \n",
       "4                           Norway  F2023    602.674    665.764  34401.000   \n",
       "5               Russian Federation  F2023      0.000      0.000  50571.000   \n",
       "6                            Spain  F2023  38001.297  31016.274  16808.693   \n",
       "7                           Sweden  F2023   3757.000   3488.000  16399.000   \n",
       "8                      Switzerland  F2023    528.000   5839.920  15279.000   \n",
       "9                 Türkiye, Rep. of  F2023  47420.199  11292.630  31779.490   \n",
       "10  Venezuela, Rep. Bolivariana de  F2023  18794.119      0.000  16913.810   \n",
       "11                         Vietnam  F2023  36762.000  17077.410  22638.800   \n",
       "\n",
       "         Wind        Bio DominantTech  \n",
       "0   20810.575   2187.252        Hydro  \n",
       "1   44736.240  10752.414        Solar  \n",
       "2   12307.508   3434.457       Fossil  \n",
       "3    5343.000   5805.000        Solar  \n",
       "4    5065.000     78.950        Hydro  \n",
       "5    2517.750   1372.500        Hydro  \n",
       "6   31027.764   1278.630       Fossil  \n",
       "7   16252.000   4506.500        Hydro  \n",
       "8      87.000    234.000        Hydro  \n",
       "9   11697.160   2001.067       Fossil  \n",
       "10      0.000      0.000       Fossil  \n",
       "11      0.000    407.735       Fossil  "
      ]
     },
     "execution_count": 3,
     "metadata": {},
     "output_type": "execute_result"
    }
   ],
   "source": [
    "dash.selection_df()\n"
   ]
  }
 ],
 "metadata": {
  "kernelspec": {
   "display_name": "base",
   "language": "python",
   "name": "python3"
  },
  "language_info": {
   "codemirror_mode": {
    "name": "ipython",
    "version": 3
   },
   "file_extension": ".py",
   "mimetype": "text/x-python",
   "name": "python",
   "nbconvert_exporter": "python",
   "pygments_lexer": "ipython3",
   "version": "3.11.7"
  }
 },
 "nbformat": 4,
 "nbformat_minor": 5
}
