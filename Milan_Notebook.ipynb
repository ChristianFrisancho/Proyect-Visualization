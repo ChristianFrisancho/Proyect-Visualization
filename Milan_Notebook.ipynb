{
 "cells": [
  {
   "cell_type": "code",
   "execution_count": 1,
   "id": "92760e4d-9211-4a42-9a2f-982ea830a439",
   "metadata": {},
   "outputs": [
    {
     "data": {
      "application/vnd.jupyter.widget-view+json": {
       "model_id": "4b9f7431b932441c89dd1cabc5c886e9",
       "version_major": 2,
       "version_minor": 1
      },
      "text/plain": [
       "ScatterBrush(data=[{'id': 1, 'x': 1, 'y': 10, 'group': 'A'}, {'id': 2, 'x': 2, 'y': 8, 'group': 'B'}, {'id': 3…"
      ]
     },
     "metadata": {},
     "output_type": "display_data"
    },
    {
     "data": {
      "application/vnd.jupyter.widget-view+json": {
       "model_id": "10103d8490dd44aa90d9fc5e499d60f4",
       "version_major": 2,
       "version_minor": 0
      },
      "text/plain": [
       "Output()"
      ]
     },
     "metadata": {},
     "output_type": "display_data"
    }
   ],
   "source": [
    "from Isea import ScatterBrush\n",
    "from IPython.display import display\n",
    "from ipywidgets import Output\n",
    "import pandas as pd\n",
    "\n",
    "# sample data (note the actual column names)\n",
    "df = pd.DataFrame({\n",
    "    \"id\": [1,2,3,4],\n",
    "    \"x\":  [1,2,3,4],\n",
    "    \"y\":  [10,8,6,9],\n",
    "    \"group\": [\"A\",\"B\",\"A\",\"B\"]   # <-- categorical for color\n",
    "})\n",
    "\n",
    "# instantiate with the CORRECT column names\n",
    "w = ScatterBrush(\n",
    "    df,\n",
    "    x=\"x\", y=\"y\",           # <-- must match df\n",
    "    color=\"group\",          # optional, only if it exists\n",
    "    key=\"id\",               # optional; defaults to a stable id anyway\n",
    "    title=\"My Scatter\", x_label=\"X\", y_label=\"Y\",\n",
    "    width=720, height=420\n",
    ")\n",
    "display(w)\n",
    "\n",
    "# show selection live below the chart\n",
    "out = Output()\n",
    "def on_sel(change):\n",
    "    sel = change[\"new\"]\n",
    "    with out:\n",
    "        out.clear_output()\n",
    "        if sel.get(\"type\"):\n",
    "            rows = sel.get(\"rows\", [])\n",
    "            print(f\"{sel['type']} selection — {len(rows)} points\")\n",
    "            display(pd.DataFrame(rows))\n",
    "        else:\n",
    "            print(\"Selection cleared\")\n",
    "w.observe(on_sel, names=\"selection\")\n",
    "display(out)\n"
   ]
  },
  {
   "cell_type": "code",
   "execution_count": 2,
   "id": "b8050e31",
   "metadata": {},
   "outputs": [
    {
     "data": {
      "application/vnd.jupyter.widget-view+json": {
       "model_id": "10103d8490dd44aa90d9fc5e499d60f4",
       "version_major": 2,
       "version_minor": 0
      },
      "text/plain": [
       "Output()"
      ]
     },
     "metadata": {},
     "output_type": "display_data"
    }
   ],
   "source": [
    "display (out)"
   ]
  }
 ],
 "metadata": {
  "kernelspec": {
   "display_name": "venv",
   "language": "python",
   "name": "python3"
  },
  "language_info": {
   "codemirror_mode": {
    "name": "ipython",
    "version": 3
   },
   "file_extension": ".py",
   "mimetype": "text/x-python",
   "name": "python",
   "nbconvert_exporter": "python",
   "pygments_lexer": "ipython3",
   "version": "3.11.13"
  }
 },
 "nbformat": 4,
 "nbformat_minor": 5
}
