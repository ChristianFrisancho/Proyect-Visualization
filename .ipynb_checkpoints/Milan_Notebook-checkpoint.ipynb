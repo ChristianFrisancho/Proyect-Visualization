{
 "cells": [
  {
   "cell_type": "code",
   "execution_count": 1,
   "id": "325ea3cb",
   "metadata": {},
   "outputs": [
    {
     "data": {
      "application/vnd.jupyter.widget-view+json": {
       "model_id": "7c168fc3a960423796e89be5e043e598",
       "version_major": 2,
       "version_minor": 0
      },
      "text/plain": [
       "IntSlider(value=0)"
      ]
     },
     "execution_count": 1,
     "metadata": {},
     "output_type": "execute_result"
    }
   ],
   "source": [
    "import ipywidgets as widgets\n",
    "widgets.IntSlider()\n"
   ]
  },
  {
   "cell_type": "code",
   "execution_count": 2,
   "id": "bbb4fa7e",
   "metadata": {},
   "outputs": [],
   "source": [
    "# from pathlib import Path\n",
    "# import Isea\n",
    "# print((Path(Isea.__file__).parent / \"assets\" / \"scatter.js\").exists())\n"
   ]
  },
  {
   "cell_type": "code",
   "execution_count": 3,
   "id": "aac9c647",
   "metadata": {},
   "outputs": [
    {
     "name": "stdout",
     "output_type": "stream",
     "text": [
      "<class 'Isea.scatter.ScatterBrush2'> <class 'traitlets.traitlets.MetaHasTraits'>\n",
      "ScatterBrush2 True 4109\n"
     ]
    }
   ],
   "source": [
    "from Isea.scatter import ScatterBrush2\n",
    "print(ScatterBrush2, type(ScatterBrush2))\n",
    "w = ScatterBrush2(data=[])\n",
    "print(type(w).__name__, hasattr(w, \"_esm\"), len(w._esm))\n"
   ]
  },
  {
   "cell_type": "code",
   "execution_count": 4,
   "id": "ea7d21bc",
   "metadata": {},
   "outputs": [
    {
     "data": {
      "application/vnd.jupyter.widget-view+json": {
       "model_id": "8ad949d538c748269ee8361b1ac8a108",
       "version_major": 2,
       "version_minor": 1
      },
      "text/plain": [
       "ScatterBrush2()"
      ]
     },
     "metadata": {},
     "output_type": "display_data"
    }
   ],
   "source": [
    "from Isea.scatter import ScatterBrush2\n",
    "from IPython.display import display\n",
    "w = ScatterBrush2(data=[])\n",
    "display(w)\n"
   ]
  },
  {
   "cell_type": "code",
   "execution_count": 5,
   "id": "20881039",
   "metadata": {},
   "outputs": [
    {
     "name": "stdout",
     "output_type": "stream",
     "text": [
      "anywidget: 0.9.18\n"
     ]
    },
    {
     "data": {
      "application/vnd.jupyter.widget-view+json": {
       "model_id": "07bfb58ee04445c49946a8d1b8fb68f6",
       "version_major": 2,
       "version_minor": 1
      },
      "text/plain": [
       "AnyWidget()"
      ]
     },
     "metadata": {},
     "output_type": "display_data"
    }
   ],
   "source": [
    "import anywidget, ipywidgets\n",
    "print(\"anywidget:\", anywidget.__version__)\n",
    "ipywidgets.IntSlider()  # should render (you already saw this)\n",
    "\n",
    "w = anywidget.AnyWidget()\n",
    "w._esm = \"export default function render({el}){ el.innerHTML = '<div>AnyWidget works ✅</div>'; }\"\n",
    "display(w)\n"
   ]
  },
  {
   "cell_type": "code",
   "execution_count": 6,
   "id": "611112c8",
   "metadata": {},
   "outputs": [
    {
     "name": "stdout",
     "output_type": "stream",
     "text": [
      "class -> <class 'Isea.scatter.ScatterBrush2'> <class 'traitlets.traitlets.MetaHasTraits'>\n",
      "esm present & length: True 4109\n"
     ]
    },
    {
     "data": {
      "application/vnd.jupyter.widget-view+json": {
       "model_id": "47b8effa19944f4f87ab6fb798e2c467",
       "version_major": 2,
       "version_minor": 1
      },
      "text/plain": [
       "ScatterBrush2()"
      ]
     },
     "metadata": {},
     "output_type": "display_data"
    }
   ],
   "source": [
    "from Isea.scatter import ScatterBrush2\n",
    "print(\"class ->\", ScatterBrush2, type(ScatterBrush2))\n",
    "\n",
    "w = ScatterBrush2(data=[])\n",
    "print(\"esm present & length:\", hasattr(w, \"_esm\"), len(w._esm))\n",
    "\n",
    "# Force a trivial renderer into THIS instance\n",
    "w._esm = \"export default function render({el}){ el.innerHTML = '<div style=\\\"padding:8px\\\">ScatterBrush2 alive ✅</div>'; }\"\n",
    "display(w)\n"
   ]
  },
  {
   "cell_type": "code",
   "execution_count": 7,
   "id": "a9d7c23d",
   "metadata": {},
   "outputs": [
    {
     "data": {
      "application/vnd.jupyter.widget-view+json": {
       "model_id": "321e62fe78394df5a3fe9b3265d503d3",
       "version_major": 2,
       "version_minor": 1
      },
      "text/plain": [
       "TestW(msg='hi')"
      ]
     },
     "metadata": {},
     "output_type": "display_data"
    }
   ],
   "source": [
    "import anywidget, traitlets as T\n",
    "from IPython.display import display\n",
    "\n",
    "class TestW(anywidget.AnyWidget):\n",
    "    msg = T.Unicode(\"\").tag(sync=True)\n",
    "    def __init__(self):\n",
    "        super().__init__()\n",
    "        self._esm = \"export default function render({el, model}){ el.innerHTML = '<div style=\\\"padding:6px;border:1px solid #ddd\\\">inline subclass OK ✅ ' + (model.get('msg')||'') + '</div>'; }\"\n",
    "        self.msg = \"hi\"\n",
    "\n",
    "tw = TestW()\n",
    "display(tw)\n"
   ]
  },
  {
   "cell_type": "code",
   "execution_count": 8,
   "id": "68ef5b37",
   "metadata": {},
   "outputs": [
    {
     "data": {
      "application/vnd.jupyter.widget-view+json": {
       "model_id": "342773e19512410e9a305ca618ad7c86",
       "version_major": 2,
       "version_minor": 1
      },
      "text/plain": [
       "ScatterBrush2(data=[{'id': 1, 'x': 1, 'y': 10}, {'id': 2, 'x': 2, 'y': 8}, {'id': 3, 'x': 3, 'y': 6}, {'id': 4…"
      ]
     },
     "metadata": {},
     "output_type": "display_data"
    }
   ],
   "source": [
    "from Isea.scatter import ScatterBrush2\n",
    "from IPython.display import display\n",
    "import pandas as pd\n",
    "\n",
    "df = pd.DataFrame({\"id\":[1,2,3,4], \"x\":[1,2,3,4], \"y\":[10,8,6,9]})\n",
    "w = ScatterBrush2(data=df.to_dict(\"records\"), x=\"x\", y=\"y\", width=600, height=360)\n",
    "display(w)\n",
    "\n",
    "def on_sel(change):\n",
    "    print(\"Selection from JS →\", change[\"new\"])\n",
    "\n",
    "w.observe(on_sel, names=\"selection\")\n",
    "    "
   ]
  },
  {
   "cell_type": "code",
   "execution_count": 9,
   "id": "36bdacfe",
   "metadata": {},
   "outputs": [
    {
     "data": {
      "application/vnd.jupyter.widget-view+json": {
       "model_id": "342773e19512410e9a305ca618ad7c86",
       "version_major": 2,
       "version_minor": 1
      },
      "text/plain": [
       "ScatterBrush2(data=[{'id': 1, 'x': 1, 'y': 10}, {'id': 2, 'x': 2, 'y': 8}, {'id': 3, 'x': 3, 'y': 6}, {'id': 4…"
      ]
     },
     "metadata": {},
     "output_type": "display_data"
    }
   ],
   "source": [
    "from IPython.display import display\n",
    "display(w)\n"
   ]
  },
  {
   "cell_type": "code",
   "execution_count": 10,
   "id": "9fe3bbcb",
   "metadata": {},
   "outputs": [
    {
     "data": {
      "application/vnd.jupyter.widget-view+json": {
       "model_id": "e2a6c47a54a54677a4b703958e5a3053",
       "version_major": 2,
       "version_minor": 1
      },
      "text/plain": [
       "ScatterBrush2()"
      ]
     },
     "metadata": {},
     "output_type": "display_data"
    }
   ],
   "source": [
    "from Isea.scatter import ScatterBrush2\n",
    "w = ScatterBrush2(data=[])\n",
    "w._esm = \"export default function render({el}){ el.innerHTML = '<div style=\\\"padding:8px\\\">hello </div>'; }\"\n",
    "display(w)\n"
   ]
  },
  {
   "cell_type": "code",
   "execution_count": 11,
   "id": "dd14e672",
   "metadata": {},
   "outputs": [
    {
     "data": {
      "application/vnd.jupyter.widget-view+json": {
       "model_id": "82ec894c9ee94d12aae2500090ae4390",
       "version_major": 2,
       "version_minor": 1
      },
      "text/plain": [
       "AnyWidget(data=[{'id': 1, 'x': 1, 'y': 10}, {'id': 2, 'x': 2, 'y': 8}, {'id': 3, 'x': 3, 'y': 6}, {'id': 4, 'x…"
      ]
     },
     "metadata": {},
     "output_type": "display_data"
    }
   ],
   "source": [
    "from Isea.scatter_factory import ScatterBrush2        # ← factory (not class)\n",
    "from IPython.display import display\n",
    "import pandas as pd\n",
    "\n",
    "df = pd.DataFrame({\"id\":[1,2,3,4], \"x\":[1,2,3,4], \"y\":[10,8,6,9]})\n",
    "w = ScatterBrush2(data=df.to_dict(\"records\"), x=\"x\", y=\"y\", width=600, height=360)\n",
    "display(w)\n"
   ]
  },
  {
   "cell_type": "code",
   "execution_count": 13,
   "id": "9093a91b",
   "metadata": {},
   "outputs": [
    {
     "data": {
      "application/vnd.jupyter.widget-view+json": {
       "model_id": "306d2745cd5643ecaed30977dc86b430",
       "version_major": 2,
       "version_minor": 1
      },
      "text/plain": [
       "AnyWidget()"
      ]
     },
     "metadata": {},
     "output_type": "display_data"
    }
   ],
   "source": [
    "import anywidget, traitlets as T\n",
    "from IPython.display import display\n",
    "\n",
    "def SB2_inline(data, **options):\n",
    "    w = anywidget.AnyWidget()\n",
    "    w.add_traits(\n",
    "        data=T.List(default_value=[]).tag(sync=True),\n",
    "        options=T.Dict(default_value={}).tag(sync=True),\n",
    "        selection=T.Dict(default_value={}).tag(sync=True),\n",
    "    )\n",
    "    w._esm = \"export default function render({el, model}) { el.innerHTML = `<div style='padding:8px;border:1px solid #ddd'>BOOT ✅ rows: ${(model.get('data')||[]).length}</div>` }\"\n",
    "    w.data = data\n",
    "    w.options = options\n",
    "    w.selection = {}\n",
    "    return w\n",
    "\n",
    "w = SB2_inline([])\n",
    "display(w)\n"
   ]
  },
  {
   "cell_type": "code",
   "execution_count": 1,
   "id": "4b32c479-d2d1-476a-8854-f679163edfd9",
   "metadata": {},
   "outputs": [
    {
     "data": {
      "application/vnd.jupyter.widget-view+json": {
       "model_id": "88690b07e3054b4a85d653928b81d331",
       "version_major": 2,
       "version_minor": 1
      },
      "text/plain": [
       "AnyWidget()"
      ]
     },
     "metadata": {},
     "output_type": "display_data"
    }
   ],
   "source": [
    "from Isea.scatter_factory import ScatterBrush2\n",
    "from IPython.display import display\n",
    "\n",
    "w = ScatterBrush2(data=[])\n",
    "display(w)\n"
   ]
  },
  {
   "cell_type": "code",
   "execution_count": 1,
   "id": "7bf75db4-bae8-4249-bf71-a0ddb4ae2456",
   "metadata": {},
   "outputs": [
    {
     "data": {
      "application/vnd.jupyter.widget-view+json": {
       "model_id": "4cff34c45a5b4e6ea4f05f6f1d41bbb9",
       "version_major": 2,
       "version_minor": 1
      },
      "text/plain": [
       "AnyWidget(data=[{'id': 1, 'x': 1, 'y': 10}, {'id': 2, 'x': 2, 'y': 8}, {'id': 3, 'x': 3, 'y': 6}, {'id': 4, 'x…"
      ]
     },
     "metadata": {},
     "output_type": "display_data"
    }
   ],
   "source": [
    "from Isea.scatter_factory import ScatterBrush2\n",
    "from IPython.display import display\n",
    "import pandas as pd\n",
    "\n",
    "df = pd.DataFrame({\"id\":[1,2,3,4], \"x\":[1,2,3,4], \"y\":[10,8,6,9]})\n",
    "w = ScatterBrush2(df, x=\"x\", y=\"y\", width=600, height=360)  # pass the DF; factory will convert\n",
    "display(w)\n",
    "\n",
    "def on_sel(change):\n",
    "    print(\"Selection from JS →\", change[\"new\"])\n",
    "w.observe(on_sel, names=\"selection\")\n"
   ]
  },
  {
   "cell_type": "code",
   "execution_count": null,
   "id": "89e60779-8f00-47d8-930c-7b6fb07d4f30",
   "metadata": {},
   "outputs": [],
   "source": []
  },
  {
   "cell_type": "code",
   "execution_count": null,
   "id": "92760e4d-9211-4a42-9a2f-982ea830a439",
   "metadata": {},
   "outputs": [],
   "source": [
    "from Isea.scatter_factory import ScatterBrush2\n",
    "from IPython.display import display\n",
    "import pandas as pd\n",
    "\n",
    "df = pd.DataFrame({\"id\":[1,2,3,4], \"x\":[1,2,3,4], \"y\":[10,8,6,9]})\n",
    "w = ScatterBrush2(df, x=\"x\", y=\"y\", width=700, height=420)\n",
    "display(w)\n",
    "\n",
    "def on_sel(change):\n",
    "    print(\"Selection from JS →\", change[\"new\"])\n",
    "w.observe(on_sel, names=\"selection\")\n"
   ]
  }
 ],
 "metadata": {
  "kernelspec": {
   "display_name": "Python 3 (ipykernel)",
   "language": "python",
   "name": "python3"
  },
  "language_info": {
   "codemirror_mode": {
    "name": "ipython",
    "version": 3
   },
   "file_extension": ".py",
   "mimetype": "text/x-python",
   "name": "python",
   "nbconvert_exporter": "python",
   "pygments_lexer": "ipython3",
   "version": "3.11.13"
  }
 },
 "nbformat": 4,
 "nbformat_minor": 5
}
