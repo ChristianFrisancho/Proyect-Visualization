{
 "cells": [
  {
   "cell_type": "code",
   "execution_count": 20,
   "id": "c7522b4a",
   "metadata": {},
   "outputs": [
    {
     "name": "stdout",
     "output_type": "stream",
     "text": [
      "The autoreload extension is already loaded. To reload it, use:\n",
      "  %reload_ext autoreload\n"
     ]
    }
   ],
   "source": [
    "%load_ext autoreload\n",
    "%autoreload 2\n"
   ]
  },
  {
   "cell_type": "code",
   "execution_count": 21,
   "id": "8017b5f4",
   "metadata": {},
   "outputs": [
    {
     "data": {
      "text/html": [
       "\n",
       "<div id=\"sc-e60903f9\" class=\"vis\"></div>\n",
       "<div id=\"sc-e60903f9-status\" class=\"status\">Cargando…</div>\n",
       "<style>\n",
       "  .vis { width: 100%; min-height: 80px; }\n",
       "  .status { font-size:12px; color:#64748b; margin:6px 2px; }\n",
       "  .axis path, .axis line { shape-rendering: crispEdges; }\n",
       "</style>\n"
      ],
      "text/plain": [
       "<IPython.core.display.HTML object>"
      ]
     },
     "metadata": {},
     "output_type": "display_data"
    },
    {
     "data": {
      "application/javascript": "\n(async () => {\n  const status = document.getElementById('sc-e60903f9-status');\n  try {\n    // D3 como módulo ESM\n    const mod = await import('https://cdn.jsdelivr.net/npm/d3@7/+esm');\n    const d3  = mod.default ?? mod;\n\n    const mount = document.getElementById('sc-e60903f9');\n    mount.innerHTML = ''; // limpiar por re-ejecución\n\n    const data  = [{\"horsepower\": 130.0, \"weight\": 3504, \"origin\": \"usa\"}, {\"horsepower\": 165.0, \"weight\": 3693, \"origin\": \"usa\"}, {\"horsepower\": 150.0, \"weight\": 3436, \"origin\": \"usa\"}, {\"horsepower\": 150.0, \"weight\": 3433, \"origin\": \"usa\"}, {\"horsepower\": 140.0, \"weight\": 3449, \"origin\": \"usa\"}, {\"horsepower\": 198.0, \"weight\": 4341, \"origin\": \"usa\"}, {\"horsepower\": 220.0, \"weight\": 4354, \"origin\": \"usa\"}, {\"horsepower\": 215.0, \"weight\": 4312, \"origin\": \"usa\"}, {\"horsepower\": 225.0, \"weight\": 4425, \"origin\": \"usa\"}, {\"horsepower\": 190.0, \"weight\": 3850, \"origin\": \"usa\"}, {\"horsepower\": 170.0, \"weight\": 3563, \"origin\": \"usa\"}, {\"horsepower\": 160.0, \"weight\": 3609, \"origin\": \"usa\"}, {\"horsepower\": 150.0, \"weight\": 3761, \"origin\": \"usa\"}, {\"horsepower\": 225.0, \"weight\": 3086, \"origin\": \"usa\"}, {\"horsepower\": 95.0, \"weight\": 2372, \"origin\": \"japan\"}, {\"horsepower\": 95.0, \"weight\": 2833, \"origin\": \"usa\"}, {\"horsepower\": 97.0, \"weight\": 2774, \"origin\": \"usa\"}, {\"horsepower\": 85.0, \"weight\": 2587, \"origin\": \"usa\"}, {\"horsepower\": 88.0, \"weight\": 2130, \"origin\": \"japan\"}, {\"horsepower\": 46.0, \"weight\": 1835, \"origin\": \"europe\"}, {\"horsepower\": 87.0, \"weight\": 2672, \"origin\": \"europe\"}, {\"horsepower\": 90.0, \"weight\": 2430, \"origin\": \"europe\"}, {\"horsepower\": 95.0, \"weight\": 2375, \"origin\": \"europe\"}, {\"horsepower\": 113.0, \"weight\": 2234, \"origin\": \"europe\"}, {\"horsepower\": 90.0, \"weight\": 2648, \"origin\": \"usa\"}, {\"horsepower\": 215.0, \"weight\": 4615, \"origin\": \"usa\"}, {\"horsepower\": 200.0, \"weight\": 4376, \"origin\": \"usa\"}, {\"horsepower\": 210.0, \"weight\": 4382, \"origin\": \"usa\"}, {\"horsepower\": 193.0, \"weight\": 4732, \"origin\": \"usa\"}, {\"horsepower\": 88.0, \"weight\": 2130, \"origin\": \"japan\"}, {\"horsepower\": 90.0, \"weight\": 2264, \"origin\": \"usa\"}, {\"horsepower\": 95.0, \"weight\": 2228, \"origin\": \"japan\"}, {\"horsepower\": 100.0, \"weight\": 2634, \"origin\": \"usa\"}, {\"horsepower\": 105.0, \"weight\": 3439, \"origin\": \"usa\"}, {\"horsepower\": 100.0, \"weight\": 3329, \"origin\": \"usa\"}, {\"horsepower\": 88.0, \"weight\": 3302, \"origin\": \"usa\"}, {\"horsepower\": 100.0, \"weight\": 3288, \"origin\": \"usa\"}, {\"horsepower\": 165.0, \"weight\": 4209, \"origin\": \"usa\"}, {\"horsepower\": 175.0, \"weight\": 4464, \"origin\": \"usa\"}, {\"horsepower\": 153.0, \"weight\": 4154, \"origin\": \"usa\"}, {\"horsepower\": 150.0, \"weight\": 4096, \"origin\": \"usa\"}, {\"horsepower\": 180.0, \"weight\": 4955, \"origin\": \"usa\"}, {\"horsepower\": 170.0, \"weight\": 4746, \"origin\": \"usa\"}, {\"horsepower\": 175.0, \"weight\": 5140, \"origin\": \"usa\"}, {\"horsepower\": 110.0, \"weight\": 2962, \"origin\": \"usa\"}, {\"horsepower\": 72.0, \"weight\": 2408, \"origin\": \"usa\"}, {\"horsepower\": 100.0, \"weight\": 3282, \"origin\": \"usa\"}, {\"horsepower\": 88.0, \"weight\": 3139, \"origin\": \"usa\"}, {\"horsepower\": 86.0, \"weight\": 2220, \"origin\": \"usa\"}, {\"horsepower\": 90.0, \"weight\": 2123, \"origin\": \"europe\"}, {\"horsepower\": 70.0, \"weight\": 2074, \"origin\": \"europe\"}, {\"horsepower\": 76.0, \"weight\": 2065, \"origin\": \"europe\"}, {\"horsepower\": 65.0, \"weight\": 1773, \"origin\": \"japan\"}, {\"horsepower\": 69.0, \"weight\": 1613, \"origin\": \"japan\"}, {\"horsepower\": 60.0, \"weight\": 1834, \"origin\": \"europe\"}, {\"horsepower\": 70.0, \"weight\": 1955, \"origin\": \"usa\"}, {\"horsepower\": 95.0, \"weight\": 2278, \"origin\": \"japan\"}, {\"horsepower\": 80.0, \"weight\": 2126, \"origin\": \"usa\"}, {\"horsepower\": 54.0, \"weight\": 2254, \"origin\": \"europe\"}, {\"horsepower\": 90.0, \"weight\": 2408, \"origin\": \"usa\"}, {\"horsepower\": 86.0, \"weight\": 2226, \"origin\": \"usa\"}, {\"horsepower\": 165.0, \"weight\": 4274, \"origin\": \"usa\"}, {\"horsepower\": 175.0, \"weight\": 4385, \"origin\": \"usa\"}, {\"horsepower\": 150.0, \"weight\": 4135, \"origin\": \"usa\"}, {\"horsepower\": 153.0, \"weight\": 4129, \"origin\": \"usa\"}, {\"horsepower\": 150.0, \"weight\": 3672, \"origin\": \"usa\"}, {\"horsepower\": 208.0, \"weight\": 4633, \"origin\": \"usa\"}, {\"horsepower\": 155.0, \"weight\": 4502, \"origin\": \"usa\"}, {\"horsepower\": 160.0, \"weight\": 4456, \"origin\": \"usa\"}, {\"horsepower\": 190.0, \"weight\": 4422, \"origin\": \"usa\"}, {\"horsepower\": 97.0, \"weight\": 2330, \"origin\": \"japan\"}, {\"horsepower\": 150.0, \"weight\": 3892, \"origin\": \"usa\"}, {\"horsepower\": 130.0, \"weight\": 4098, \"origin\": \"usa\"}, {\"horsepower\": 140.0, \"weight\": 4294, \"origin\": \"usa\"}, {\"horsepower\": 150.0, \"weight\": 4077, \"origin\": \"usa\"}, {\"horsepower\": 112.0, \"weight\": 2933, \"origin\": \"europe\"}, {\"horsepower\": 76.0, \"weight\": 2511, \"origin\": \"europe\"}, {\"horsepower\": 87.0, \"weight\": 2979, \"origin\": \"europe\"}, {\"horsepower\": 69.0, \"weight\": 2189, \"origin\": \"europe\"}, {\"horsepower\": 86.0, \"weight\": 2395, \"origin\": \"usa\"}, {\"horsepower\": 92.0, \"weight\": 2288, \"origin\": \"japan\"}, {\"horsepower\": 97.0, \"weight\": 2506, \"origin\": \"japan\"}, {\"horsepower\": 80.0, \"weight\": 2164, \"origin\": \"usa\"}, {\"horsepower\": 88.0, \"weight\": 2100, \"origin\": \"japan\"}, {\"horsepower\": 175.0, \"weight\": 4100, \"origin\": \"usa\"}, {\"horsepower\": 150.0, \"weight\": 3672, \"origin\": \"usa\"}, {\"horsepower\": 145.0, \"weight\": 3988, \"origin\": \"usa\"}, {\"horsepower\": 137.0, \"weight\": 4042, \"origin\": \"usa\"}, {\"horsepower\": 150.0, \"weight\": 3777, \"origin\": \"usa\"}, {\"horsepower\": 198.0, \"weight\": 4952, \"origin\": \"usa\"}, {\"horsepower\": 150.0, \"weight\": 4464, \"origin\": \"usa\"}, {\"horsepower\": 158.0, \"weight\": 4363, \"origin\": \"usa\"}, {\"horsepower\": 150.0, \"weight\": 4237, \"origin\": \"usa\"}, {\"horsepower\": 215.0, \"weight\": 4735, \"origin\": \"usa\"}, {\"horsepower\": 225.0, \"weight\": 4951, \"origin\": \"usa\"}, {\"horsepower\": 175.0, \"weight\": 3821, \"origin\": \"usa\"}, {\"horsepower\": 105.0, \"weight\": 3121, \"origin\": \"usa\"}, {\"horsepower\": 100.0, \"weight\": 3278, \"origin\": \"usa\"}, {\"horsepower\": 100.0, \"weight\": 2945, \"origin\": \"usa\"}, {\"horsepower\": 88.0, \"weight\": 3021, \"origin\": \"usa\"}, {\"horsepower\": 95.0, \"weight\": 2904, \"origin\": \"usa\"}, {\"horsepower\": 46.0, \"weight\": 1950, \"origin\": \"europe\"}, {\"horsepower\": 150.0, \"weight\": 4997, \"origin\": \"usa\"}, {\"horsepower\": 167.0, \"weight\": 4906, \"origin\": \"usa\"}, {\"horsepower\": 170.0, \"weight\": 4654, \"origin\": \"usa\"}, {\"horsepower\": 180.0, \"weight\": 4499, \"origin\": \"usa\"}, {\"horsepower\": 100.0, \"weight\": 2789, \"origin\": \"usa\"}, {\"horsepower\": 88.0, \"weight\": 2279, \"origin\": \"japan\"}, {\"horsepower\": 72.0, \"weight\": 2401, \"origin\": \"usa\"}, {\"horsepower\": 94.0, \"weight\": 2379, \"origin\": \"japan\"}, {\"horsepower\": 90.0, \"weight\": 2124, \"origin\": \"japan\"}, {\"horsepower\": 85.0, \"weight\": 2310, \"origin\": \"usa\"}, {\"horsepower\": 107.0, \"weight\": 2472, \"origin\": \"usa\"}, {\"horsepower\": 90.0, \"weight\": 2265, \"origin\": \"europe\"}, {\"horsepower\": 145.0, \"weight\": 4082, \"origin\": \"usa\"}, {\"horsepower\": 230.0, \"weight\": 4278, \"origin\": \"usa\"}, {\"horsepower\": 49.0, \"weight\": 1867, \"origin\": \"europe\"}, {\"horsepower\": 75.0, \"weight\": 2158, \"origin\": \"europe\"}, {\"horsepower\": 91.0, \"weight\": 2582, \"origin\": \"europe\"}, {\"horsepower\": 112.0, \"weight\": 2868, \"origin\": \"europe\"}, {\"horsepower\": 150.0, \"weight\": 3399, \"origin\": \"usa\"}, {\"horsepower\": 110.0, \"weight\": 2660, \"origin\": \"europe\"}, {\"horsepower\": 122.0, \"weight\": 2807, \"origin\": \"japan\"}, {\"horsepower\": 180.0, \"weight\": 3664, \"origin\": \"usa\"}, {\"horsepower\": 95.0, \"weight\": 3102, \"origin\": \"usa\"}, {\"horsepower\": 100.0, \"weight\": 2901, \"origin\": \"usa\"}, {\"horsepower\": 100.0, \"weight\": 3336, \"origin\": \"usa\"}, {\"horsepower\": 67.0, \"weight\": 1950, \"origin\": \"japan\"}, {\"horsepower\": 80.0, \"weight\": 2451, \"origin\": \"usa\"}, {\"horsepower\": 65.0, \"weight\": 1836, \"origin\": \"japan\"}, {\"horsepower\": 75.0, \"weight\": 2542, \"origin\": \"usa\"}, {\"horsepower\": 100.0, \"weight\": 3781, \"origin\": \"usa\"}, {\"horsepower\": 110.0, \"weight\": 3632, \"origin\": \"usa\"}, {\"horsepower\": 105.0, \"weight\": 3613, \"origin\": \"usa\"}, {\"horsepower\": 140.0, \"weight\": 4141, \"origin\": \"usa\"}, {\"horsepower\": 150.0, \"weight\": 4699, \"origin\": \"usa\"}, {\"horsepower\": 150.0, \"weight\": 4457, \"origin\": \"usa\"}, {\"horsepower\": 140.0, \"weight\": 4638, \"origin\": \"usa\"}, {\"horsepower\": 150.0, \"weight\": 4257, \"origin\": \"usa\"}, {\"horsepower\": 83.0, \"weight\": 2219, \"origin\": \"europe\"}, {\"horsepower\": 67.0, \"weight\": 1963, \"origin\": \"europe\"}, {\"horsepower\": 78.0, \"weight\": 2300, \"origin\": \"europe\"}, {\"horsepower\": 52.0, \"weight\": 1649, \"origin\": \"japan\"}, {\"horsepower\": 61.0, \"weight\": 2003, \"origin\": \"japan\"}, {\"horsepower\": 75.0, \"weight\": 2125, \"origin\": \"usa\"}, {\"horsepower\": 75.0, \"weight\": 2108, \"origin\": \"europe\"}, {\"horsepower\": 75.0, \"weight\": 2246, \"origin\": \"europe\"}, {\"horsepower\": 97.0, \"weight\": 2489, \"origin\": \"japan\"}, {\"horsepower\": 93.0, \"weight\": 2391, \"origin\": \"japan\"}, {\"horsepower\": 67.0, \"weight\": 2000, \"origin\": \"europe\"}, {\"horsepower\": 95.0, \"weight\": 3264, \"origin\": \"usa\"}, {\"horsepower\": 105.0, \"weight\": 3459, \"origin\": \"usa\"}, {\"horsepower\": 72.0, \"weight\": 3432, \"origin\": \"usa\"}, {\"horsepower\": 72.0, \"weight\": 3158, \"origin\": \"usa\"}, {\"horsepower\": 170.0, \"weight\": 4668, \"origin\": \"usa\"}, {\"horsepower\": 145.0, \"weight\": 4440, \"origin\": \"usa\"}, {\"horsepower\": 150.0, \"weight\": 4498, \"origin\": \"usa\"}, {\"horsepower\": 148.0, \"weight\": 4657, \"origin\": \"usa\"}, {\"horsepower\": 110.0, \"weight\": 3907, \"origin\": \"usa\"}, {\"horsepower\": 105.0, \"weight\": 3897, \"origin\": \"usa\"}, {\"horsepower\": 110.0, \"weight\": 3730, \"origin\": \"usa\"}, {\"horsepower\": 95.0, \"weight\": 3785, \"origin\": \"usa\"}, {\"horsepower\": 110.0, \"weight\": 3039, \"origin\": \"usa\"}, {\"horsepower\": 110.0, \"weight\": 3221, \"origin\": \"usa\"}, {\"horsepower\": 129.0, \"weight\": 3169, \"origin\": \"usa\"}, {\"horsepower\": 75.0, \"weight\": 2171, \"origin\": \"japan\"}, {\"horsepower\": 83.0, \"weight\": 2639, \"origin\": \"usa\"}, {\"horsepower\": 100.0, \"weight\": 2914, \"origin\": \"usa\"}, {\"horsepower\": 78.0, \"weight\": 2592, \"origin\": \"usa\"}, {\"horsepower\": 96.0, \"weight\": 2702, \"origin\": \"japan\"}, {\"horsepower\": 71.0, \"weight\": 2223, \"origin\": \"europe\"}, {\"horsepower\": 97.0, \"weight\": 2545, \"origin\": \"japan\"}, {\"horsepower\": 97.0, \"weight\": 2984, \"origin\": \"usa\"}, {\"horsepower\": 70.0, \"weight\": 1937, \"origin\": \"europe\"}, {\"horsepower\": 90.0, \"weight\": 3211, \"origin\": \"usa\"}, {\"horsepower\": 95.0, \"weight\": 2694, \"origin\": \"europe\"}, {\"horsepower\": 88.0, \"weight\": 2957, \"origin\": \"europe\"}, {\"horsepower\": 98.0, \"weight\": 2945, \"origin\": \"europe\"}, {\"horsepower\": 115.0, \"weight\": 2671, \"origin\": \"europe\"}, {\"horsepower\": 53.0, \"weight\": 1795, \"origin\": \"japan\"}, {\"horsepower\": 86.0, \"weight\": 2464, \"origin\": \"europe\"}, {\"horsepower\": 81.0, \"weight\": 2220, \"origin\": \"europe\"}, {\"horsepower\": 92.0, \"weight\": 2572, \"origin\": \"usa\"}, {\"horsepower\": 79.0, \"weight\": 2255, \"origin\": \"usa\"}, {\"horsepower\": 83.0, \"weight\": 2202, \"origin\": \"europe\"}, {\"horsepower\": 140.0, \"weight\": 4215, \"origin\": \"usa\"}, {\"horsepower\": 150.0, \"weight\": 4190, \"origin\": \"usa\"}, {\"horsepower\": 120.0, \"weight\": 3962, \"origin\": \"usa\"}, {\"horsepower\": 152.0, \"weight\": 4215, \"origin\": \"usa\"}, {\"horsepower\": 100.0, \"weight\": 3233, \"origin\": \"usa\"}, {\"horsepower\": 105.0, \"weight\": 3353, \"origin\": \"usa\"}, {\"horsepower\": 81.0, \"weight\": 3012, \"origin\": \"usa\"}, {\"horsepower\": 90.0, \"weight\": 3085, \"origin\": \"usa\"}, {\"horsepower\": 52.0, \"weight\": 2035, \"origin\": \"usa\"}, {\"horsepower\": 60.0, \"weight\": 2164, \"origin\": \"usa\"}, {\"horsepower\": 70.0, \"weight\": 1937, \"origin\": \"europe\"}, {\"horsepower\": 53.0, \"weight\": 1795, \"origin\": \"japan\"}, {\"horsepower\": 100.0, \"weight\": 3651, \"origin\": \"usa\"}, {\"horsepower\": 78.0, \"weight\": 3574, \"origin\": \"usa\"}, {\"horsepower\": 110.0, \"weight\": 3645, \"origin\": \"usa\"}, {\"horsepower\": 95.0, \"weight\": 3193, \"origin\": \"usa\"}, {\"horsepower\": 71.0, \"weight\": 1825, \"origin\": \"europe\"}, {\"horsepower\": 70.0, \"weight\": 1990, \"origin\": \"japan\"}, {\"horsepower\": 75.0, \"weight\": 2155, \"origin\": \"japan\"}, {\"horsepower\": 72.0, \"weight\": 2565, \"origin\": \"usa\"}, {\"horsepower\": 102.0, \"weight\": 3150, \"origin\": \"europe\"}, {\"horsepower\": 150.0, \"weight\": 3940, \"origin\": \"usa\"}, {\"horsepower\": 88.0, \"weight\": 3270, \"origin\": \"europe\"}, {\"horsepower\": 108.0, \"weight\": 2930, \"origin\": \"japan\"}, {\"horsepower\": 120.0, \"weight\": 3820, \"origin\": \"europe\"}, {\"horsepower\": 180.0, \"weight\": 4380, \"origin\": \"usa\"}, {\"horsepower\": 145.0, \"weight\": 4055, \"origin\": \"usa\"}, {\"horsepower\": 130.0, \"weight\": 3870, \"origin\": \"usa\"}, {\"horsepower\": 150.0, \"weight\": 3755, \"origin\": \"usa\"}, {\"horsepower\": 68.0, \"weight\": 2045, \"origin\": \"japan\"}, {\"horsepower\": 80.0, \"weight\": 2155, \"origin\": \"usa\"}, {\"horsepower\": 58.0, \"weight\": 1825, \"origin\": \"europe\"}, {\"horsepower\": 96.0, \"weight\": 2300, \"origin\": \"usa\"}, {\"horsepower\": 70.0, \"weight\": 1945, \"origin\": \"japan\"}, {\"horsepower\": 145.0, \"weight\": 3880, \"origin\": \"usa\"}, {\"horsepower\": 110.0, \"weight\": 4060, \"origin\": \"usa\"}, {\"horsepower\": 145.0, \"weight\": 4140, \"origin\": \"usa\"}, {\"horsepower\": 130.0, \"weight\": 4295, \"origin\": \"usa\"}, {\"horsepower\": 110.0, \"weight\": 3520, \"origin\": \"usa\"}, {\"horsepower\": 105.0, \"weight\": 3425, \"origin\": \"usa\"}, {\"horsepower\": 100.0, \"weight\": 3630, \"origin\": \"usa\"}, {\"horsepower\": 98.0, \"weight\": 3525, \"origin\": \"usa\"}, {\"horsepower\": 180.0, \"weight\": 4220, \"origin\": \"usa\"}, {\"horsepower\": 170.0, \"weight\": 4165, \"origin\": \"usa\"}, {\"horsepower\": 190.0, \"weight\": 4325, \"origin\": \"usa\"}, {\"horsepower\": 149.0, \"weight\": 4335, \"origin\": \"usa\"}, {\"horsepower\": 78.0, \"weight\": 1940, \"origin\": \"europe\"}, {\"horsepower\": 88.0, \"weight\": 2740, \"origin\": \"usa\"}, {\"horsepower\": 75.0, \"weight\": 2265, \"origin\": \"japan\"}, {\"horsepower\": 89.0, \"weight\": 2755, \"origin\": \"usa\"}, {\"horsepower\": 63.0, \"weight\": 2051, \"origin\": \"usa\"}, {\"horsepower\": 83.0, \"weight\": 2075, \"origin\": \"usa\"}, {\"horsepower\": 67.0, \"weight\": 1985, \"origin\": \"japan\"}, {\"horsepower\": 78.0, \"weight\": 2190, \"origin\": \"europe\"}, {\"horsepower\": 97.0, \"weight\": 2815, \"origin\": \"japan\"}, {\"horsepower\": 110.0, \"weight\": 2600, \"origin\": \"europe\"}, {\"horsepower\": 110.0, \"weight\": 2720, \"origin\": \"japan\"}, {\"horsepower\": 48.0, \"weight\": 1985, \"origin\": \"europe\"}, {\"horsepower\": 66.0, \"weight\": 1800, \"origin\": \"usa\"}, {\"horsepower\": 52.0, \"weight\": 1985, \"origin\": \"japan\"}, {\"horsepower\": 70.0, \"weight\": 2070, \"origin\": \"japan\"}, {\"horsepower\": 60.0, \"weight\": 1800, \"origin\": \"japan\"}, {\"horsepower\": 110.0, \"weight\": 3365, \"origin\": \"usa\"}, {\"horsepower\": 140.0, \"weight\": 3735, \"origin\": \"usa\"}, {\"horsepower\": 139.0, \"weight\": 3570, \"origin\": \"usa\"}, {\"horsepower\": 105.0, \"weight\": 3535, \"origin\": \"usa\"}, {\"horsepower\": 95.0, \"weight\": 3155, \"origin\": \"usa\"}, {\"horsepower\": 85.0, \"weight\": 2965, \"origin\": \"usa\"}, {\"horsepower\": 88.0, \"weight\": 2720, \"origin\": \"usa\"}, {\"horsepower\": 100.0, \"weight\": 3430, \"origin\": \"usa\"}, {\"horsepower\": 90.0, \"weight\": 3210, \"origin\": \"usa\"}, {\"horsepower\": 105.0, \"weight\": 3380, \"origin\": \"usa\"}, {\"horsepower\": 85.0, \"weight\": 3070, \"origin\": \"usa\"}, {\"horsepower\": 110.0, \"weight\": 3620, \"origin\": \"usa\"}, {\"horsepower\": 120.0, \"weight\": 3410, \"origin\": \"usa\"}, {\"horsepower\": 145.0, \"weight\": 3425, \"origin\": \"usa\"}, {\"horsepower\": 165.0, \"weight\": 3445, \"origin\": \"usa\"}, {\"horsepower\": 139.0, \"weight\": 3205, \"origin\": \"usa\"}, {\"horsepower\": 140.0, \"weight\": 4080, \"origin\": \"usa\"}, {\"horsepower\": 68.0, \"weight\": 2155, \"origin\": \"usa\"}, {\"horsepower\": 95.0, \"weight\": 2560, \"origin\": \"japan\"}, {\"horsepower\": 97.0, \"weight\": 2300, \"origin\": \"japan\"}, {\"horsepower\": 75.0, \"weight\": 2230, \"origin\": \"usa\"}, {\"horsepower\": 95.0, \"weight\": 2515, \"origin\": \"japan\"}, {\"horsepower\": 105.0, \"weight\": 2745, \"origin\": \"usa\"}, {\"horsepower\": 85.0, \"weight\": 2855, \"origin\": \"usa\"}, {\"horsepower\": 97.0, \"weight\": 2405, \"origin\": \"japan\"}, {\"horsepower\": 103.0, \"weight\": 2830, \"origin\": \"europe\"}, {\"horsepower\": 125.0, \"weight\": 3140, \"origin\": \"europe\"}, {\"horsepower\": 115.0, \"weight\": 2795, \"origin\": \"europe\"}, {\"horsepower\": 133.0, \"weight\": 3410, \"origin\": \"europe\"}, {\"horsepower\": 71.0, \"weight\": 1990, \"origin\": \"europe\"}, {\"horsepower\": 68.0, \"weight\": 2135, \"origin\": \"japan\"}, {\"horsepower\": 115.0, \"weight\": 3245, \"origin\": \"usa\"}, {\"horsepower\": 85.0, \"weight\": 2990, \"origin\": \"usa\"}, {\"horsepower\": 88.0, \"weight\": 2890, \"origin\": \"usa\"}, {\"horsepower\": 90.0, \"weight\": 3265, \"origin\": \"usa\"}, {\"horsepower\": 110.0, \"weight\": 3360, \"origin\": \"usa\"}, {\"horsepower\": 130.0, \"weight\": 3840, \"origin\": \"usa\"}, {\"horsepower\": 129.0, \"weight\": 3725, \"origin\": \"usa\"}, {\"horsepower\": 138.0, \"weight\": 3955, \"origin\": \"usa\"}, {\"horsepower\": 135.0, \"weight\": 3830, \"origin\": \"usa\"}, {\"horsepower\": 155.0, \"weight\": 4360, \"origin\": \"usa\"}, {\"horsepower\": 142.0, \"weight\": 4054, \"origin\": \"usa\"}, {\"horsepower\": 125.0, \"weight\": 3605, \"origin\": \"usa\"}, {\"horsepower\": 150.0, \"weight\": 3940, \"origin\": \"usa\"}, {\"horsepower\": 71.0, \"weight\": 1925, \"origin\": \"europe\"}, {\"horsepower\": 65.0, \"weight\": 1975, \"origin\": \"japan\"}, {\"horsepower\": 80.0, \"weight\": 1915, \"origin\": \"usa\"}, {\"horsepower\": 80.0, \"weight\": 2670, \"origin\": \"usa\"}, {\"horsepower\": 77.0, \"weight\": 3530, \"origin\": \"europe\"}, {\"horsepower\": 125.0, \"weight\": 3900, \"origin\": \"usa\"}, {\"horsepower\": 71.0, \"weight\": 3190, \"origin\": \"europe\"}, {\"horsepower\": 90.0, \"weight\": 3420, \"origin\": \"usa\"}, {\"horsepower\": 70.0, \"weight\": 2200, \"origin\": \"usa\"}, {\"horsepower\": 70.0, \"weight\": 2150, \"origin\": \"usa\"}, {\"horsepower\": 65.0, \"weight\": 2020, \"origin\": \"japan\"}, {\"horsepower\": 69.0, \"weight\": 2130, \"origin\": \"europe\"}, {\"horsepower\": 90.0, \"weight\": 2670, \"origin\": \"usa\"}, {\"horsepower\": 115.0, \"weight\": 2595, \"origin\": \"usa\"}, {\"horsepower\": 115.0, \"weight\": 2700, \"origin\": \"usa\"}, {\"horsepower\": 90.0, \"weight\": 2556, \"origin\": \"usa\"}, {\"horsepower\": 76.0, \"weight\": 2144, \"origin\": \"europe\"}, {\"horsepower\": 60.0, \"weight\": 1968, \"origin\": \"japan\"}, {\"horsepower\": 70.0, \"weight\": 2120, \"origin\": \"usa\"}, {\"horsepower\": 65.0, \"weight\": 2019, \"origin\": \"japan\"}, {\"horsepower\": 90.0, \"weight\": 2678, \"origin\": \"usa\"}, {\"horsepower\": 88.0, \"weight\": 2870, \"origin\": \"usa\"}, {\"horsepower\": 90.0, \"weight\": 3003, \"origin\": \"usa\"}, {\"horsepower\": 90.0, \"weight\": 3381, \"origin\": \"usa\"}, {\"horsepower\": 78.0, \"weight\": 2188, \"origin\": \"europe\"}, {\"horsepower\": 90.0, \"weight\": 2711, \"origin\": \"japan\"}, {\"horsepower\": 75.0, \"weight\": 2542, \"origin\": \"japan\"}, {\"horsepower\": 92.0, \"weight\": 2434, \"origin\": \"japan\"}, {\"horsepower\": 75.0, \"weight\": 2265, \"origin\": \"japan\"}, {\"horsepower\": 65.0, \"weight\": 2110, \"origin\": \"japan\"}, {\"horsepower\": 105.0, \"weight\": 2800, \"origin\": \"usa\"}, {\"horsepower\": 65.0, \"weight\": 2110, \"origin\": \"japan\"}, {\"horsepower\": 48.0, \"weight\": 2085, \"origin\": \"europe\"}, {\"horsepower\": 48.0, \"weight\": 2335, \"origin\": \"europe\"}, {\"horsepower\": 67.0, \"weight\": 2950, \"origin\": \"europe\"}, {\"horsepower\": 67.0, \"weight\": 3250, \"origin\": \"europe\"}, {\"horsepower\": 67.0, \"weight\": 1850, \"origin\": \"japan\"}, {\"horsepower\": 67.0, \"weight\": 2145, \"origin\": \"japan\"}, {\"horsepower\": 62.0, \"weight\": 1845, \"origin\": \"europe\"}, {\"horsepower\": 132.0, \"weight\": 2910, \"origin\": \"japan\"}, {\"horsepower\": 100.0, \"weight\": 2420, \"origin\": \"japan\"}, {\"horsepower\": 88.0, \"weight\": 2500, \"origin\": \"europe\"}, {\"horsepower\": 72.0, \"weight\": 2290, \"origin\": \"japan\"}, {\"horsepower\": 84.0, \"weight\": 2490, \"origin\": \"usa\"}, {\"horsepower\": 84.0, \"weight\": 2635, \"origin\": \"usa\"}, {\"horsepower\": 92.0, \"weight\": 2620, \"origin\": \"usa\"}, {\"horsepower\": 110.0, \"weight\": 2725, \"origin\": \"usa\"}, {\"horsepower\": 84.0, \"weight\": 2385, \"origin\": \"usa\"}, {\"horsepower\": 58.0, \"weight\": 1755, \"origin\": \"japan\"}, {\"horsepower\": 64.0, \"weight\": 1875, \"origin\": \"usa\"}, {\"horsepower\": 60.0, \"weight\": 1760, \"origin\": \"japan\"}, {\"horsepower\": 67.0, \"weight\": 2065, \"origin\": \"japan\"}, {\"horsepower\": 65.0, \"weight\": 1975, \"origin\": \"japan\"}, {\"horsepower\": 62.0, \"weight\": 2050, \"origin\": \"japan\"}, {\"horsepower\": 68.0, \"weight\": 1985, \"origin\": \"japan\"}, {\"horsepower\": 63.0, \"weight\": 2215, \"origin\": \"usa\"}, {\"horsepower\": 65.0, \"weight\": 2045, \"origin\": \"usa\"}, {\"horsepower\": 65.0, \"weight\": 2380, \"origin\": \"usa\"}, {\"horsepower\": 74.0, \"weight\": 2190, \"origin\": \"europe\"}, {\"horsepower\": 75.0, \"weight\": 2210, \"origin\": \"japan\"}, {\"horsepower\": 75.0, \"weight\": 2350, \"origin\": \"japan\"}, {\"horsepower\": 100.0, \"weight\": 2615, \"origin\": \"japan\"}, {\"horsepower\": 74.0, \"weight\": 2635, \"origin\": \"japan\"}, {\"horsepower\": 80.0, \"weight\": 3230, \"origin\": \"europe\"}, {\"horsepower\": 76.0, \"weight\": 3160, \"origin\": \"europe\"}, {\"horsepower\": 116.0, \"weight\": 2900, \"origin\": \"japan\"}, {\"horsepower\": 120.0, \"weight\": 2930, \"origin\": \"japan\"}, {\"horsepower\": 110.0, \"weight\": 3415, \"origin\": \"usa\"}, {\"horsepower\": 105.0, \"weight\": 3725, \"origin\": \"usa\"}, {\"horsepower\": 88.0, \"weight\": 3060, \"origin\": \"usa\"}, {\"horsepower\": 85.0, \"weight\": 3465, \"origin\": \"usa\"}, {\"horsepower\": 88.0, \"weight\": 2605, \"origin\": \"usa\"}, {\"horsepower\": 88.0, \"weight\": 2640, \"origin\": \"usa\"}, {\"horsepower\": 88.0, \"weight\": 2395, \"origin\": \"usa\"}, {\"horsepower\": 85.0, \"weight\": 2575, \"origin\": \"usa\"}, {\"horsepower\": 84.0, \"weight\": 2525, \"origin\": \"usa\"}, {\"horsepower\": 90.0, \"weight\": 2735, \"origin\": \"usa\"}, {\"horsepower\": 92.0, \"weight\": 2865, \"origin\": \"usa\"}, {\"horsepower\": 74.0, \"weight\": 1980, \"origin\": \"europe\"}, {\"horsepower\": 68.0, \"weight\": 2025, \"origin\": \"japan\"}, {\"horsepower\": 68.0, \"weight\": 1970, \"origin\": \"japan\"}, {\"horsepower\": 63.0, \"weight\": 2125, \"origin\": \"usa\"}, {\"horsepower\": 70.0, \"weight\": 2125, \"origin\": \"usa\"}, {\"horsepower\": 88.0, \"weight\": 2160, \"origin\": \"japan\"}, {\"horsepower\": 75.0, \"weight\": 2205, \"origin\": \"japan\"}, {\"horsepower\": 70.0, \"weight\": 2245, \"origin\": \"japan\"}, {\"horsepower\": 67.0, \"weight\": 1965, \"origin\": \"japan\"}, {\"horsepower\": 67.0, \"weight\": 1965, \"origin\": \"japan\"}, {\"horsepower\": 67.0, \"weight\": 1995, \"origin\": \"japan\"}, {\"horsepower\": 110.0, \"weight\": 2945, \"origin\": \"usa\"}, {\"horsepower\": 85.0, \"weight\": 3015, \"origin\": \"usa\"}, {\"horsepower\": 92.0, \"weight\": 2585, \"origin\": \"usa\"}, {\"horsepower\": 112.0, \"weight\": 2835, \"origin\": \"usa\"}, {\"horsepower\": 96.0, \"weight\": 2665, \"origin\": \"japan\"}, {\"horsepower\": 84.0, \"weight\": 2370, \"origin\": \"usa\"}, {\"horsepower\": 90.0, \"weight\": 2950, \"origin\": \"usa\"}, {\"horsepower\": 86.0, \"weight\": 2790, \"origin\": \"usa\"}, {\"horsepower\": 52.0, \"weight\": 2130, \"origin\": \"europe\"}, {\"horsepower\": 84.0, \"weight\": 2295, \"origin\": \"usa\"}, {\"horsepower\": 79.0, \"weight\": 2625, \"origin\": \"usa\"}, {\"horsepower\": 82.0, \"weight\": 2720, \"origin\": \"usa\"}];\n    const W=820, H=480, m={top:24,right:16,bottom:36,left:44};\n    const iW = W - m.left - m.right, iH = H - m.top - m.bottom;\n\n    const svg = d3.select(mount).append('svg')\n      .attr('width', W).attr('height', H);\n    const g = svg.append('g').attr('transform', `translate(${m.left},${m.top})`);\n\n    const x = d3.scaleLinear()\n      .domain(d3.extent(data, d => +d['horsepower'])).nice()\n      .range([0, iW]);\n    const y = d3.scaleLinear()\n      .domain(d3.extent(data, d => +d['weight'])).nice()\n      .range([iH, 0]);\n\n    g.append('g').attr('transform', `translate(0,${iH})`).call(d3.axisBottom(x));\n    g.append('g').call(d3.axisLeft(y));\n\n    const cats = [...new Set(data.map(d => d['origin']))];\n    const color = d3.scaleOrdinal(cats, d3.schemeCategory10);\n\n    const dots = g.selectAll('circle').data(data).join('circle')\n      .attr('r', 3.5)\n      .attr('cx', d => x(+d['horsepower']))\n      .attr('cy', d => y(+d['weight']))\n      .attr('fill', d => color(d['origin']))\n      .attr('opacity', 0.95);\n\n    const brush = d3.brush()\n      .extent([[0,0],[iW,iH]])\n      .on('brush end', (ev) => {\n        const sel = ev.selection;\n        if (!sel) {\n          dots.attr('opacity', 0.95).attr('stroke', null);\n          status.textContent = 'Tip: arrastra para seleccionar. Doble clic limpia.';\n          window._lastSelection = null;\n          return;\n        }\n        const [[x0,y0],[x1,y1]] = sel;\n        let count = 0;\n        dots\n          .attr('opacity', d => {\n            const hit = (x0 <= x(+d['horsepower']) && x(+d['horsepower']) <= x1 &&\n                         y0 <= y(+d['weight']) && y(+d['weight']) <= y1);\n            if (hit) count++;\n            return hit ? 1 : 0.2;\n          })\n          .attr('stroke', d => {\n            const hit = (x0 <= x(+d['horsepower']) && x(+d['horsepower']) <= x1 &&\n                         y0 <= y(+d['weight']) && y(+d['weight']) <= y1);\n            return hit ? '#111' : null;\n          })\n          .attr('stroke-width', d => {\n            const hit = (x0 <= x(+d['horsepower']) && x(+d['horsepower']) <= x1 &&\n                         y0 <= y(+d['weight']) && y(+d['weight']) <= y1);\n            return hit ? 1.1 : null;\n          });\n        status.textContent = `Seleccionados: ${count} punto(s).`;\n      });\n\n    const gBrush = g.append('g').attr('class','brush').call(brush);\n    svg.on('dblclick', () => gBrush.call(brush.move, null));\n\n    status.textContent = 'Tip: arrastra para seleccionar. Doble clic limpia.';\n  } catch (e) {\n    const msg = (e && e.stack) ? e.stack : (''+e);\n    document.getElementById('sc-e60903f9-status').textContent = 'Error al renderizar: ' + msg;\n  }\n})();\n",
      "text/plain": [
       "<IPython.core.display.Javascript object>"
      ]
     },
     "metadata": {},
     "output_type": "display_data"
    },
    {
     "data": {
      "text/html": [
       "<small>ScatterBrush listo (#sc-e60903f9)</small>"
      ],
      "text/plain": [
       "<IPython.core.display.HTML object>"
      ]
     },
     "execution_count": 21,
     "metadata": {},
     "output_type": "execute_result"
    }
   ],
   "source": [
    "import pandas as pd\n",
    "\n",
    "# importa desde tu paquete (el nombre debe coincidir con tu __init__.py)\n",
    "from Isea import ScatterBrush   # si tu paquete se llama distinto, ajusta aquí\n",
    "\n",
    "# lee tu CSV local\n",
    "df = pd.read_csv(\"Isea/datos_vis.csv\")\n",
    "\n",
    "# lanza el scatter con brush (área)\n",
    "ScatterBrush(df, x=\"horsepower\", y=\"weight\", color=\"origin\")\n"
   ]
  },
  {
   "cell_type": "code",
   "execution_count": 22,
   "id": "191c4185",
   "metadata": {},
   "outputs": [
    {
     "data": {
      "text/html": [
       "<div id='ok' style='padding:6px;border:1px solid #ddd'>Esperando JS…</div>"
      ],
      "text/plain": [
       "<IPython.core.display.HTML object>"
      ]
     },
     "metadata": {},
     "output_type": "display_data"
    },
    {
     "data": {
      "application/javascript": "document.getElementById('ok').innerText = 'JS OK ✅';",
      "text/plain": [
       "<IPython.core.display.Javascript object>"
      ]
     },
     "metadata": {},
     "output_type": "display_data"
    }
   ],
   "source": [
    "from IPython.display import HTML, Javascript, display\n",
    "display(HTML(\"<div id='ok' style='padding:6px;border:1px solid #ddd'>Esperando JS…</div>\"))\n",
    "display(Javascript(\"document.getElementById('ok').innerText = 'JS OK ✅';\"))\n"
   ]
  },
  {
   "cell_type": "code",
   "execution_count": 13,
   "id": "1fce6272",
   "metadata": {},
   "outputs": [
    {
     "data": {
      "application/javascript": "\n(async () => {\n  const mod = await import('https://cdn.jsdelivr.net/npm/d3@7/+esm');\n  const d3v = mod.default ?? mod;\n  document.getElementById('ok').innerText = 'D3 cargado ✅ (keys: ' + Object.keys(d3v).length + ')';\n})();\n",
      "text/plain": [
       "<IPython.core.display.Javascript object>"
      ]
     },
     "metadata": {},
     "output_type": "display_data"
    }
   ],
   "source": [
    "from IPython.display import Javascript, display\n",
    "display(Javascript(\"\"\"\n",
    "(async () => {\n",
    "  const mod = await import('https://cdn.jsdelivr.net/npm/d3@7/+esm');\n",
    "  const d3v = mod.default ?? mod;\n",
    "  document.getElementById('ok').innerText = 'D3 cargado ✅ (keys: ' + Object.keys(d3v).length + ')';\n",
    "})();\n",
    "\"\"\"))\n"
   ]
  },
  {
   "cell_type": "code",
   "execution_count": 23,
   "id": "7e94672f",
   "metadata": {},
   "outputs": [
    {
     "data": {
      "text/html": [
       "\n",
       "<div id=\"radar-49ad840f\" class=\"vis\"></div>\n",
       "<div id=\"radar-49ad840f-status\" class=\"status\">Cargando Radar Chart…</div>\n",
       "<style>\n",
       "  .vis { width: 100%; min-height: 700px; }\n",
       "  .status { font-size:12px; color:#64748b; margin:6px 2px; }\n",
       "</style>\n"
      ],
      "text/plain": [
       "<IPython.core.display.HTML object>"
      ]
     },
     "metadata": {},
     "output_type": "display_data"
    },
    {
     "data": {
      "application/javascript": "\n(async () => {\n  const status = document.getElementById('radar-49ad840f-status');\n  try {\n    const mod = await import('https://cdn.jsdelivr.net/npm/d3@7/+esm');\n    const d3 = mod.default ?? mod;\n    \n    const mount = document.getElementById('radar-49ad840f');\n    mount.innerHTML = '';\n    \n    const data = [{\"name\": \"Jugador A\", \"velocidad\": 80, \"fuerza\": 90, \"resistencia\": 70, \"técnica\": 85, \"precisión\": 75}, {\"name\": \"Jugador B\", \"velocidad\": 95, \"fuerza\": 60, \"resistencia\": 85, \"técnica\": 70, \"precisión\": 90}];\n    const features = [\"velocidad\", \"fuerza\", \"resistencia\", \"t\\u00e9cnica\", \"precisi\\u00f3n\"];\n    const W = 700, H = 700;\n    const margin = { top: 50, right: 100, bottom: 50, left: 100 };\n    const w = W - margin.left - margin.right;\n    const h = H - margin.top - margin.bottom;\n    const radius = Math.min(w, h) / 2;\n    \n    const svg = d3.select(mount)\n      .append('svg')\n      .attr('width', W)\n      .attr('height', H)\n      .append('g')\n      .attr('transform', `translate(${W/2}, ${H/2})`);\n    \n    const angleSlice = (Math.PI * 2) / features.length;\n    \n    // Escala radial\n    const maxValue = d3.max(data, d => d3.max(features, f => +d[f]));\n    const rScale = d3.scaleLinear()\n      .domain([0, maxValue])\n      .range([0, radius]);\n    \n    const colorScale = d3.scaleOrdinal(d3.schemeCategory10 || d3.schemeCategory10);\n    \n    // Dibujar círculos de niveles\n    const levels = 5;\n    for (let i = 1; i <= levels; i++) {\n      const levelRadius = (radius / levels) * i;\n      \n      svg.append('circle')\n        .attr('r', levelRadius)\n        .style('fill', 'none')\n        .style('stroke', '#CDCDCD')\n        .style('stroke-dasharray', '3,3');\n      \n      svg.append('text')\n        .attr('x', 5)\n        .attr('y', -levelRadius)\n        .attr('dy', '0.4em')\n        .style('font-size', '10px')\n        .style('fill', '#737373')\n        .text(Math.round((maxValue / levels) * i));\n    }\n    \n    // Dibujar ejes radiales\n    const axis = svg.selectAll('.axis')\n      .data(features)\n      .enter()\n      .append('g')\n      .attr('class', 'axis');\n    \n    axis.append('line')\n      .attr('x1', 0)\n      .attr('y1', 0)\n      .attr('x2', (d, i) => rScale(maxValue * 1.1) * Math.cos(angleSlice * i - Math.PI/2))\n      .attr('y2', (d, i) => rScale(maxValue * 1.1) * Math.sin(angleSlice * i - Math.PI/2))\n      .style('stroke', '#999')\n      .style('stroke-width', '1px');\n    \n    // Etiquetas de características\n    axis.append('text')\n      .attr('x', (d, i) => (rScale(maxValue * 1.25)) * Math.cos(angleSlice * i - Math.PI/2))\n      .attr('y', (d, i) => (rScale(maxValue * 1.25)) * Math.sin(angleSlice * i - Math.PI/2))\n      .attr('text-anchor', 'middle')\n      .attr('dy', '0.35em')\n      .style('font-size', '12px')\n      .style('font-weight', 'bold')\n      .text(d => d);\n    \n    // Generador de líneas para el radar\n    const radarLine = d3.lineRadial()\n      .radius(d => rScale(d.value))\n      .angle((d, i) => i * angleSlice)\n      .curve(d3.curveLinearClosed);\n    \n    // Preparar datos del radar\n    const radarData = data.map(item => \n      features.map(f => ({ axis: f, value: +item[f] }))\n    );\n    \n    // Dibujar áreas del radar\n    svg.selectAll('.radar-area')\n      .data(radarData)\n      .enter()\n      .append('path')\n      .attr('class', 'radar-area')\n      .attr('d', radarLine)\n      .style('fill', (d, i) => colorScale(i))\n      .style('fill-opacity', 0.2)\n      .style('stroke', (d, i) => colorScale(i))\n      .style('stroke-width', '2px')\n      .on('mouseover', function() {\n        d3.select(this).style('fill-opacity', 0.5);\n      })\n      .on('mouseout', function() {\n        d3.select(this).style('fill-opacity', 0.2);\n      });\n    \n    // Puntos en los vértices\n    radarData.forEach((item, idx) => {\n      svg.selectAll(`.radar-circle-${idx}`)\n        .data(item)\n        .enter()\n        .append('circle')\n        .attr('class', `radar-circle-${idx}`)\n        .attr('r', 4)\n        .attr('cx', (d, i) => rScale(d.value) * Math.cos(angleSlice * i - Math.PI/2))\n        .attr('cy', (d, i) => rScale(d.value) * Math.sin(angleSlice * i - Math.PI/2))\n        .style('fill', colorScale(idx))\n        .style('fill-opacity', 0.8);\n    });\n    \n    // Leyenda\n    const legend = svg.selectAll('.legend')\n      .data(data)\n      .enter()\n      .append('g')\n      .attr('class', 'legend')\n      .attr('transform', (d, i) => `translate(${radius + 30}, ${-radius + i * 25})`);\n    \n    legend.append('rect')\n      .attr('width', 18)\n      .attr('height', 18)\n      .style('fill', (d, i) => colorScale(i));\n    \n    legend.append('text')\n      .attr('x', 24)\n      .attr('y', 9)\n      .attr('dy', '.35em')\n      .style('font-size', '12px')\n      .text(d => d['name'] || 'Sin nombre');\n    \n    status.textContent = 'Radar Chart renderizado correctamente.';\n  } catch (e) {\n    const msg = (e && e.stack) ? e.stack : (''+e);\n    document.getElementById('radar-49ad840f-status').textContent = 'Error: ' + msg;\n  }\n})();\n",
      "text/plain": [
       "<IPython.core.display.Javascript object>"
      ]
     },
     "metadata": {},
     "output_type": "display_data"
    },
    {
     "data": {
      "text/html": [
       "<small>RadarChart listo (#radar-49ad840f)</small>"
      ],
      "text/plain": [
       "<IPython.core.display.HTML object>"
      ]
     },
     "execution_count": 23,
     "metadata": {},
     "output_type": "execute_result"
    }
   ],
   "source": [
    "import pandas as pd\n",
    "from Isea import RadarChart\n",
    "\n",
    "radar_data = pd.DataFrame([\n",
    "    {\"name\": \"Jugador A\", \"velocidad\": 80, \"fuerza\": 90, \"resistencia\": 70, \"técnica\": 85, \"precisión\": 75},\n",
    "    {\"name\": \"Jugador B\", \"velocidad\": 95, \"fuerza\": 60, \"resistencia\": 85, \"técnica\": 70, \"precisión\": 90}\n",
    "])\n",
    "\n",
    "RadarChart(\n",
    "    df=radar_data,\n",
    "    features=[\"velocidad\", \"fuerza\", \"resistencia\", \"técnica\", \"precisión\"],\n",
    "    width=700,\n",
    "    height=700\n",
    ")"
   ]
  },
  {
   "cell_type": "code",
   "execution_count": 25,
   "id": "56d820a4",
   "metadata": {},
   "outputs": [
    {
     "name": "stdout",
     "output_type": "stream",
     "text": [
      "Datos cargados: 398 filas\n"
     ]
    },
    {
     "data": {
      "text/html": [
       "<div>\n",
       "<style scoped>\n",
       "    .dataframe tbody tr th:only-of-type {\n",
       "        vertical-align: middle;\n",
       "    }\n",
       "\n",
       "    .dataframe tbody tr th {\n",
       "        vertical-align: top;\n",
       "    }\n",
       "\n",
       "    .dataframe thead th {\n",
       "        text-align: right;\n",
       "    }\n",
       "</style>\n",
       "<table border=\"1\" class=\"dataframe\">\n",
       "  <thead>\n",
       "    <tr style=\"text-align: right;\">\n",
       "      <th></th>\n",
       "      <th>mpg</th>\n",
       "      <th>cylinders</th>\n",
       "      <th>displacement</th>\n",
       "      <th>horsepower</th>\n",
       "      <th>weight</th>\n",
       "      <th>acceleration</th>\n",
       "      <th>model_year</th>\n",
       "      <th>origin</th>\n",
       "      <th>name</th>\n",
       "    </tr>\n",
       "  </thead>\n",
       "  <tbody>\n",
       "    <tr>\n",
       "      <th>0</th>\n",
       "      <td>18.0</td>\n",
       "      <td>8</td>\n",
       "      <td>307.0</td>\n",
       "      <td>130.0</td>\n",
       "      <td>3504</td>\n",
       "      <td>12.0</td>\n",
       "      <td>70</td>\n",
       "      <td>usa</td>\n",
       "      <td>chevrolet chevelle malibu</td>\n",
       "    </tr>\n",
       "    <tr>\n",
       "      <th>1</th>\n",
       "      <td>15.0</td>\n",
       "      <td>8</td>\n",
       "      <td>350.0</td>\n",
       "      <td>165.0</td>\n",
       "      <td>3693</td>\n",
       "      <td>11.5</td>\n",
       "      <td>70</td>\n",
       "      <td>usa</td>\n",
       "      <td>buick skylark 320</td>\n",
       "    </tr>\n",
       "    <tr>\n",
       "      <th>2</th>\n",
       "      <td>18.0</td>\n",
       "      <td>8</td>\n",
       "      <td>318.0</td>\n",
       "      <td>150.0</td>\n",
       "      <td>3436</td>\n",
       "      <td>11.0</td>\n",
       "      <td>70</td>\n",
       "      <td>usa</td>\n",
       "      <td>plymouth satellite</td>\n",
       "    </tr>\n",
       "    <tr>\n",
       "      <th>3</th>\n",
       "      <td>16.0</td>\n",
       "      <td>8</td>\n",
       "      <td>304.0</td>\n",
       "      <td>150.0</td>\n",
       "      <td>3433</td>\n",
       "      <td>12.0</td>\n",
       "      <td>70</td>\n",
       "      <td>usa</td>\n",
       "      <td>amc rebel sst</td>\n",
       "    </tr>\n",
       "    <tr>\n",
       "      <th>4</th>\n",
       "      <td>17.0</td>\n",
       "      <td>8</td>\n",
       "      <td>302.0</td>\n",
       "      <td>140.0</td>\n",
       "      <td>3449</td>\n",
       "      <td>10.5</td>\n",
       "      <td>70</td>\n",
       "      <td>usa</td>\n",
       "      <td>ford torino</td>\n",
       "    </tr>\n",
       "  </tbody>\n",
       "</table>\n",
       "</div>"
      ],
      "text/plain": [
       "    mpg  cylinders  displacement  horsepower  weight  acceleration  \\\n",
       "0  18.0          8         307.0       130.0    3504          12.0   \n",
       "1  15.0          8         350.0       165.0    3693          11.5   \n",
       "2  18.0          8         318.0       150.0    3436          11.0   \n",
       "3  16.0          8         304.0       150.0    3433          12.0   \n",
       "4  17.0          8         302.0       140.0    3449          10.5   \n",
       "\n",
       "   model_year origin                       name  \n",
       "0          70    usa  chevrolet chevelle malibu  \n",
       "1          70    usa          buick skylark 320  \n",
       "2          70    usa         plymouth satellite  \n",
       "3          70    usa              amc rebel sst  \n",
       "4          70    usa                ford torino  "
      ]
     },
     "execution_count": 25,
     "metadata": {},
     "output_type": "execute_result"
    }
   ],
   "source": [
    "import pandas as pd\n",
    "from Isea.graphs import ScatterBrush, RadarChart, Sunburst, StreamGraph\n",
    "\n",
    "# Cargar datos\n",
    "df = pd.read_csv(\"Isea/datos_vis.csv\")\n",
    "print(f\"Datos cargados: {len(df)} filas\")\n",
    "df.head()"
   ]
  },
  {
   "cell_type": "code",
   "execution_count": 26,
   "id": "df194afe",
   "metadata": {},
   "outputs": [
    {
     "data": {
      "text/html": [
       "\n",
       "<div id=\"sunburst-1b3a6a98\" class=\"vis\"></div>\n",
       "<div id=\"sunburst-1b3a6a98-status\" class=\"status\">Cargando Sunburstâ€¦</div>\n",
       "<style>\n",
       "  .vis { width: 100%; min-height: 800px; }\n",
       "  .status { font-size:12px; color:#64748b; margin:6px 2px; }\n",
       "</style>\n"
      ],
      "text/plain": [
       "<IPython.core.display.HTML object>"
      ]
     },
     "metadata": {},
     "output_type": "display_data"
    },
    {
     "data": {
      "application/javascript": "\n(async () => {\n  const status = document.getElementById('sunburst-1b3a6a98-status');\n  try {\n    const mod = await import('https://cdn.jsdelivr.net/npm/d3@7/+esm');\n    const d3 = mod.default ?? mod;\n    \n    const mount = document.getElementById('sunburst-1b3a6a98');\n    mount.innerHTML = '';\n    \n    const data = {\"name\": \"root\", \"children\": [{\"name\": \"usa\", \"children\": [{\"name\": \"8\", \"children\": [{\"name\": \"Medio\", \"children\": [], \"value\": 105.0}, {\"name\": \"Pesado\", \"children\": [], \"value\": 142.0}]}, {\"name\": \"6\", \"children\": [{\"name\": \"Medio\", \"children\": [], \"value\": 112.0}, {\"name\": \"Ligero\", \"children\": [], \"value\": 110.0}]}, {\"name\": \"4\", \"children\": [{\"name\": \"Ligero\", \"children\": [], \"value\": 82.0}, {\"name\": \"Medio\", \"children\": [], \"value\": 86.0}]}]}, {\"name\": \"japan\", \"children\": [{\"name\": \"4\", \"children\": [{\"name\": \"Ligero\", \"children\": [], \"value\": 96.0}]}, {\"name\": \"3\", \"children\": [{\"name\": \"Ligero\", \"children\": [], \"value\": 100.0}]}, {\"name\": \"6\", \"children\": [{\"name\": \"Medio\", \"children\": [], \"value\": 120.0}]}]}, {\"name\": \"europe\", \"children\": [{\"name\": \"4\", \"children\": [{\"name\": \"Ligero\", \"children\": [], \"value\": 52.0}, {\"name\": \"Medio\", \"children\": [], \"value\": 80.0}]}, {\"name\": \"6\", \"children\": [{\"name\": \"Medio\", \"children\": [], \"value\": 76.0}]}, {\"name\": \"5\", \"children\": [{\"name\": \"Medio\", \"children\": [], \"value\": 67.0}]}]}]};\n    const W = 800, H = 800;\n    const radius = Math.min(W, H) / 2;\n    \n    const svg = d3.select(mount)\n      .append('svg')\n      .attr('width', W)\n      .attr('height', H)\n      .append('g')\n      .attr('transform', `translate(${W/2}, ${H/2})`);\n    \n    const color = d3.scaleOrdinal(d3.schemeSet3 || d3.schemeCategory10);\n    \n    const root = d3.hierarchy(data)\n      .sum(d => d.value || 0)\n      .sort((a, b) => b.value - a.value);\n    \n    const partition = d3.partition()\n      .size([2 * Math.PI, radius]);\n    \n    partition(root);\n    \n    const arc = d3.arc()\n      .startAngle(d => d.x0)\n      .endAngle(d => d.x1)\n      .innerRadius(d => d.y0)\n      .outerRadius(d => d.y1);\n    \n    const segments = svg.selectAll('path')\n      .data(root.descendants().filter(d => d.depth > 0))\n      .enter()\n      .append('path')\n      .attr('d', arc)\n      .style('fill', d => color(d.data.name))\n      .style('stroke', '#fff')\n      .style('stroke-width', '2px')\n      .style('opacity', 0.8)\n      .on('mouseover', function(event, d) {\n        d3.select(this)\n          .style('opacity', 1)\n          .style('stroke-width', '3px');\n        \n        const percent = ((d.value / root.value) * 100).toFixed(1);\n        status.textContent = `${d.data.name}: ${d.value.toFixed(2)} (${percent}%)`;\n      })\n      .on('mouseout', function() {\n        d3.select(this)\n          .style('opacity', 0.8)\n          .style('stroke-width', '2px');\n        status.textContent = 'Hover sobre segmentos para ver detalles';\n      });\n    \n    svg.selectAll('text')\n      .data(root.descendants().filter(d => d.depth > 0 && (d.x1 - d.x0) > 0.1))\n      .enter()\n      .append('text')\n      .attr('transform', d => {\n        const angle = (d.x0 + d.x1) / 2;\n        const radius = (d.y0 + d.y1) / 2;\n        const x = Math.cos(angle - Math.PI / 2) * radius;\n        const y = Math.sin(angle - Math.PI / 2) * radius;\n        return `translate(${x},${y})`;\n      })\n      .attr('text-anchor', 'middle')\n      .attr('dy', '0.35em')\n      .style('font-size', '10px')\n      .style('fill', '#fff')\n      .style('font-weight', 'bold')\n      .style('pointer-events', 'none')\n      .text(d => d.data.name.length > 15 ? d.data.name.substring(0, 12) + '...' : d.data.name);\n    \n    status.textContent = 'Hover sobre segmentos para ver detalles';\n  } catch (e) {\n    const msg = (e && e.stack) ? e.stack : (''+e);\n    document.getElementById('sunburst-1b3a6a98-status').textContent = 'Error: ' + msg;\n  }\n})();\n",
      "text/plain": [
       "<IPython.core.display.Javascript object>"
      ]
     },
     "metadata": {},
     "output_type": "display_data"
    },
    {
     "data": {
      "text/html": [
       "<small>Sunburst listo (#sunburst-1b3a6a98)</small>"
      ],
      "text/plain": [
       "<IPython.core.display.HTML object>"
      ]
     },
     "execution_count": 26,
     "metadata": {},
     "output_type": "execute_result"
    }
   ],
   "source": [
    "df_sunburst = df.copy()\n",
    "\n",
    "# Crear categoría de peso\n",
    "df_sunburst['weight_category'] = pd.cut(\n",
    "    df_sunburst['weight'], \n",
    "    bins=3, \n",
    "    labels=['Ligero', 'Medio', 'Pesado']\n",
    ")\n",
    "\n",
    "Sunburst(\n",
    "    df=df_sunburst,\n",
    "    path_columns=['origin', 'cylinders', 'weight_category'],\n",
    "    value_column='horsepower',\n",
    "    width=800,\n",
    "    height=800,\n",
    "    color_scheme='schemeSet3'\n",
    ")"
   ]
  },
  {
   "cell_type": "code",
   "execution_count": 27,
   "id": "957f0d9e",
   "metadata": {},
   "outputs": [
    {
     "ename": "KeyError",
     "evalue": "'year'",
     "output_type": "error",
     "traceback": [
      "\u001b[31m---------------------------------------------------------------------------\u001b[39m",
      "\u001b[31mKeyError\u001b[39m                                  Traceback (most recent call last)",
      "\u001b[36mCell\u001b[39m\u001b[36m \u001b[39m\u001b[32mIn[27]\u001b[39m\u001b[32m, line 1\u001b[39m\n\u001b[32m----> \u001b[39m\u001b[32m1\u001b[39m df_stream = \u001b[43mdf\u001b[49m\u001b[43m.\u001b[49m\u001b[43mgroupby\u001b[49m\u001b[43m(\u001b[49m\u001b[43m[\u001b[49m\u001b[33;43m'\u001b[39;49m\u001b[33;43myear\u001b[39;49m\u001b[33;43m'\u001b[39;49m\u001b[43m,\u001b[49m\u001b[43m \u001b[49m\u001b[33;43m'\u001b[39;49m\u001b[33;43morigin\u001b[39;49m\u001b[33;43m'\u001b[39;49m\u001b[43m]\u001b[49m\u001b[43m)\u001b[49m[\u001b[33m'\u001b[39m\u001b[33mhorsepower\u001b[39m\u001b[33m'\u001b[39m].mean().reset_index()\n\u001b[32m      3\u001b[39m StreamGraph(\n\u001b[32m      4\u001b[39m     df=df_stream,\n\u001b[32m      5\u001b[39m     x_column=\u001b[33m'\u001b[39m\u001b[33myear\u001b[39m\u001b[33m'\u001b[39m,\n\u001b[32m   (...)\u001b[39m\u001b[32m     10\u001b[39m     color_scheme=\u001b[33m'\u001b[39m\u001b[33mschemeTableau10\u001b[39m\u001b[33m'\u001b[39m\n\u001b[32m     11\u001b[39m )\n",
      "\u001b[36mFile \u001b[39m\u001b[32mc:\\Users\\MARCELO\\AppData\\Local\\Programs\\Python\\Python313\\Lib\\site-packages\\pandas\\core\\frame.py:9190\u001b[39m, in \u001b[36mDataFrame.groupby\u001b[39m\u001b[34m(self, by, axis, level, as_index, sort, group_keys, observed, dropna)\u001b[39m\n\u001b[32m   9187\u001b[39m \u001b[38;5;28;01mif\u001b[39;00m level \u001b[38;5;129;01mis\u001b[39;00m \u001b[38;5;28;01mNone\u001b[39;00m \u001b[38;5;129;01mand\u001b[39;00m by \u001b[38;5;129;01mis\u001b[39;00m \u001b[38;5;28;01mNone\u001b[39;00m:\n\u001b[32m   9188\u001b[39m     \u001b[38;5;28;01mraise\u001b[39;00m \u001b[38;5;167;01mTypeError\u001b[39;00m(\u001b[33m\"\u001b[39m\u001b[33mYou have to supply one of \u001b[39m\u001b[33m'\u001b[39m\u001b[33mby\u001b[39m\u001b[33m'\u001b[39m\u001b[33m and \u001b[39m\u001b[33m'\u001b[39m\u001b[33mlevel\u001b[39m\u001b[33m'\u001b[39m\u001b[33m\"\u001b[39m)\n\u001b[32m-> \u001b[39m\u001b[32m9190\u001b[39m \u001b[38;5;28;01mreturn\u001b[39;00m \u001b[43mDataFrameGroupBy\u001b[49m\u001b[43m(\u001b[49m\n\u001b[32m   9191\u001b[39m \u001b[43m    \u001b[49m\u001b[43mobj\u001b[49m\u001b[43m=\u001b[49m\u001b[38;5;28;43mself\u001b[39;49m\u001b[43m,\u001b[49m\n\u001b[32m   9192\u001b[39m \u001b[43m    \u001b[49m\u001b[43mkeys\u001b[49m\u001b[43m=\u001b[49m\u001b[43mby\u001b[49m\u001b[43m,\u001b[49m\n\u001b[32m   9193\u001b[39m \u001b[43m    \u001b[49m\u001b[43maxis\u001b[49m\u001b[43m=\u001b[49m\u001b[43maxis\u001b[49m\u001b[43m,\u001b[49m\n\u001b[32m   9194\u001b[39m \u001b[43m    \u001b[49m\u001b[43mlevel\u001b[49m\u001b[43m=\u001b[49m\u001b[43mlevel\u001b[49m\u001b[43m,\u001b[49m\n\u001b[32m   9195\u001b[39m \u001b[43m    \u001b[49m\u001b[43mas_index\u001b[49m\u001b[43m=\u001b[49m\u001b[43mas_index\u001b[49m\u001b[43m,\u001b[49m\n\u001b[32m   9196\u001b[39m \u001b[43m    \u001b[49m\u001b[43msort\u001b[49m\u001b[43m=\u001b[49m\u001b[43msort\u001b[49m\u001b[43m,\u001b[49m\n\u001b[32m   9197\u001b[39m \u001b[43m    \u001b[49m\u001b[43mgroup_keys\u001b[49m\u001b[43m=\u001b[49m\u001b[43mgroup_keys\u001b[49m\u001b[43m,\u001b[49m\n\u001b[32m   9198\u001b[39m \u001b[43m    \u001b[49m\u001b[43mobserved\u001b[49m\u001b[43m=\u001b[49m\u001b[43mobserved\u001b[49m\u001b[43m,\u001b[49m\n\u001b[32m   9199\u001b[39m \u001b[43m    \u001b[49m\u001b[43mdropna\u001b[49m\u001b[43m=\u001b[49m\u001b[43mdropna\u001b[49m\u001b[43m,\u001b[49m\n\u001b[32m   9200\u001b[39m \u001b[43m\u001b[49m\u001b[43m)\u001b[49m\n",
      "\u001b[36mFile \u001b[39m\u001b[32mc:\\Users\\MARCELO\\AppData\\Local\\Programs\\Python\\Python313\\Lib\\site-packages\\pandas\\core\\groupby\\groupby.py:1329\u001b[39m, in \u001b[36mGroupBy.__init__\u001b[39m\u001b[34m(self, obj, keys, axis, level, grouper, exclusions, selection, as_index, sort, group_keys, observed, dropna)\u001b[39m\n\u001b[32m   1326\u001b[39m \u001b[38;5;28mself\u001b[39m.dropna = dropna\n\u001b[32m   1328\u001b[39m \u001b[38;5;28;01mif\u001b[39;00m grouper \u001b[38;5;129;01mis\u001b[39;00m \u001b[38;5;28;01mNone\u001b[39;00m:\n\u001b[32m-> \u001b[39m\u001b[32m1329\u001b[39m     grouper, exclusions, obj = \u001b[43mget_grouper\u001b[49m\u001b[43m(\u001b[49m\n\u001b[32m   1330\u001b[39m \u001b[43m        \u001b[49m\u001b[43mobj\u001b[49m\u001b[43m,\u001b[49m\n\u001b[32m   1331\u001b[39m \u001b[43m        \u001b[49m\u001b[43mkeys\u001b[49m\u001b[43m,\u001b[49m\n\u001b[32m   1332\u001b[39m \u001b[43m        \u001b[49m\u001b[43maxis\u001b[49m\u001b[43m=\u001b[49m\u001b[43maxis\u001b[49m\u001b[43m,\u001b[49m\n\u001b[32m   1333\u001b[39m \u001b[43m        \u001b[49m\u001b[43mlevel\u001b[49m\u001b[43m=\u001b[49m\u001b[43mlevel\u001b[49m\u001b[43m,\u001b[49m\n\u001b[32m   1334\u001b[39m \u001b[43m        \u001b[49m\u001b[43msort\u001b[49m\u001b[43m=\u001b[49m\u001b[43msort\u001b[49m\u001b[43m,\u001b[49m\n\u001b[32m   1335\u001b[39m \u001b[43m        \u001b[49m\u001b[43mobserved\u001b[49m\u001b[43m=\u001b[49m\u001b[38;5;28;43;01mFalse\u001b[39;49;00m\u001b[43m \u001b[49m\u001b[38;5;28;43;01mif\u001b[39;49;00m\u001b[43m \u001b[49m\u001b[43mobserved\u001b[49m\u001b[43m \u001b[49m\u001b[38;5;129;43;01mis\u001b[39;49;00m\u001b[43m \u001b[49m\u001b[43mlib\u001b[49m\u001b[43m.\u001b[49m\u001b[43mno_default\u001b[49m\u001b[43m \u001b[49m\u001b[38;5;28;43;01melse\u001b[39;49;00m\u001b[43m \u001b[49m\u001b[43mobserved\u001b[49m\u001b[43m,\u001b[49m\n\u001b[32m   1336\u001b[39m \u001b[43m        \u001b[49m\u001b[43mdropna\u001b[49m\u001b[43m=\u001b[49m\u001b[38;5;28;43mself\u001b[39;49m\u001b[43m.\u001b[49m\u001b[43mdropna\u001b[49m\u001b[43m,\u001b[49m\n\u001b[32m   1337\u001b[39m \u001b[43m    \u001b[49m\u001b[43m)\u001b[49m\n\u001b[32m   1339\u001b[39m \u001b[38;5;28;01mif\u001b[39;00m observed \u001b[38;5;129;01mis\u001b[39;00m lib.no_default:\n\u001b[32m   1340\u001b[39m     \u001b[38;5;28;01mif\u001b[39;00m \u001b[38;5;28many\u001b[39m(ping._passed_categorical \u001b[38;5;28;01mfor\u001b[39;00m ping \u001b[38;5;129;01min\u001b[39;00m grouper.groupings):\n",
      "\u001b[36mFile \u001b[39m\u001b[32mc:\\Users\\MARCELO\\AppData\\Local\\Programs\\Python\\Python313\\Lib\\site-packages\\pandas\\core\\groupby\\grouper.py:1043\u001b[39m, in \u001b[36mget_grouper\u001b[39m\u001b[34m(obj, key, axis, level, sort, observed, validate, dropna)\u001b[39m\n\u001b[32m   1041\u001b[39m         in_axis, level, gpr = \u001b[38;5;28;01mFalse\u001b[39;00m, gpr, \u001b[38;5;28;01mNone\u001b[39;00m\n\u001b[32m   1042\u001b[39m     \u001b[38;5;28;01melse\u001b[39;00m:\n\u001b[32m-> \u001b[39m\u001b[32m1043\u001b[39m         \u001b[38;5;28;01mraise\u001b[39;00m \u001b[38;5;167;01mKeyError\u001b[39;00m(gpr)\n\u001b[32m   1044\u001b[39m \u001b[38;5;28;01melif\u001b[39;00m \u001b[38;5;28misinstance\u001b[39m(gpr, Grouper) \u001b[38;5;129;01mand\u001b[39;00m gpr.key \u001b[38;5;129;01mis\u001b[39;00m \u001b[38;5;129;01mnot\u001b[39;00m \u001b[38;5;28;01mNone\u001b[39;00m:\n\u001b[32m   1045\u001b[39m     \u001b[38;5;66;03m# Add key to exclusions\u001b[39;00m\n\u001b[32m   1046\u001b[39m     exclusions.add(gpr.key)\n",
      "\u001b[31mKeyError\u001b[39m: 'year'"
     ]
    }
   ],
   "source": [
    "df_stream = df.groupby(['year', 'origin'])['horsepower'].mean().reset_index()\n",
    "\n",
    "StreamGraph(\n",
    "    df=df_stream,\n",
    "    x_column='year',\n",
    "    y_column='horsepower',\n",
    "    category_column='origin',\n",
    "    width=900,\n",
    "    height=500,\n",
    "    color_scheme='schemeTableau10'\n",
    ")"
   ]
  },
  {
   "cell_type": "code",
   "execution_count": 28,
   "id": "6c8444f1",
   "metadata": {},
   "outputs": [
    {
     "data": {
      "text/html": [
       "\n",
       "<div id=\"sunburst-a17da032\" class=\"vis\"></div>\n",
       "<div id=\"sunburst-a17da032-status\" class=\"status\">Cargando Sunburstâ€¦</div>\n",
       "<style>\n",
       "  .vis { width: 100%; min-height: 700px; }\n",
       "  .status { font-size:12px; color:#64748b; margin:6px 2px; }\n",
       "</style>\n"
      ],
      "text/plain": [
       "<IPython.core.display.HTML object>"
      ]
     },
     "metadata": {},
     "output_type": "display_data"
    },
    {
     "data": {
      "application/javascript": "\n(async () => {\n  const status = document.getElementById('sunburst-a17da032-status');\n  try {\n    const mod = await import('https://cdn.jsdelivr.net/npm/d3@7/+esm');\n    const d3 = mod.default ?? mod;\n    \n    const mount = document.getElementById('sunburst-a17da032');\n    mount.innerHTML = '';\n    \n    const data = {\"name\": \"root\", \"children\": [{\"name\": \"8 cyl\", \"children\": [{\"name\": \"usa\", \"children\": [], \"value\": 26.6}]}, {\"name\": \"4 cyl\", \"children\": [{\"name\": \"japan\", \"children\": [], \"value\": 32.0}, {\"name\": \"europe\", \"children\": [], \"value\": 44.0}, {\"name\": \"usa\", \"children\": [], \"value\": 31.0}]}, {\"name\": \"6 cyl\", \"children\": [{\"name\": \"usa\", \"children\": [], \"value\": 22.0}, {\"name\": \"japan\", \"children\": [], \"value\": 24.2}, {\"name\": \"europe\", \"children\": [], \"value\": 30.7}]}, {\"name\": \"3 cyl\", \"children\": [{\"name\": \"japan\", \"children\": [], \"value\": 23.7}]}, {\"name\": \"5 cyl\", \"children\": [{\"name\": \"europe\", \"children\": [], \"value\": 36.4}]}]};\n    const W = 700, H = 700;\n    const radius = Math.min(W, H) / 2;\n    \n    const svg = d3.select(mount)\n      .append('svg')\n      .attr('width', W)\n      .attr('height', H)\n      .append('g')\n      .attr('transform', `translate(${W/2}, ${H/2})`);\n    \n    const color = d3.scaleOrdinal(d3.schemePastel1 || d3.schemeCategory10);\n    \n    const root = d3.hierarchy(data)\n      .sum(d => d.value || 0)\n      .sort((a, b) => b.value - a.value);\n    \n    const partition = d3.partition()\n      .size([2 * Math.PI, radius]);\n    \n    partition(root);\n    \n    const arc = d3.arc()\n      .startAngle(d => d.x0)\n      .endAngle(d => d.x1)\n      .innerRadius(d => d.y0)\n      .outerRadius(d => d.y1);\n    \n    const segments = svg.selectAll('path')\n      .data(root.descendants().filter(d => d.depth > 0))\n      .enter()\n      .append('path')\n      .attr('d', arc)\n      .style('fill', d => color(d.data.name))\n      .style('stroke', '#fff')\n      .style('stroke-width', '2px')\n      .style('opacity', 0.8)\n      .on('mouseover', function(event, d) {\n        d3.select(this)\n          .style('opacity', 1)\n          .style('stroke-width', '3px');\n        \n        const percent = ((d.value / root.value) * 100).toFixed(1);\n        status.textContent = `${d.data.name}: ${d.value.toFixed(2)} (${percent}%)`;\n      })\n      .on('mouseout', function() {\n        d3.select(this)\n          .style('opacity', 0.8)\n          .style('stroke-width', '2px');\n        status.textContent = 'Hover sobre segmentos para ver detalles';\n      });\n    \n    svg.selectAll('text')\n      .data(root.descendants().filter(d => d.depth > 0 && (d.x1 - d.x0) > 0.1))\n      .enter()\n      .append('text')\n      .attr('transform', d => {\n        const angle = (d.x0 + d.x1) / 2;\n        const radius = (d.y0 + d.y1) / 2;\n        const x = Math.cos(angle - Math.PI / 2) * radius;\n        const y = Math.sin(angle - Math.PI / 2) * radius;\n        return `translate(${x},${y})`;\n      })\n      .attr('text-anchor', 'middle')\n      .attr('dy', '0.35em')\n      .style('font-size', '10px')\n      .style('fill', '#fff')\n      .style('font-weight', 'bold')\n      .style('pointer-events', 'none')\n      .text(d => d.data.name.length > 15 ? d.data.name.substring(0, 12) + '...' : d.data.name);\n    \n    status.textContent = 'Hover sobre segmentos para ver detalles';\n  } catch (e) {\n    const msg = (e && e.stack) ? e.stack : (''+e);\n    document.getElementById('sunburst-a17da032-status').textContent = 'Error: ' + msg;\n  }\n})();\n",
      "text/plain": [
       "<IPython.core.display.Javascript object>"
      ]
     },
     "metadata": {},
     "output_type": "display_data"
    },
    {
     "data": {
      "text/html": [
       "<small>Sunburst listo (#sunburst-a17da032)</small>"
      ],
      "text/plain": [
       "<IPython.core.display.HTML object>"
      ]
     },
     "execution_count": 28,
     "metadata": {},
     "output_type": "execute_result"
    }
   ],
   "source": [
    "df_sunburst2 = df[['cylinders', 'origin', 'mpg']].copy()\n",
    "df_sunburst2['cylinders'] = df_sunburst2['cylinders'].astype(str) + ' cyl'\n",
    "\n",
    "Sunburst(\n",
    "    df=df_sunburst2,\n",
    "    path_columns=['cylinders', 'origin'],\n",
    "    value_column='mpg',\n",
    "    width=700,\n",
    "    height=700,\n",
    "    color_scheme='schemePastel1'\n",
    ")"
   ]
  },
  {
   "cell_type": "code",
   "execution_count": 31,
   "id": "9db6ed61",
   "metadata": {},
   "outputs": [
    {
     "ename": "KeyError",
     "evalue": "['year']",
     "output_type": "error",
     "traceback": [
      "\u001b[31m---------------------------------------------------------------------------\u001b[39m",
      "\u001b[31mKeyError\u001b[39m                                  Traceback (most recent call last)",
      "\u001b[32m~\\AppData\\Local\\Temp\\ipykernel_22252\\1383181719.py\u001b[39m in \u001b[36m?\u001b[39m\u001b[34m()\u001b[39m\n\u001b[32m      1\u001b[39m df_stream2 = df.copy()\n\u001b[32m      2\u001b[39m df_stream2[\u001b[33m'cylinders_cat'\u001b[39m] = df_stream2[\u001b[33m'cylinders'\u001b[39m].astype(str) + \u001b[33m' cyl'\u001b[39m\n\u001b[32m      3\u001b[39m df_stream2 = df_stream2.groupby([\u001b[33m'model_year'\u001b[39m, \u001b[33m'cylinders_cat'\u001b[39m])[\u001b[33m'acceleration'\u001b[39m].mean().reset_index()\n\u001b[32m      4\u001b[39m \n\u001b[32m----> \u001b[39m\u001b[32m5\u001b[39m StreamGraph(\n\u001b[32m      6\u001b[39m     df=df_stream2,\n\u001b[32m      7\u001b[39m     x_column=\u001b[33m'year'\u001b[39m,\n\u001b[32m      8\u001b[39m     y_column=\u001b[33m'acceleration'\u001b[39m,\n",
      "\u001b[32m<string>\u001b[39m in \u001b[36m?\u001b[39m\u001b[34m(df, x_column, y_column, category_column, width, height, color_scheme)\u001b[39m\n",
      "\u001b[32mc:\\Users\\MARCELO\\AppData\\Local\\Programs\\Python\\Python313\\Lib\\site-packages\\pandas\\core\\frame.py\u001b[39m in \u001b[36m?\u001b[39m\u001b[34m(self, axis, how, thresh, subset, inplace, ignore_index)\u001b[39m\n\u001b[32m   6673\u001b[39m             ax = self._get_axis(agg_axis)\n\u001b[32m   6674\u001b[39m             indices = ax.get_indexer_for(subset)\n\u001b[32m   6675\u001b[39m             check = indices == -\u001b[32m1\u001b[39m\n\u001b[32m   6676\u001b[39m             \u001b[38;5;28;01mif\u001b[39;00m check.any():\n\u001b[32m-> \u001b[39m\u001b[32m6677\u001b[39m                 \u001b[38;5;28;01mraise\u001b[39;00m KeyError(np.array(subset)[check].tolist())\n\u001b[32m   6678\u001b[39m             agg_obj = self.take(indices, axis=agg_axis)\n\u001b[32m   6679\u001b[39m \n\u001b[32m   6680\u001b[39m         \u001b[38;5;28;01mif\u001b[39;00m thresh \u001b[38;5;28;01mis\u001b[39;00m \u001b[38;5;28;01mnot\u001b[39;00m lib.no_default:\n",
      "\u001b[31mKeyError\u001b[39m: ['year']"
     ]
    }
   ],
   "source": [
    "df_stream2 = df.copy()\n",
    "df_stream2['cylinders_cat'] = df_stream2['cylinders'].astype(str) + ' cyl'\n",
    "df_stream2 = df_stream2.groupby(['model_year', 'cylinders_cat'])['acceleration'].mean().reset_index()\n",
    "\n",
    "StreamGraph(\n",
    "    df=df_stream2,\n",
    "    x_column='year',\n",
    "    y_column='acceleration',\n",
    "    category_column='cylinders_cat',\n",
    "    width=950,\n",
    "    height=550,\n",
    "    color_scheme='schemeCategory10'\n",
    ")"
   ]
  },
  {
   "cell_type": "code",
   "execution_count": 30,
   "id": "4b9f3496",
   "metadata": {},
   "outputs": [
    {
     "data": {
      "text/html": [
       "\n",
       "<div id=\"radar-6c55e6de\" class=\"vis\"></div>\n",
       "<div id=\"radar-6c55e6de-status\" class=\"status\">Cargando Radar Chart…</div>\n",
       "<style>\n",
       "  .vis { width: 100%; min-height: 700px; }\n",
       "  .status { font-size:12px; color:#64748b; margin:6px 2px; }\n",
       "</style>\n"
      ],
      "text/plain": [
       "<IPython.core.display.HTML object>"
      ]
     },
     "metadata": {},
     "output_type": "display_data"
    },
    {
     "data": {
      "application/javascript": "\n(async () => {\n  const status = document.getElementById('radar-6c55e6de-status');\n  try {\n    const mod = await import('https://cdn.jsdelivr.net/npm/d3@7/+esm');\n    const d3 = mod.default ?? mod;\n    \n    const mount = document.getElementById('radar-6c55e6de');\n    mount.innerHTML = '';\n    \n    const data = [{\"name\": \"europe\", \"caballos\": 80.55882352941177, \"peso\": 2423.3, \"aceleracion\": 16.787142857142857, \"eficiencia\": 27.891428571428573}, {\"name\": \"japan\", \"caballos\": 79.83544303797468, \"peso\": 2221.227848101266, \"aceleracion\": 16.172151898734175, \"eficiencia\": 30.450632911392404}, {\"name\": \"usa\", \"caballos\": 119.04897959183674, \"peso\": 3361.9317269076305, \"aceleracion\": 15.033734939759036, \"eficiencia\": 20.083534136546184}];\n    const features = [\"caballos\", \"peso\", \"aceleracion\", \"eficiencia\"];\n    const W = 700, H = 700;\n    const margin = { top: 50, right: 100, bottom: 50, left: 100 };\n    const w = W - margin.left - margin.right;\n    const h = H - margin.top - margin.bottom;\n    const radius = Math.min(w, h) / 2;\n    \n    const svg = d3.select(mount)\n      .append('svg')\n      .attr('width', W)\n      .attr('height', H)\n      .append('g')\n      .attr('transform', `translate(${W/2}, ${H/2})`);\n    \n    const angleSlice = (Math.PI * 2) / features.length;\n    \n    // Escala radial\n    const maxValue = d3.max(data, d => d3.max(features, f => +d[f]));\n    const rScale = d3.scaleLinear()\n      .domain([0, maxValue])\n      .range([0, radius]);\n    \n    const colorScale = d3.scaleOrdinal(d3.schemeCategory10 || d3.schemeCategory10);\n    \n    // Dibujar círculos de niveles\n    const levels = 5;\n    for (let i = 1; i <= levels; i++) {\n      const levelRadius = (radius / levels) * i;\n      \n      svg.append('circle')\n        .attr('r', levelRadius)\n        .style('fill', 'none')\n        .style('stroke', '#CDCDCD')\n        .style('stroke-dasharray', '3,3');\n      \n      svg.append('text')\n        .attr('x', 5)\n        .attr('y', -levelRadius)\n        .attr('dy', '0.4em')\n        .style('font-size', '10px')\n        .style('fill', '#737373')\n        .text(Math.round((maxValue / levels) * i));\n    }\n    \n    // Dibujar ejes radiales\n    const axis = svg.selectAll('.axis')\n      .data(features)\n      .enter()\n      .append('g')\n      .attr('class', 'axis');\n    \n    axis.append('line')\n      .attr('x1', 0)\n      .attr('y1', 0)\n      .attr('x2', (d, i) => rScale(maxValue * 1.1) * Math.cos(angleSlice * i - Math.PI/2))\n      .attr('y2', (d, i) => rScale(maxValue * 1.1) * Math.sin(angleSlice * i - Math.PI/2))\n      .style('stroke', '#999')\n      .style('stroke-width', '1px');\n    \n    // Etiquetas de características\n    axis.append('text')\n      .attr('x', (d, i) => (rScale(maxValue * 1.25)) * Math.cos(angleSlice * i - Math.PI/2))\n      .attr('y', (d, i) => (rScale(maxValue * 1.25)) * Math.sin(angleSlice * i - Math.PI/2))\n      .attr('text-anchor', 'middle')\n      .attr('dy', '0.35em')\n      .style('font-size', '12px')\n      .style('font-weight', 'bold')\n      .text(d => d);\n    \n    // Generador de líneas para el radar\n    const radarLine = d3.lineRadial()\n      .radius(d => rScale(d.value))\n      .angle((d, i) => i * angleSlice)\n      .curve(d3.curveLinearClosed);\n    \n    // Preparar datos del radar\n    const radarData = data.map(item => \n      features.map(f => ({ axis: f, value: +item[f] }))\n    );\n    \n    // Dibujar áreas del radar\n    svg.selectAll('.radar-area')\n      .data(radarData)\n      .enter()\n      .append('path')\n      .attr('class', 'radar-area')\n      .attr('d', radarLine)\n      .style('fill', (d, i) => colorScale(i))\n      .style('fill-opacity', 0.2)\n      .style('stroke', (d, i) => colorScale(i))\n      .style('stroke-width', '2px')\n      .on('mouseover', function() {\n        d3.select(this).style('fill-opacity', 0.5);\n      })\n      .on('mouseout', function() {\n        d3.select(this).style('fill-opacity', 0.2);\n      });\n    \n    // Puntos en los vértices\n    radarData.forEach((item, idx) => {\n      svg.selectAll(`.radar-circle-${idx}`)\n        .data(item)\n        .enter()\n        .append('circle')\n        .attr('class', `radar-circle-${idx}`)\n        .attr('r', 4)\n        .attr('cx', (d, i) => rScale(d.value) * Math.cos(angleSlice * i - Math.PI/2))\n        .attr('cy', (d, i) => rScale(d.value) * Math.sin(angleSlice * i - Math.PI/2))\n        .style('fill', colorScale(idx))\n        .style('fill-opacity', 0.8);\n    });\n    \n    // Leyenda\n    const legend = svg.selectAll('.legend')\n      .data(data)\n      .enter()\n      .append('g')\n      .attr('class', 'legend')\n      .attr('transform', (d, i) => `translate(${radius + 30}, ${-radius + i * 25})`);\n    \n    legend.append('rect')\n      .attr('width', 18)\n      .attr('height', 18)\n      .style('fill', (d, i) => colorScale(i));\n    \n    legend.append('text')\n      .attr('x', 24)\n      .attr('y', 9)\n      .attr('dy', '.35em')\n      .style('font-size', '12px')\n      .text(d => d['name'] || 'Sin nombre');\n    \n    status.textContent = 'Radar Chart renderizado correctamente.';\n  } catch (e) {\n    const msg = (e && e.stack) ? e.stack : (''+e);\n    document.getElementById('radar-6c55e6de-status').textContent = 'Error: ' + msg;\n  }\n})();\n",
      "text/plain": [
       "<IPython.core.display.Javascript object>"
      ]
     },
     "metadata": {},
     "output_type": "display_data"
    },
    {
     "data": {
      "text/html": [
       "<small>RadarChart listo (#radar-6c55e6de)</small>"
      ],
      "text/plain": [
       "<IPython.core.display.HTML object>"
      ]
     },
     "execution_count": 30,
     "metadata": {},
     "output_type": "execute_result"
    }
   ],
   "source": [
    "radar_data = df.groupby('origin')[['horsepower', 'weight', 'acceleration', 'mpg']].mean().reset_index()\n",
    "radar_data.columns = ['name', 'caballos', 'peso', 'aceleracion', 'eficiencia']\n",
    "\n",
    "RadarChart(\n",
    "    df=radar_data,\n",
    "    features=['caballos', 'peso', 'aceleracion', 'eficiencia'],\n",
    "    name_col='name',\n",
    "    width=700,\n",
    "    height=700\n",
    ")"
   ]
  },
  {
   "cell_type": "code",
   "execution_count": 32,
   "id": "a900f79f",
   "metadata": {},
   "outputs": [
    {
     "name": "stdout",
     "output_type": "stream",
     "text": [
      "Datos cargados: 392 filas\n",
      "Columnas: ['mpg', 'cylinders', 'displacement', 'horsepower', 'weight', 'acceleration', 'model_year', 'origin', 'name']\n",
      "\n",
      "Varianza explicada por PCA:\n",
      "PC1: 78.54%\n",
      "PC2: 14.24%\n",
      "Total: 92.78%\n"
     ]
    },
    {
     "data": {
      "text/html": [
       "<div>\n",
       "<style scoped>\n",
       "    .dataframe tbody tr th:only-of-type {\n",
       "        vertical-align: middle;\n",
       "    }\n",
       "\n",
       "    .dataframe tbody tr th {\n",
       "        vertical-align: top;\n",
       "    }\n",
       "\n",
       "    .dataframe thead th {\n",
       "        text-align: right;\n",
       "    }\n",
       "</style>\n",
       "<table border=\"1\" class=\"dataframe\">\n",
       "  <thead>\n",
       "    <tr style=\"text-align: right;\">\n",
       "      <th></th>\n",
       "      <th>mpg</th>\n",
       "      <th>cylinders</th>\n",
       "      <th>displacement</th>\n",
       "      <th>horsepower</th>\n",
       "      <th>weight</th>\n",
       "      <th>acceleration</th>\n",
       "      <th>model_year</th>\n",
       "      <th>origin</th>\n",
       "      <th>name</th>\n",
       "      <th>PC1</th>\n",
       "      <th>PC2</th>\n",
       "    </tr>\n",
       "  </thead>\n",
       "  <tbody>\n",
       "    <tr>\n",
       "      <th>0</th>\n",
       "      <td>18.0</td>\n",
       "      <td>8</td>\n",
       "      <td>307.0</td>\n",
       "      <td>130.0</td>\n",
       "      <td>3504</td>\n",
       "      <td>12.0</td>\n",
       "      <td>70</td>\n",
       "      <td>usa</td>\n",
       "      <td>chevrolet chevelle malibu</td>\n",
       "      <td>1.875970</td>\n",
       "      <td>-0.648558</td>\n",
       "    </tr>\n",
       "    <tr>\n",
       "      <th>1</th>\n",
       "      <td>15.0</td>\n",
       "      <td>8</td>\n",
       "      <td>350.0</td>\n",
       "      <td>165.0</td>\n",
       "      <td>3693</td>\n",
       "      <td>11.5</td>\n",
       "      <td>70</td>\n",
       "      <td>usa</td>\n",
       "      <td>buick skylark 320</td>\n",
       "      <td>2.852657</td>\n",
       "      <td>-0.675575</td>\n",
       "    </tr>\n",
       "    <tr>\n",
       "      <th>2</th>\n",
       "      <td>18.0</td>\n",
       "      <td>8</td>\n",
       "      <td>318.0</td>\n",
       "      <td>150.0</td>\n",
       "      <td>3436</td>\n",
       "      <td>11.0</td>\n",
       "      <td>70</td>\n",
       "      <td>usa</td>\n",
       "      <td>plymouth satellite</td>\n",
       "      <td>2.262764</td>\n",
       "      <td>-1.043147</td>\n",
       "    </tr>\n",
       "    <tr>\n",
       "      <th>3</th>\n",
       "      <td>16.0</td>\n",
       "      <td>8</td>\n",
       "      <td>304.0</td>\n",
       "      <td>150.0</td>\n",
       "      <td>3433</td>\n",
       "      <td>12.0</td>\n",
       "      <td>70</td>\n",
       "      <td>usa</td>\n",
       "      <td>amc rebel sst</td>\n",
       "      <td>2.188684</td>\n",
       "      <td>-0.666426</td>\n",
       "    </tr>\n",
       "    <tr>\n",
       "      <th>4</th>\n",
       "      <td>17.0</td>\n",
       "      <td>8</td>\n",
       "      <td>302.0</td>\n",
       "      <td>140.0</td>\n",
       "      <td>3449</td>\n",
       "      <td>10.5</td>\n",
       "      <td>70</td>\n",
       "      <td>usa</td>\n",
       "      <td>ford torino</td>\n",
       "      <td>2.187813</td>\n",
       "      <td>-1.146458</td>\n",
       "    </tr>\n",
       "  </tbody>\n",
       "</table>\n",
       "</div>"
      ],
      "text/plain": [
       "    mpg  cylinders  displacement  horsepower  weight  acceleration  \\\n",
       "0  18.0          8         307.0       130.0    3504          12.0   \n",
       "1  15.0          8         350.0       165.0    3693          11.5   \n",
       "2  18.0          8         318.0       150.0    3436          11.0   \n",
       "3  16.0          8         304.0       150.0    3433          12.0   \n",
       "4  17.0          8         302.0       140.0    3449          10.5   \n",
       "\n",
       "   model_year origin                       name       PC1       PC2  \n",
       "0          70    usa  chevrolet chevelle malibu  1.875970 -0.648558  \n",
       "1          70    usa          buick skylark 320  2.852657 -0.675575  \n",
       "2          70    usa         plymouth satellite  2.262764 -1.043147  \n",
       "3          70    usa              amc rebel sst  2.188684 -0.666426  \n",
       "4          70    usa                ford torino  2.187813 -1.146458  "
      ]
     },
     "execution_count": 32,
     "metadata": {},
     "output_type": "execute_result"
    }
   ],
   "source": [
    "# Celda 1: Cargar datos y aplicar PCA para mejores visualizaciones\n",
    "import pandas as pd\n",
    "import numpy as np\n",
    "from sklearn.preprocessing import StandardScaler\n",
    "from sklearn.decomposition import PCA\n",
    "from Isea.graphs import ScatterBrush, RadarChart, Sunburst, StreamGraph\n",
    "\n",
    "# Cargar datos\n",
    "df = pd.read_csv(\"Isea/datos_vis.csv\")\n",
    "\n",
    "# Limpiar datos (eliminar filas con valores faltantes en horsepower)\n",
    "df = df.dropna(subset=['horsepower'])\n",
    "\n",
    "print(f\"Datos cargados: {len(df)} filas\")\n",
    "print(f\"Columnas: {df.columns.tolist()}\")\n",
    "\n",
    "# Aplicar PCA a las características numéricas\n",
    "numeric_cols = ['mpg', 'displacement', 'horsepower', 'weight', 'acceleration']\n",
    "X = df[numeric_cols].dropna()\n",
    "\n",
    "# Estandarizar\n",
    "scaler = StandardScaler()\n",
    "X_scaled = scaler.fit_transform(X)\n",
    "\n",
    "# PCA a 2 componentes\n",
    "pca = PCA(n_components=2)\n",
    "X_pca = pca.fit_transform(X_scaled)\n",
    "\n",
    "# Crear DataFrame con componentes PCA\n",
    "df_pca = df.loc[X.index].copy()\n",
    "df_pca['PC1'] = X_pca[:, 0]\n",
    "df_pca['PC2'] = X_pca[:, 1]\n",
    "\n",
    "print(f\"\\nVarianza explicada por PCA:\")\n",
    "print(f\"PC1: {pca.explained_variance_ratio_[0]:.2%}\")\n",
    "print(f\"PC2: {pca.explained_variance_ratio_[1]:.2%}\")\n",
    "print(f\"Total: {sum(pca.explained_variance_ratio_):.2%}\")\n",
    "\n",
    "df_pca.head()"
   ]
  },
  {
   "cell_type": "code",
   "execution_count": 33,
   "id": "fb6a18ba",
   "metadata": {},
   "outputs": [
    {
     "data": {
      "text/html": [
       "\n",
       "<div id=\"sc-2a78e5af\" class=\"vis\"></div>\n",
       "<div id=\"sc-2a78e5af-status\" class=\"status\">Cargando…</div>\n",
       "<style>\n",
       "  .vis { width: 100%; min-height: 80px; }\n",
       "  .status { font-size:12px; color:#64748b; margin:6px 2px; }\n",
       "  .axis path, .axis line { shape-rendering: crispEdges; }\n",
       "</style>\n"
      ],
      "text/plain": [
       "<IPython.core.display.HTML object>"
      ]
     },
     "metadata": {},
     "output_type": "display_data"
    },
    {
     "data": {
      "application/javascript": "\n(async () => {\n  const status = document.getElementById('sc-2a78e5af-status');\n  try {\n    // D3 como módulo ESM\n    const mod = await import('https://cdn.jsdelivr.net/npm/d3@7/+esm');\n    const d3  = mod.default ?? mod;\n\n    const mount = document.getElementById('sc-2a78e5af');\n    mount.innerHTML = ''; // limpiar por re-ejecución\n\n    const data  = [{\"PC1\": 1.8759704154718826, \"PC2\": -0.6485577632202428, \"origin\": \"usa\"}, {\"PC1\": 2.8526565291584154, \"PC2\": -0.6755745047505268, \"origin\": \"usa\"}, {\"PC1\": 2.262764342618117, \"PC2\": -1.0431474609043139, \"origin\": \"usa\"}, {\"PC1\": 2.1886840240185075, \"PC2\": -0.66642567720342, \"origin\": \"usa\"}, {\"PC1\": 2.1878130625467596, \"PC2\": -1.1464577500134852, \"origin\": \"usa\"}, {\"PC1\": 4.176246358202942, \"PC2\": -0.9080471232720193, \"origin\": \"usa\"}, {\"PC1\": 4.7549636354475515, \"PC2\": -1.2209052904638293, \"origin\": \"usa\"}, {\"PC1\": 4.664724974035159, \"PC2\": -1.3979382430303895, \"origin\": \"usa\"}, {\"PC1\": 4.740368362604957, \"PC2\": -0.8904997565094375, \"origin\": \"usa\"}, {\"PC1\": 3.8048660318501755, \"PC2\": -1.5983091395677684, \"origin\": \"usa\"}, {\"PC1\": 3.1785395589196246, \"PC2\": -1.176134363344845, \"origin\": \"usa\"}, {\"PC1\": 3.1795778175466247, \"PC2\": -1.7785241701666348, \"origin\": \"usa\"}, {\"PC1\": 3.1759241975759696, \"PC2\": -1.1723762545207297, \"origin\": \"usa\"}, {\"PC1\": 3.996585760380401, \"PC2\": -1.4055714878892163, \"origin\": \"usa\"}, {\"PC1\": -0.7978678093586251, \"PC2\": -0.501061583332573, \"origin\": \"japan\"}, {\"PC1\": -0.09561945517760422, \"PC2\": 0.02284602229764794, \"origin\": \"usa\"}, {\"PC1\": 0.12940748018941092, \"PC2\": 0.15090447174050045, \"origin\": \"usa\"}, {\"PC1\": -0.3528782818797462, \"PC2\": 0.1610888692162011, \"origin\": \"usa\"}, {\"PC1\": -1.204632389925393, \"PC2\": -0.868089627227045, \"origin\": \"japan\"}, {\"PC1\": -2.5707869117856776, \"PC2\": 1.1009881682742664, \"origin\": \"europe\"}, {\"PC1\": -1.1070725096684964, \"PC2\": 0.39226657243548285, \"origin\": \"europe\"}, {\"PC1\": -0.7955686220202635, \"PC2\": -0.6293098163267553, \"origin\": \"europe\"}, {\"PC1\": -1.1989766063422924, \"PC2\": 0.24442075451821693, \"origin\": \"europe\"}, {\"PC1\": -0.4205176976306008, \"PC2\": -1.4748977277091857, \"origin\": \"europe\"}, {\"PC1\": -0.1389414018204828, \"PC2\": -0.15086632526903665, \"origin\": \"usa\"}, {\"PC1\": 4.021934647837422, \"PC2\": 0.5201876954882011, \"origin\": \"usa\"}, {\"PC1\": 3.333420197400736, \"PC2\": 0.7263524663839213, \"origin\": \"usa\"}, {\"PC1\": 3.639141102923586, \"PC2\": 0.19458824275284717, \"origin\": \"usa\"}, {\"PC1\": 3.060243052340472, \"PC2\": 2.0339214700041985, \"origin\": \"usa\"}, {\"PC1\": -1.204632389925393, \"PC2\": -0.868089627227045, \"origin\": \"japan\"}, {\"PC1\": -1.0848327017035473, \"PC2\": -0.4885659297365069, \"origin\": \"usa\"}, {\"PC1\": -0.8131822679294267, \"PC2\": -0.9134035499460083, \"origin\": \"japan\"}, {\"PC1\": 0.4892061088736162, \"PC2\": -0.7039865209030429, \"origin\": \"usa\"}, {\"PC1\": 0.8338186408290605, \"PC2\": 0.49234617626086763, \"origin\": \"usa\"}, {\"PC1\": 0.7683082319792359, \"PC2\": 0.4594564269776208, \"origin\": \"usa\"}, {\"PC1\": 0.48810162277318264, \"PC2\": 0.4098968291922362, \"origin\": \"usa\"}, {\"PC1\": 0.6053125638640398, \"PC2\": 0.3814875501611519, \"origin\": \"usa\"}, {\"PC1\": 3.1354417440178044, \"PC2\": -0.27911933242039927, \"origin\": \"usa\"}, {\"PC1\": 3.6951294827199272, \"PC2\": -0.30785195699152523, \"origin\": \"usa\"}, {\"PC1\": 2.7757909767082265, \"PC2\": 0.21675569537474074, \"origin\": \"usa\"}, {\"PC1\": 2.6140166482668175, \"PC2\": 0.002598014930603557, \"origin\": \"usa\"}, {\"PC1\": 4.066259671475721, \"PC2\": -0.07910316606184035, \"origin\": \"usa\"}, {\"PC1\": 3.7849238960817173, \"PC2\": 0.014753661084381758, \"origin\": \"usa\"}, {\"PC1\": 4.066790886045283, \"PC2\": 0.15015024821445352, \"origin\": \"usa\"}, {\"PC1\": 0.9137988046361953, \"PC2\": -0.3786421467743068, \"origin\": \"usa\"}, {\"PC1\": -1.3155544609675538, \"PC2\": 0.97179272618063, \"origin\": \"usa\"}, {\"PC1\": 0.6890482193988484, \"PC2\": 0.20442864917898518, \"origin\": \"usa\"}, {\"PC1\": 0.5762193671457727, \"PC2\": 0.06821084359648653, \"origin\": \"usa\"}, {\"PC1\": -0.7754426937585572, \"PC2\": -0.797815292001934, \"origin\": \"usa\"}, {\"PC1\": -1.0916246813521069, \"PC2\": -1.050708661692249, \"origin\": \"europe\"}, {\"PC1\": -2.3251163852031964, \"PC2\": 0.6182299604254586, \"origin\": \"europe\"}, {\"PC1\": -1.6045542288834407, \"PC2\": -0.9828565429343834, \"origin\": \"europe\"}, {\"PC1\": -2.588473828637091, \"PC2\": 0.31032377082399615, \"origin\": \"japan\"}, {\"PC1\": -2.728624001977238, \"PC2\": -0.2367605928928116, \"origin\": \"japan\"}, {\"PC1\": -2.2694084063846605, \"PC2\": 0.5394138688591691, \"origin\": \"europe\"}, {\"PC1\": -2.2294274394984535, \"PC2\": 1.0618277645442098, \"origin\": \"usa\"}, {\"PC1\": -0.9109161881875958, \"PC2\": -0.3782368194274742, \"origin\": \"japan\"}, {\"PC1\": -1.4955392467902209, \"PC2\": 0.029760250845358185, \"origin\": \"usa\"}, {\"PC1\": -2.4312497250003346, \"PC2\": 2.3071526015706705, \"origin\": \"europe\"}, {\"PC1\": -1.0355680756309997, \"PC2\": 1.1505543302958219, \"origin\": \"usa\"}, {\"PC1\": -0.9622916768934352, \"PC2\": 0.07737564150091031, \"origin\": \"usa\"}, {\"PC1\": 3.228540820743966, \"PC2\": -0.2151335047287383, \"origin\": \"usa\"}, {\"PC1\": 3.590413246559641, \"PC2\": -0.1792571587543154, \"origin\": \"usa\"}, {\"PC1\": 2.5178534759383187, \"PC2\": 0.13760140432790716, \"origin\": \"usa\"}, {\"PC1\": 2.8227376903656345, \"PC2\": 0.0481553257682276, \"origin\": \"usa\"}, {\"PC1\": 2.3252833234828976, \"PC2\": -0.7724557881506253, \"origin\": \"usa\"}, {\"PC1\": 4.570769418322597, \"PC2\": -0.3541530771443063, \"origin\": \"usa\"}, {\"PC1\": 3.046669783260075, \"PC2\": 0.38184791693175707, \"origin\": \"usa\"}, {\"PC1\": 3.1411203801040957, \"PC2\": 0.3869725092390848, \"origin\": \"usa\"}, {\"PC1\": 3.7961534997974127, \"PC2\": -0.01554736007640218, \"origin\": \"usa\"}, {\"PC1\": -0.5273500697669756, \"PC2\": -0.8611803853571417, \"origin\": \"japan\"}, {\"PC1\": 2.4398070967368954, \"PC2\": -0.29189663533531435, \"origin\": \"usa\"}, {\"PC1\": 2.2475544185402345, \"PC2\": 0.41078190713923235, \"origin\": \"usa\"}, {\"PC1\": 2.215993134372726, \"PC2\": 1.0833370026217648, \"origin\": \"usa\"}, {\"PC1\": 2.4817953646760533, \"PC2\": 0.31325659621591906, \"origin\": \"usa\"}, {\"PC1\": 0.16776880443090458, \"PC2\": -0.2549881840020514, \"origin\": \"europe\"}, {\"PC1\": -1.1741174762681283, \"PC2\": 0.6560111200344598, \"origin\": \"europe\"}, {\"PC1\": -0.9056655061234293, \"PC2\": 1.3151211870192676, \"origin\": \"europe\"}, {\"PC1\": -1.7847609041644221, \"PC2\": 0.36660330780778466, \"origin\": \"europe\"}, {\"PC1\": -0.8645757098829053, \"PC2\": -0.05558129632947984, \"origin\": \"usa\"}, {\"PC1\": -1.4276208688102918, \"PC2\": -0.06430643431105086, \"origin\": \"japan\"}, {\"PC1\": -0.5480370558152671, \"PC2\": -0.5669543399416975, \"origin\": \"japan\"}, {\"PC1\": -1.39976416565931, \"PC2\": -0.7078590844812515, \"origin\": \"usa\"}, {\"PC1\": -1.4646311476836231, \"PC2\": -0.24369511301262142, \"origin\": \"japan\"}, {\"PC1\": 3.1362394813090435, \"PC2\": 0.0035754258046729968, \"origin\": \"usa\"}, {\"PC1\": 2.496262698968485, \"PC2\": -0.6555087513930858, \"origin\": \"usa\"}, {\"PC1\": 2.6959698941861263, \"PC2\": 0.05747039075184771, \"origin\": \"usa\"}, {\"PC1\": 2.1637152411729383, \"PC2\": 0.48016493189349585, \"origin\": \"usa\"}, {\"PC1\": 2.4406602404561495, \"PC2\": -0.31807737317113244, \"origin\": \"usa\"}, {\"PC1\": 4.504120824077293, \"PC2\": -0.07911641756083936, \"origin\": \"usa\"}, {\"PC1\": 3.3762421104459577, \"PC2\": -0.029071059052458707, \"origin\": \"usa\"}, {\"PC1\": 3.072721617025097, \"PC2\": 0.16098722560829465, \"origin\": \"usa\"}, {\"PC1\": 2.509837935036804, \"PC2\": 0.5337872748114315, \"origin\": \"usa\"}, {\"PC1\": 4.652516431927845, \"PC2\": -0.40132270068070464, \"origin\": \"usa\"}, {\"PC1\": 5.024867846300117, \"PC2\": -0.29223190331906157, \"origin\": \"usa\"}, {\"PC1\": 3.270833888791781, \"PC2\": -0.7267845156200238, \"origin\": \"usa\"}, {\"PC1\": 0.42152372971879615, \"PC2\": 0.6100240486877434, \"origin\": \"usa\"}, {\"PC1\": 0.49280398154149474, \"PC2\": 1.2737388844325968, \"origin\": \"usa\"}, {\"PC1\": 0.3539506167349088, \"PC2\": 0.40852974415320753, \"origin\": \"usa\"}, {\"PC1\": 0.2673387057312609, \"PC2\": 0.6587544897291919, \"origin\": \"usa\"}, {\"PC1\": -0.17400738981290956, \"PC2\": 0.17015881827012183, \"origin\": \"usa\"}, {\"PC1\": -2.5677407694309795, \"PC2\": 1.3042087438734458, \"origin\": \"europe\"}, {\"PC1\": 3.5429626911760725, \"PC2\": 0.8898567682655586, \"origin\": \"usa\"}, {\"PC1\": 3.832153966084656, \"PC2\": 0.2839644740617678, \"origin\": \"usa\"}, {\"PC1\": 3.4272016967057346, \"PC2\": 0.24574228849523344, \"origin\": \"usa\"}, {\"PC1\": 3.5387105954292486, \"PC2\": 0.020894057578300033, \"origin\": \"usa\"}, {\"PC1\": 0.38896356919102226, \"PC2\": 0.030554095659929892, \"origin\": \"usa\"}, {\"PC1\": -1.270417126230362, \"PC2\": 0.8929552777164693, \"origin\": \"japan\"}, {\"PC1\": -1.3232832871562925, \"PC2\": 1.1670660347978192, \"origin\": \"usa\"}, {\"PC1\": -0.8982148496280874, \"PC2\": 0.05333068393615779, \"origin\": \"japan\"}, {\"PC1\": -0.6729981634676176, \"PC2\": -0.8788116707415571, \"origin\": \"japan\"}, {\"PC1\": -1.0575817752191639, \"PC2\": 0.8268197040764131, \"origin\": \"usa\"}, {\"PC1\": -0.10425236525517895, \"PC2\": -0.6482375215199581, \"origin\": \"usa\"}, {\"PC1\": -1.164489687739412, \"PC2\": -0.4643851457404396, \"origin\": \"europe\"}, {\"PC1\": 2.6341984045861566, \"PC2\": 0.015664581394717308, \"origin\": \"usa\"}, {\"PC1\": 4.414262270252735, \"PC2\": -1.27109245135387, \"origin\": \"usa\"}, {\"PC1\": -2.6986077750762423, \"PC2\": 0.6312833457660264, \"origin\": \"europe\"}, {\"PC1\": -1.2157394963917425, \"PC2\": -0.3558759847681513, \"origin\": \"europe\"}, {\"PC1\": -0.37736179696212113, \"PC2\": -0.5680988987144646, \"origin\": \"europe\"}, {\"PC1\": -0.046997508505687687, \"PC2\": -0.0010067202543895695, \"origin\": \"europe\"}, {\"PC1\": 2.41319109952095, \"PC2\": -0.9404331754993149, \"origin\": \"usa\"}, {\"PC1\": -0.2902050753515602, \"PC2\": -0.7464153355505277, \"origin\": \"europe\"}, {\"PC1\": 0.393310804080827, \"PC2\": -0.6865739375469736, \"origin\": \"japan\"}, {\"PC1\": 3.3143819663499947, \"PC2\": -0.7382731118156858, \"origin\": \"usa\"}, {\"PC1\": 0.04612265079409632, \"PC2\": 0.5222539539311883, \"origin\": \"usa\"}, {\"PC1\": 0.2725165397449054, \"PC2\": 0.3526219645265021, \"origin\": \"usa\"}, {\"PC1\": 0.703681961232701, \"PC2\": 1.0170647379966165, \"origin\": \"usa\"}, {\"PC1\": -2.427960563840642, \"PC2\": 0.38226280743719315, \"origin\": \"japan\"}, {\"PC1\": -1.1978864137118308, \"PC2\": -0.01158999385460232, \"origin\": \"usa\"}, {\"PC1\": -2.853806427011341, \"PC2\": 0.9315101523116617, \"origin\": \"japan\"}, {\"PC1\": -1.130959930672359, \"PC2\": 0.2607589577819432, \"origin\": \"usa\"}, {\"PC1\": 0.8938757352418077, \"PC2\": 1.1492600775967308, \"origin\": \"usa\"}, {\"PC1\": 0.8524515312142165, \"PC2\": 1.387903556041965, \"origin\": \"usa\"}, {\"PC1\": 0.694818009251643, \"PC2\": 0.7992811747809855, \"origin\": \"usa\"}, {\"PC1\": 2.2033603760874194, \"PC2\": 0.27160103279804737, \"origin\": \"usa\"}, {\"PC1\": 2.971421978232242, \"PC2\": 0.7917579739261834, \"origin\": \"usa\"}, {\"PC1\": 2.753709930387939, \"PC2\": 0.3004471535764039, \"origin\": \"usa\"}, {\"PC1\": 2.3500838144126917, \"PC2\": 1.1766807777189983, \"origin\": \"usa\"}, {\"PC1\": 2.334547318205452, \"PC2\": 0.8413917533165358, \"origin\": \"usa\"}, {\"PC1\": -1.5709013298319685, \"PC2\": -0.25843148915306685, \"origin\": \"europe\"}, {\"PC1\": -1.7099384209819615, \"PC2\": -0.5307102882500415, \"origin\": \"europe\"}, {\"PC1\": -1.1792270662506878, \"PC2\": -0.7313875965571832, \"origin\": \"europe\"}, {\"PC1\": -2.493890267074356, \"PC2\": -0.48382101678803774, \"origin\": \"japan\"}, {\"PC1\": -2.512629587132739, \"PC2\": 0.38822240609601205, \"origin\": \"japan\"}, {\"PC1\": -1.4605937253183214, \"PC2\": -0.8759996621626612, \"origin\": \"usa\"}, {\"PC1\": -1.363731555905811, \"PC2\": -0.40864236062301174, \"origin\": \"europe\"}, {\"PC1\": -1.09834298874354, \"PC2\": -0.8769407450171103, \"origin\": \"europe\"}, {\"PC1\": -0.6753068941068541, \"PC2\": -0.45349241205094176, \"origin\": \"japan\"}, {\"PC1\": -1.010456275103384, \"PC2\": -0.4127173661155197, \"origin\": \"japan\"}, {\"PC1\": -2.035185046313735, \"PC2\": -0.5524056191070719, \"origin\": \"europe\"}, {\"PC1\": 0.37877856437135965, \"PC2\": 0.499391680668451, \"origin\": \"usa\"}, {\"PC1\": 0.7857027677068791, \"PC2\": 0.613301709996353, \"origin\": \"usa\"}, {\"PC1\": -0.08251377537973337, \"PC2\": 2.416374818909004, \"origin\": \"usa\"}, {\"PC1\": -0.052213393812054774, \"PC2\": 1.834024587950125, \"origin\": \"usa\"}, {\"PC1\": 3.631450996824186, \"PC2\": -0.2911811999197963, \"origin\": \"usa\"}, {\"PC1\": 2.711391640068326, \"PC2\": 0.471343358893757, \"origin\": \"usa\"}, {\"PC1\": 2.540830967148187, \"PC2\": 0.5562211810184707, \"origin\": \"usa\"}, {\"PC1\": 2.9921861183319853, \"PC2\": 0.42640716130490947, \"origin\": \"usa\"}, {\"PC1\": 0.4583706168585472, \"PC2\": 2.3737843914451777, \"origin\": \"usa\"}, {\"PC1\": 0.8388194934301105, \"PC2\": 1.6546696322639953, \"origin\": \"usa\"}, {\"PC1\": 0.8422140856010526, \"PC2\": 1.7825507507035931, \"origin\": \"usa\"}, {\"PC1\": 0.3601730695942332, \"PC2\": 1.6926884263742559, \"origin\": \"usa\"}, {\"PC1\": 0.4782482110458134, \"PC2\": -0.023841392885637053, \"origin\": \"usa\"}, {\"PC1\": 0.9621759998715154, \"PC2\": -0.3518186664657302, \"origin\": \"usa\"}, {\"PC1\": 1.9391307521576508, \"PC2\": -0.5857261791250884, \"origin\": \"usa\"}, {\"PC1\": -1.642169348522281, \"PC2\": -0.41130820261586626, \"origin\": \"japan\"}, {\"PC1\": -0.8622774897053442, \"PC2\": 0.350175767511882, \"origin\": \"usa\"}, {\"PC1\": 0.2227446048959026, \"PC2\": 0.3186403153618185, \"origin\": \"usa\"}, {\"PC1\": -1.1338951002489914, \"PC2\": 0.8252102450902968, \"origin\": \"usa\"}, {\"PC1\": -0.3223585848899471, \"PC2\": -0.827220073384907, \"origin\": \"japan\"}, {\"PC1\": -1.5289196575110895, \"PC2\": -0.07249009982864799, \"origin\": \"europe\"}, {\"PC1\": -0.8921584794345678, \"PC2\": 0.2026939043311303, \"origin\": \"japan\"}, {\"PC1\": 0.23825890540308778, \"PC2\": -0.12239472313666762, \"origin\": \"usa\"}, {\"PC1\": -1.6241921296886028, \"PC2\": -1.1301204357705823, \"origin\": \"europe\"}, {\"PC1\": 0.19702816695503786, \"PC2\": 0.8221625948162098, \"origin\": \"usa\"}, {\"PC1\": -0.5527637971691239, \"PC2\": -0.3356363780778335, \"origin\": \"europe\"}, {\"PC1\": -0.7151022666619231, \"PC2\": 0.4305429539634959, \"origin\": \"europe\"}, {\"PC1\": -0.22996423450674383, \"PC2\": -0.36104519116495554, \"origin\": \"europe\"}, {\"PC1\": -0.2172449685850488, \"PC2\": -0.9563129496725327, \"origin\": \"europe\"}, {\"PC1\": -2.5664856734109853, \"PC2\": -0.1715434252397149, \"origin\": \"japan\"}, {\"PC1\": -1.1767296695220255, \"PC2\": -0.44126277768333055, \"origin\": \"europe\"}, {\"PC1\": -1.333015978178298, \"PC2\": 0.054749775308391896, \"origin\": \"europe\"}, {\"PC1\": -0.6445625713482662, \"PC2\": -0.45038642208723245, \"origin\": \"usa\"}, {\"PC1\": -1.5763329960869539, \"PC2\": 0.2668547647900955, \"origin\": \"usa\"}, {\"PC1\": -1.3064861544704138, \"PC2\": -0.564697735942256, \"origin\": \"europe\"}, {\"PC1\": 2.2945144983303876, \"PC2\": -0.0725050903055999, \"origin\": \"usa\"}, {\"PC1\": 2.5522451586668478, \"PC2\": -0.039207794426526964, \"origin\": \"usa\"}, {\"PC1\": 1.9018034807184812, \"PC2\": 0.2576711147302697, \"origin\": \"usa\"}, {\"PC1\": 2.853743651154022, \"PC2\": 0.0013848211235523294, \"origin\": \"usa\"}, {\"PC1\": 0.3265891449628727, \"PC2\": 0.16357655010091013, \"origin\": \"usa\"}, {\"PC1\": 0.6813506465163721, \"PC2\": -0.06035351878626845, \"origin\": \"usa\"}, {\"PC1\": -0.5328553603821986, \"PC2\": 0.7293041898994275, \"origin\": \"usa\"}, {\"PC1\": -0.14543811125468845, \"PC2\": 0.8280364717396086, \"origin\": \"usa\"}, {\"PC1\": -2.817379448646478, \"PC2\": 1.5666470044288785, \"origin\": \"usa\"}, {\"PC1\": -2.3161631081513434, \"PC2\": 1.7507988195952504, \"origin\": \"usa\"}, {\"PC1\": -1.6485255769306888, \"PC2\": -1.0665269774827182, \"origin\": \"europe\"}, {\"PC1\": -2.554318949789942, \"PC2\": -0.20334015438364764, \"origin\": \"japan\"}, {\"PC1\": 0.39292979436994474, \"PC2\": 1.133657634971206, \"origin\": \"usa\"}, {\"PC1\": -0.09900428256242788, \"PC2\": 2.3346551962367283, \"origin\": \"usa\"}, {\"PC1\": 0.899200702841671, \"PC2\": 0.7127894398827592, \"origin\": \"usa\"}, {\"PC1\": 0.358413121011643, \"PC2\": 1.1454558519023499, \"origin\": \"usa\"}, {\"PC1\": -1.4509326717541269, \"PC2\": -1.759240156410875, \"origin\": \"europe\"}, {\"PC1\": -2.153851870725834, \"PC2\": -0.27922678358563474, \"origin\": \"japan\"}, {\"PC1\": -1.6427307366911874, \"PC2\": -0.2512936437418762, \"origin\": \"japan\"}, {\"PC1\": -0.8278106887273795, \"PC2\": -0.8602581767185936, \"origin\": \"usa\"}, {\"PC1\": -0.05608454064115244, \"PC2\": 0.17601455257283213, \"origin\": \"europe\"}, {\"PC1\": 2.560022042432277, \"PC2\": 0.04516546175035946, \"origin\": \"usa\"}, {\"PC1\": -0.9094351797590368, \"PC2\": 2.2649134474229466, \"origin\": \"europe\"}, {\"PC1\": 0.09886677427989424, \"PC2\": 0.08091362015562187, \"origin\": \"japan\"}, {\"PC1\": 0.7964305505919548, \"PC2\": 0.8789711850726958, \"origin\": \"europe\"}, {\"PC1\": 3.264806761513477, \"PC2\": -0.32748901983515266, \"origin\": \"usa\"}, {\"PC1\": 2.8548540343166806, \"PC2\": -0.2347240806707124, \"origin\": \"usa\"}, {\"PC1\": 1.9761197194160989, \"PC2\": 0.6345960367148602, \"origin\": \"usa\"}, {\"PC1\": 2.3599251605501586, \"PC2\": 0.22837553813911515, \"origin\": \"usa\"}, {\"PC1\": -2.2423995977125952, \"PC2\": 0.26160377548860975, \"origin\": \"japan\"}, {\"PC1\": -1.4343071290329328, \"PC2\": -0.8361127904994968, \"origin\": \"usa\"}, {\"PC1\": -2.847110693963841, \"PC2\": 0.041173909886054634, \"origin\": \"europe\"}, {\"PC1\": -0.9299695150136298, \"PC2\": -0.4198726650230639, \"origin\": \"usa\"}, {\"PC1\": -2.240004539232595, \"PC2\": -0.41860386324860194, \"origin\": \"japan\"}, {\"PC1\": 2.232272972701109, \"PC2\": -0.37651581743578616, \"origin\": \"usa\"}, {\"PC1\": 0.9207825317282644, \"PC2\": 1.8341062708445859, \"origin\": \"usa\"}, {\"PC1\": 2.4047914711387395, \"PC2\": 0.1997900159269303, \"origin\": \"usa\"}, {\"PC1\": 2.11037756832614, \"PC2\": 0.6883189224757146, \"origin\": \"usa\"}, {\"PC1\": 0.8624258585224113, \"PC2\": 0.7672816243222114, \"origin\": \"usa\"}, {\"PC1\": 0.426981453634947, \"PC2\": 0.7644328317817015, \"origin\": \"usa\"}, {\"PC1\": 0.43825791979564915, \"PC2\": 1.164561932492097, \"origin\": \"usa\"}, {\"PC1\": 0.34065279802429366, \"PC2\": 1.5957287364400832, \"origin\": \"usa\"}, {\"PC1\": 3.5572833153358987, \"PC2\": -0.6230257712013322, \"origin\": \"usa\"}, {\"PC1\": 3.1615208220392517, \"PC2\": -0.5614616410303334, \"origin\": \"usa\"}, {\"PC1\": 3.636289668498394, \"PC2\": -0.24570630015380016, \"origin\": \"usa\"}, {\"PC1\": 2.5902711776832965, \"PC2\": 0.5393137616445467, \"origin\": \"usa\"}, {\"PC1\": -1.5501778657847, \"PC2\": -0.9868154572853876, \"origin\": \"europe\"}, {\"PC1\": -0.6561259038330969, \"PC2\": 0.01061054890429441, \"origin\": \"usa\"}, {\"PC1\": -1.686643131975886, \"PC2\": 0.4413257571227456, \"origin\": \"japan\"}, {\"PC1\": -0.7187131314803101, \"PC2\": -0.10361482493698329, \"origin\": \"usa\"}, {\"PC1\": -2.0625821370337367, \"PC2\": -0.15789382102497193, \"origin\": \"usa\"}, {\"PC1\": -1.8343586209534617, \"PC2\": -0.6800247487412355, \"origin\": \"usa\"}, {\"PC1\": -1.9519629386457993, \"PC2\": -0.36879128722142224, \"origin\": \"japan\"}, {\"PC1\": -1.448131614565249, \"PC2\": -1.0763086533713693, \"origin\": \"europe\"}, {\"PC1\": -0.19918354106005295, \"PC2\": -0.3755763590332067, \"origin\": \"japan\"}, {\"PC1\": -0.035050149669124286, \"PC2\": -1.0536003586415432, \"origin\": \"europe\"}, {\"PC1\": -0.24313500733451268, \"PC2\": -0.8377418281051072, \"origin\": \"japan\"}, {\"PC1\": -3.5908778633202494, \"PC2\": 0.7945644049641907, \"origin\": \"europe\"}, {\"PC1\": -2.1670277189293574, \"PC2\": -1.30915961066797, \"origin\": \"usa\"}, {\"PC1\": -2.753425323857547, \"PC2\": 0.49994413137700466, \"origin\": \"japan\"}, {\"PC1\": -2.725830480627323, \"PC2\": -0.028174958180055873, \"origin\": \"japan\"}, {\"PC1\": -2.5183398944791513, \"PC2\": -0.6628575462191206, \"origin\": \"japan\"}, {\"PC1\": 0.7952818518463288, \"PC2\": 0.3408270245535233, \"origin\": \"usa\"}, {\"PC1\": 1.9553746731920898, \"PC2\": -0.25085272321781854, \"origin\": \"usa\"}, {\"PC1\": 1.780211161098971, \"PC2\": -0.49009894570004625, \"origin\": \"usa\"}, {\"PC1\": 0.2823402526317295, \"PC2\": 1.5887482364558922, \"origin\": \"usa\"}, {\"PC1\": -0.15052041817533485, \"PC2\": 1.066274087231482, \"origin\": \"usa\"}, {\"PC1\": -0.07298033925732421, \"PC2\": 0.27408615256621216, \"origin\": \"usa\"}, {\"PC1\": -0.6792925283315476, \"PC2\": -0.2254396204546241, \"origin\": \"usa\"}, {\"PC1\": 0.3025066145756125, \"PC2\": 0.8701709772988522, \"origin\": \"usa\"}, {\"PC1\": 0.14934199347029456, \"PC2\": 0.8697784459142616, \"origin\": \"usa\"}, {\"PC1\": 0.5301196729441813, \"PC2\": 0.3934604736435294, \"origin\": \"usa\"}, {\"PC1\": -0.15835172826303892, \"PC2\": 0.5772575478348716, \"origin\": \"usa\"}, {\"PC1\": 0.4598519236030871, \"PC2\": 1.4619495099575943, \"origin\": \"usa\"}, {\"PC1\": 1.0883039936202727, \"PC2\": 0.2662130143689844, \"origin\": \"usa\"}, {\"PC1\": 1.797475933628549, \"PC2\": -0.39523307566490096, \"origin\": \"usa\"}, {\"PC1\": 1.7796195647763966, \"PC2\": -0.42556451742661716, \"origin\": \"usa\"}, {\"PC1\": 1.891815496937586, \"PC2\": -1.0573878550207212, \"origin\": \"usa\"}, {\"PC1\": 2.1944672742741536, \"PC2\": 0.11490816875350489, \"origin\": \"usa\"}, {\"PC1\": -1.8524730579785882, \"PC2\": -0.2735437039091186, \"origin\": \"usa\"}, {\"PC1\": -0.6984810807405376, \"PC2\": -0.7924715743398193, \"origin\": \"japan\"}, {\"PC1\": -0.9307935002570483, \"PC2\": -0.747618265945168, \"origin\": \"japan\"}, {\"PC1\": -1.4981921065578243, \"PC2\": -0.9293123039900173, \"origin\": \"usa\"}, {\"PC1\": -0.4317218494369289, \"PC2\": -0.36951429072314096, \"origin\": \"japan\"}, {\"PC1\": -0.4270737532858932, \"PC2\": 0.23728255045557814, \"origin\": \"usa\"}, {\"PC1\": -0.7848241592162432, \"PC2\": 0.6005805757928488, \"origin\": \"usa\"}, {\"PC1\": -0.7087246357841975, \"PC2\": -0.5149928268992325, \"origin\": \"japan\"}, {\"PC1\": -0.2580426483205653, \"PC2\": 0.10287637317101997, \"origin\": \"europe\"}, {\"PC1\": 0.8072691007994223, \"PC2\": -0.41040510224681415, \"origin\": \"europe\"}, {\"PC1\": -0.22225721663653975, \"PC2\": -0.07654598303536018, \"origin\": \"europe\"}, {\"PC1\": 0.8359892506880803, \"PC2\": 0.39830866324363357, \"origin\": \"europe\"}, {\"PC1\": -1.8387571214500114, \"PC2\": -0.925540607068146, \"origin\": \"europe\"}, {\"PC1\": -1.8472527425769456, \"PC2\": -0.22994918108174392, \"origin\": \"japan\"}, {\"PC1\": 0.578522222496765, \"PC2\": 0.14693317439811554, \"origin\": \"usa\"}, {\"PC1\": -0.3282975516498058, \"PC2\": 1.0624173141417765, \"origin\": \"usa\"}, {\"PC1\": -0.6564485764330615, \"PC2\": 0.5532425233510513, \"origin\": \"usa\"}, {\"PC1\": 0.012631446915549585, \"PC2\": 1.1777166534359809, \"origin\": \"usa\"}, {\"PC1\": 0.4569430630640709, \"PC2\": 0.6162395783400662, \"origin\": \"usa\"}, {\"PC1\": 1.696687375556929, \"PC2\": 0.5981826862923457, \"origin\": \"usa\"}, {\"PC1\": 1.8154730006377133, \"PC2\": -0.10601482156134777, \"origin\": \"usa\"}, {\"PC1\": 2.3702404476637837, \"PC2\": -0.004150534180877015, \"origin\": \"usa\"}, {\"PC1\": 1.7701928120010078, \"PC2\": 0.48456720646059115, \"origin\": \"usa\"}, {\"PC1\": 2.5751848471706626, \"PC2\": 0.6203479854846903, \"origin\": \"usa\"}, {\"PC1\": 2.3987992553003874, \"PC2\": 0.4097476735187884, \"origin\": \"usa\"}, {\"PC1\": 1.2507195199517518, \"PC2\": 0.2619907220994458, \"origin\": \"usa\"}, {\"PC1\": 2.465092013821621, \"PC2\": -0.17866232112856067, \"origin\": \"usa\"}, {\"PC1\": -1.7881598104896674, \"PC2\": -1.2523075897036897, \"origin\": \"europe\"}, {\"PC1\": -2.1212541480518374, \"PC2\": -0.9217481589089715, \"origin\": \"japan\"}, {\"PC1\": -1.9039244559795536, \"PC2\": -1.2945860902689064, \"origin\": \"usa\"}, {\"PC1\": -0.9781504305299412, \"PC2\": -0.46016344158807176, \"origin\": \"usa\"}, {\"PC1\": -0.7580889074582046, \"PC2\": 1.6599106626214226, \"origin\": \"europe\"}, {\"PC1\": 1.28978339612083, \"PC2\": 1.0975040744515316, \"origin\": \"usa\"}, {\"PC1\": -1.8911844070056107, \"PC2\": 2.9186282669314867, \"origin\": \"europe\"}, {\"PC1\": -0.4693474450903252, \"PC2\": 2.401087212711521, \"origin\": \"usa\"}, {\"PC1\": -1.6077756737219033, \"PC2\": -1.4666886106319412, \"origin\": \"usa\"}, {\"PC1\": -1.859481721723809, \"PC2\": -0.9570723666345492, \"origin\": \"usa\"}, {\"PC1\": -2.456466255885164, \"PC2\": 0.45580077668897845, \"origin\": \"japan\"}, {\"PC1\": -2.0831733278455755, \"PC2\": -1.152333367450623, \"origin\": \"europe\"}, {\"PC1\": -0.8920786740717718, \"PC2\": -0.1748126182943763, \"origin\": \"usa\"}, {\"PC1\": 0.032069387178394575, \"PC2\": -1.7661428885189747, \"origin\": \"usa\"}, {\"PC1\": 0.009713058246221045, \"PC2\": -1.1390402907195882, \"origin\": \"usa\"}, {\"PC1\": -0.9053996352900661, \"PC2\": -1.3077832577363415, \"origin\": \"usa\"}, {\"PC1\": -2.19418820873247, \"PC2\": -1.3242739313700878, \"origin\": \"europe\"}, {\"PC1\": -2.840255071558527, \"PC2\": 0.08434419057696277, \"origin\": \"japan\"}, {\"PC1\": -1.8447293004885497, \"PC2\": -0.6933025270509962, \"origin\": \"usa\"}, {\"PC1\": -2.4194925676779877, \"PC2\": -0.6441072464570494, \"origin\": \"japan\"}, {\"PC1\": -0.9256712326889439, \"PC2\": 0.0028413173034162256, \"origin\": \"usa\"}, {\"PC1\": -0.9985637021232885, \"PC2\": 0.640095360491058, \"origin\": \"usa\"}, {\"PC1\": -0.972268962126109, \"PC2\": 1.416775655681683, \"origin\": \"usa\"}, {\"PC1\": 0.046559051036624846, \"PC2\": 1.4151743821132154, \"origin\": \"usa\"}, {\"PC1\": -1.8726507440938838, \"PC2\": -0.6846665090616846, \"origin\": \"europe\"}, {\"PC1\": -0.9668651486877494, \"PC2\": -0.39452549671285014, \"origin\": \"japan\"}, {\"PC1\": -1.6433258146961192, \"PC2\": 0.1483592662483435, \"origin\": \"japan\"}, {\"PC1\": -1.5144018657323077, \"PC2\": -0.9665464438944293, \"origin\": \"japan\"}, {\"PC1\": -1.6241372317787957, \"PC2\": -0.7400796517931354, \"origin\": \"japan\"}, {\"PC1\": -3.0871804663251234, \"PC2\": -0.4985854828568815, \"origin\": \"japan\"}, {\"PC1\": -0.3845556084774806, \"PC2\": -0.6561024515572685, \"origin\": \"usa\"}, {\"PC1\": -2.919411526329821, \"PC2\": 0.13957987240902678, \"origin\": \"japan\"}, {\"PC1\": -3.628055442965341, \"PC2\": 0.8498459440964461, \"origin\": \"europe\"}, {\"PC1\": -3.6812270582624538, \"PC2\": 1.6170318768708707, \"origin\": \"europe\"}, {\"PC1\": -2.0955490618542947, \"PC2\": 0.8967662351741814, \"origin\": \"europe\"}, {\"PC1\": -1.6797234844959925, \"PC2\": 1.8980349873785691, \"origin\": \"europe\"}, {\"PC1\": -2.570459709099676, \"PC2\": -1.8243171675247474, \"origin\": \"japan\"}, {\"PC1\": -2.2743282037316, \"PC2\": 0.05337049873112929, \"origin\": \"japan\"}, {\"PC1\": -1.9844966255153216, \"PC2\": -0.7587673351521367, \"origin\": \"europe\"}, {\"PC1\": 0.1637174550635758, \"PC2\": -1.826609362711939, \"origin\": \"japan\"}, {\"PC1\": -0.5857520402855187, \"PC2\": -1.3374422838533038, \"origin\": \"japan\"}, {\"PC1\": -1.4124570753704913, \"PC2\": -0.8145973034467819, \"origin\": \"europe\"}, {\"PC1\": -1.8830793819317508, \"PC2\": -0.15751021163976595, \"origin\": \"japan\"}, {\"PC1\": -1.036764177997016, \"PC2\": -0.2939044734663787, \"origin\": \"usa\"}, {\"PC1\": -0.9332108605308697, \"PC2\": 0.0284746844863376, \"origin\": \"usa\"}, {\"PC1\": -0.5286801349137025, \"PC2\": -0.601456186362873, \"origin\": \"usa\"}, {\"PC1\": 0.18516807072518085, \"PC2\": -1.0800090325045284, \"origin\": \"usa\"}, {\"PC1\": -0.9140016657418161, \"PC2\": -1.3337536974616298, \"origin\": \"usa\"}, {\"PC1\": -2.8558384128617433, \"PC2\": -0.647142583760104, \"origin\": \"japan\"}, {\"PC1\": -2.6146706377619346, \"PC2\": -0.7664352018344965, \"origin\": \"usa\"}, {\"PC1\": -2.4933034342700564, \"PC2\": -0.747549426315247, \"origin\": \"japan\"}, {\"PC1\": -2.208943162979703, \"PC2\": 0.01747704238410915, \"origin\": \"japan\"}, {\"PC1\": -2.8021603819749883, \"PC2\": 0.2993759349341081, \"origin\": \"japan\"}, {\"PC1\": -2.564204170242878, \"PC2\": -0.3519361465294939, \"origin\": \"japan\"}, {\"PC1\": -2.1521086553716824, \"PC2\": -0.6667767849831924, \"origin\": \"japan\"}, {\"PC1\": -1.9229875214044556, \"PC2\": -0.9172371797885077, \"origin\": \"usa\"}, {\"PC1\": -2.1656506429176803, \"PC2\": -0.5730720082247606, \"origin\": \"usa\"}, {\"PC1\": -2.27059962303562, \"PC2\": 1.1620654584723142, \"origin\": \"usa\"}, {\"PC1\": -1.616198420824323, \"PC2\": -1.1187195791057125, \"origin\": \"europe\"}, {\"PC1\": -1.6474680992083615, \"PC2\": -1.0753735238775584, \"origin\": \"japan\"}, {\"PC1\": -1.7829879596253126, \"PC2\": -0.20643159339209166, \"origin\": \"japan\"}, {\"PC1\": -1.0550404157386626, \"PC2\": -0.8265479744622553, \"origin\": \"japan\"}, {\"PC1\": -1.7187001318404045, \"PC2\": 0.43004520484847886, \"origin\": \"japan\"}, {\"PC1\": -1.271506456649878, \"PC2\": 1.4707814654020857, \"origin\": \"europe\"}, {\"PC1\": -1.3931505107693731, \"PC2\": 1.1062160039180975, \"origin\": \"europe\"}, {\"PC1\": 0.22658182074193828, \"PC2\": -1.1126026395173356, \"origin\": \"japan\"}, {\"PC1\": 0.11432153837523193, \"PC2\": -0.7140274075529507, \"origin\": \"japan\"}, {\"PC1\": 0.5099830897458822, \"PC2\": 0.3205926837038865, \"origin\": \"usa\"}, {\"PC1\": 0.5406947330022908, \"PC2\": 1.4632501547442862, \"origin\": \"usa\"}, {\"PC1\": -0.1405718839095427, \"PC2\": 0.7142893934113416, \"origin\": \"usa\"}, {\"PC1\": 0.37120055789983214, \"PC2\": 0.8543917620559416, \"origin\": \"usa\"}, {\"PC1\": -1.5489205522030067, \"PC2\": 0.9166248874246595, \"origin\": \"usa\"}, {\"PC1\": -1.3508185246037832, \"PC2\": 0.6511033550127757, \"origin\": \"usa\"}, {\"PC1\": -1.8128617225990737, \"PC2\": 0.09320266695710942, \"origin\": \"usa\"}, {\"PC1\": -1.3607012354301722, \"PC2\": -0.28325322009477305, \"origin\": \"usa\"}, {\"PC1\": -1.156410307924568, \"PC2\": -0.2552190946475129, \"origin\": \"usa\"}, {\"PC1\": -1.0195168197017268, \"PC2\": 0.5407007305102688, \"origin\": \"usa\"}, {\"PC1\": -0.6073157803737486, \"PC2\": 0.17825486461149997, \"origin\": \"usa\"}, {\"PC1\": -2.0376617535029657, \"PC2\": -0.9666830759295508, \"origin\": \"europe\"}, {\"PC1\": -2.5628375908875403, \"PC2\": -0.06491078779667425, \"origin\": \"japan\"}, {\"PC1\": -2.178429687975282, \"PC2\": -0.042953881696262304, \"origin\": \"japan\"}, {\"PC1\": -2.1367242432086218, \"PC2\": -1.1440925845023322, \"origin\": \"usa\"}, {\"PC1\": -2.2832261329090278, \"PC2\": -0.2710692054676457, \"origin\": \"usa\"}, {\"PC1\": -1.5945593170361554, \"PC2\": -1.1777269247636486, \"origin\": \"japan\"}, {\"PC1\": -1.79349639159125, \"PC2\": -1.1351595343584433, \"origin\": \"japan\"}, {\"PC1\": -2.00767805805225, \"PC2\": -0.26123387618358, \"origin\": \"japan\"}, {\"PC1\": -2.276426006023986, \"PC2\": -1.1412360070514553, \"origin\": \"japan\"}, {\"PC1\": -2.0196343204001117, \"PC2\": -0.6847648295288508, \"origin\": \"japan\"}, {\"PC1\": -2.4057624041391343, \"PC2\": -0.7481351886600461, \"origin\": \"japan\"}, {\"PC1\": -0.20346212451702178, \"PC2\": 0.16473815081539506, \"origin\": \"usa\"}, {\"PC1\": -0.9190105517590677, \"PC2\": 0.06095773483256375, \"origin\": \"usa\"}, {\"PC1\": -0.5716871497940481, \"PC2\": -0.5909193397777025, \"origin\": \"usa\"}, {\"PC1\": 0.3742656456693627, \"PC2\": -0.241861857347554, \"origin\": \"usa\"}, {\"PC1\": -0.8012853105523696, \"PC2\": -1.013227392817276, \"origin\": \"japan\"}, {\"PC1\": -1.2764592830027186, \"PC2\": -1.5416210761648874, \"origin\": \"usa\"}, {\"PC1\": -0.8149223761032831, \"PC2\": 0.400827451929668, \"origin\": \"usa\"}, {\"PC1\": -0.7982333312737616, \"PC2\": -0.20252059936599845, \"origin\": \"usa\"}, {\"PC1\": -3.856022109638497, \"PC2\": 1.7970536069030507, \"origin\": \"europe\"}, {\"PC1\": -0.9198133650040871, \"PC2\": -1.8596960734971089, \"origin\": \"usa\"}, {\"PC1\": -1.492570438033828, \"PC2\": 0.6457621655078707, \"origin\": \"usa\"}, {\"PC1\": -1.6749315189363592, \"PC2\": 0.8087449958726769, \"origin\": \"usa\"}];\n    const W=900, H=600, m={top:24,right:16,bottom:36,left:44};\n    const iW = W - m.left - m.right, iH = H - m.top - m.bottom;\n\n    const svg = d3.select(mount).append('svg')\n      .attr('width', W).attr('height', H);\n    const g = svg.append('g').attr('transform', `translate(${m.left},${m.top})`);\n\n    const x = d3.scaleLinear()\n      .domain(d3.extent(data, d => +d['PC1'])).nice()\n      .range([0, iW]);\n    const y = d3.scaleLinear()\n      .domain(d3.extent(data, d => +d['PC2'])).nice()\n      .range([iH, 0]);\n\n    g.append('g').attr('transform', `translate(0,${iH})`).call(d3.axisBottom(x));\n    g.append('g').call(d3.axisLeft(y));\n\n    const cats = [...new Set(data.map(d => d['origin']))];\n    const color = d3.scaleOrdinal(cats, d3.schemeCategory10);\n\n    const dots = g.selectAll('circle').data(data).join('circle')\n      .attr('r', 3.5)\n      .attr('cx', d => x(+d['PC1']))\n      .attr('cy', d => y(+d['PC2']))\n      .attr('fill', d => color(d['origin']))\n      .attr('opacity', 0.95);\n\n    const brush = d3.brush()\n      .extent([[0,0],[iW,iH]])\n      .on('brush end', (ev) => {\n        const sel = ev.selection;\n        if (!sel) {\n          dots.attr('opacity', 0.95).attr('stroke', null);\n          status.textContent = 'Tip: arrastra para seleccionar. Doble clic limpia.';\n          window._lastSelection = null;\n          return;\n        }\n        const [[x0,y0],[x1,y1]] = sel;\n        let count = 0;\n        dots\n          .attr('opacity', d => {\n            const hit = (x0 <= x(+d['PC1']) && x(+d['PC1']) <= x1 &&\n                         y0 <= y(+d['PC2']) && y(+d['PC2']) <= y1);\n            if (hit) count++;\n            return hit ? 1 : 0.2;\n          })\n          .attr('stroke', d => {\n            const hit = (x0 <= x(+d['PC1']) && x(+d['PC1']) <= x1 &&\n                         y0 <= y(+d['PC2']) && y(+d['PC2']) <= y1);\n            return hit ? '#111' : null;\n          })\n          .attr('stroke-width', d => {\n            const hit = (x0 <= x(+d['PC1']) && x(+d['PC1']) <= x1 &&\n                         y0 <= y(+d['PC2']) && y(+d['PC2']) <= y1);\n            return hit ? 1.1 : null;\n          });\n        status.textContent = `Seleccionados: ${count} punto(s).`;\n      });\n\n    const gBrush = g.append('g').attr('class','brush').call(brush);\n    svg.on('dblclick', () => gBrush.call(brush.move, null));\n\n    status.textContent = 'Tip: arrastra para seleccionar. Doble clic limpia.';\n  } catch (e) {\n    const msg = (e && e.stack) ? e.stack : (''+e);\n    document.getElementById('sc-2a78e5af-status').textContent = 'Error al renderizar: ' + msg;\n  }\n})();\n",
      "text/plain": [
       "<IPython.core.display.Javascript object>"
      ]
     },
     "metadata": {},
     "output_type": "display_data"
    },
    {
     "data": {
      "text/html": [
       "<small>ScatterBrush listo (#sc-2a78e5af)</small>"
      ],
      "text/plain": [
       "<IPython.core.display.HTML object>"
      ]
     },
     "execution_count": 33,
     "metadata": {},
     "output_type": "execute_result"
    }
   ],
   "source": [
    "# Celda 2: SCATTER con PCA - Visualización de componentes principales\n",
    "ScatterBrush(\n",
    "    df=df_pca, \n",
    "    x=\"PC1\", \n",
    "    y=\"PC2\", \n",
    "    color=\"origin\",\n",
    "    width=900,\n",
    "    height=600\n",
    ")"
   ]
  },
  {
   "cell_type": "code",
   "execution_count": 34,
   "id": "6db830ba",
   "metadata": {},
   "outputs": [
    {
     "data": {
      "text/html": [
       "\n",
       "<div id=\"sunburst-3d10bc8b\" class=\"vis\"></div>\n",
       "<div id=\"sunburst-3d10bc8b-status\" class=\"status\">Cargando Sunburstâ€¦</div>\n",
       "<style>\n",
       "  .vis { width: 100%; min-height: 800px; }\n",
       "  .status { font-size:12px; color:#64748b; margin:6px 2px; }\n",
       "</style>\n"
      ],
      "text/plain": [
       "<IPython.core.display.HTML object>"
      ]
     },
     "metadata": {},
     "output_type": "display_data"
    },
    {
     "data": {
      "application/javascript": "\n(async () => {\n  const status = document.getElementById('sunburst-3d10bc8b-status');\n  try {\n    const mod = await import('https://cdn.jsdelivr.net/npm/d3@7/+esm');\n    const d3 = mod.default ?? mod;\n    \n    const mount = document.getElementById('sunburst-3d10bc8b');\n    mount.innerHTML = '';\n    \n    const data = {\"name\": \"root\", \"children\": [{\"name\": \"usa\", \"children\": [{\"name\": \"8 cilindros\", \"children\": [{\"name\": \"Pesado (>3500)\", \"children\": [], \"value\": 105.0}, {\"name\": \"Medio (2500-3500)\", \"children\": [], \"value\": 90.0}]}, {\"name\": \"6 cilindros\", \"children\": [{\"name\": \"Medio (2500-3500)\", \"children\": [], \"value\": 112.0}, {\"name\": \"Ligero (<2500)\", \"children\": [], \"value\": 107.0}, {\"name\": \"Pesado (>3500)\", \"children\": [], \"value\": 110.0}]}, {\"name\": \"4 cilindros\", \"children\": [{\"name\": \"Ligero (<2500)\", \"children\": [], \"value\": 84.0}, {\"name\": \"Medio (2500-3500)\", \"children\": [], \"value\": 82.0}]}]}, {\"name\": \"japan\", \"children\": [{\"name\": \"4 cilindros\", \"children\": [{\"name\": \"Ligero (<2500)\", \"children\": [], \"value\": 67.0}, {\"name\": \"Medio (2500-3500)\", \"children\": [], \"value\": 96.0}]}, {\"name\": \"3 cilindros\", \"children\": [{\"name\": \"Ligero (<2500)\", \"children\": [], \"value\": 100.0}, {\"name\": \"Medio (2500-3500)\", \"children\": [], \"value\": 110.0}]}, {\"name\": \"6 cilindros\", \"children\": [{\"name\": \"Medio (2500-3500)\", \"children\": [], \"value\": 120.0}]}]}, {\"name\": \"europe\", \"children\": [{\"name\": \"4 cilindros\", \"children\": [{\"name\": \"Ligero (<2500)\", \"children\": [], \"value\": 52.0}, {\"name\": \"Medio (2500-3500)\", \"children\": [], \"value\": 80.0}]}, {\"name\": \"6 cilindros\", \"children\": [{\"name\": \"Pesado (>3500)\", \"children\": [], \"value\": 120.0}, {\"name\": \"Medio (2500-3500)\", \"children\": [], \"value\": 76.0}]}, {\"name\": \"5 cilindros\", \"children\": [{\"name\": \"Medio (2500-3500)\", \"children\": [], \"value\": 67.0}, {\"name\": \"Pesado (>3500)\", \"children\": [], \"value\": 77.0}]}]}]};\n    const W = 800, H = 800;\n    const radius = Math.min(W, H) / 2;\n    \n    const svg = d3.select(mount)\n      .append('svg')\n      .attr('width', W)\n      .attr('height', H)\n      .append('g')\n      .attr('transform', `translate(${W/2}, ${H/2})`);\n    \n    const color = d3.scaleOrdinal(d3.schemeSet3 || d3.schemeCategory10);\n    \n    const root = d3.hierarchy(data)\n      .sum(d => d.value || 0)\n      .sort((a, b) => b.value - a.value);\n    \n    const partition = d3.partition()\n      .size([2 * Math.PI, radius]);\n    \n    partition(root);\n    \n    const arc = d3.arc()\n      .startAngle(d => d.x0)\n      .endAngle(d => d.x1)\n      .innerRadius(d => d.y0)\n      .outerRadius(d => d.y1);\n    \n    const segments = svg.selectAll('path')\n      .data(root.descendants().filter(d => d.depth > 0))\n      .enter()\n      .append('path')\n      .attr('d', arc)\n      .style('fill', d => color(d.data.name))\n      .style('stroke', '#fff')\n      .style('stroke-width', '2px')\n      .style('opacity', 0.8)\n      .on('mouseover', function(event, d) {\n        d3.select(this)\n          .style('opacity', 1)\n          .style('stroke-width', '3px');\n        \n        const percent = ((d.value / root.value) * 100).toFixed(1);\n        status.textContent = `${d.data.name}: ${d.value.toFixed(2)} (${percent}%)`;\n      })\n      .on('mouseout', function() {\n        d3.select(this)\n          .style('opacity', 0.8)\n          .style('stroke-width', '2px');\n        status.textContent = 'Hover sobre segmentos para ver detalles';\n      });\n    \n    svg.selectAll('text')\n      .data(root.descendants().filter(d => d.depth > 0 && (d.x1 - d.x0) > 0.1))\n      .enter()\n      .append('text')\n      .attr('transform', d => {\n        const angle = (d.x0 + d.x1) / 2;\n        const radius = (d.y0 + d.y1) / 2;\n        const x = Math.cos(angle - Math.PI / 2) * radius;\n        const y = Math.sin(angle - Math.PI / 2) * radius;\n        return `translate(${x},${y})`;\n      })\n      .attr('text-anchor', 'middle')\n      .attr('dy', '0.35em')\n      .style('font-size', '10px')\n      .style('fill', '#fff')\n      .style('font-weight', 'bold')\n      .style('pointer-events', 'none')\n      .text(d => d.data.name.length > 15 ? d.data.name.substring(0, 12) + '...' : d.data.name);\n    \n    status.textContent = 'Hover sobre segmentos para ver detalles';\n  } catch (e) {\n    const msg = (e && e.stack) ? e.stack : (''+e);\n    document.getElementById('sunburst-3d10bc8b-status').textContent = 'Error: ' + msg;\n  }\n})();\n",
      "text/plain": [
       "<IPython.core.display.Javascript object>"
      ]
     },
     "metadata": {},
     "output_type": "display_data"
    },
    {
     "data": {
      "text/html": [
       "<small>Sunburst listo (#sunburst-3d10bc8b)</small>"
      ],
      "text/plain": [
       "<IPython.core.display.HTML object>"
      ]
     },
     "execution_count": 34,
     "metadata": {},
     "output_type": "execute_result"
    }
   ],
   "source": [
    "# Celda 3: SUNBURST - Jerarquía: origen → cilindros → rango de peso\n",
    "df_sunburst = df.copy()\n",
    "\n",
    "# Crear categorías de peso\n",
    "df_sunburst['weight_range'] = pd.cut(\n",
    "    df_sunburst['weight'], \n",
    "    bins=[0, 2500, 3500, 5500], \n",
    "    labels=['Ligero (<2500)', 'Medio (2500-3500)', 'Pesado (>3500)']\n",
    ")\n",
    "\n",
    "# Crear categorías de cilindros\n",
    "df_sunburst['cyl_category'] = df_sunburst['cylinders'].astype(str) + ' cilindros'\n",
    "\n",
    "Sunburst(\n",
    "    df=df_sunburst,\n",
    "    path_columns=['origin', 'cyl_category', 'weight_range'],\n",
    "    value_column='horsepower',\n",
    "    width=800,\n",
    "    height=800,\n",
    "    color_scheme='schemeSet3'\n",
    ")"
   ]
  },
  {
   "cell_type": "code",
   "execution_count": 35,
   "id": "d59279b6",
   "metadata": {},
   "outputs": [
    {
     "data": {
      "text/html": [
       "\n",
       "<div id=\"stream-49401a89\" class=\"vis\"></div>\n",
       "<div id=\"stream-49401a89-status\" class=\"status\">Cargando Stream Graphâ€¦</div>\n",
       "<style>\n",
       "  .vis { width: 100%; min-height: 500px; }\n",
       "  .status { font-size:12px; color:#64748b; margin:6px 2px; }\n",
       "</style>\n"
      ],
      "text/plain": [
       "<IPython.core.display.HTML object>"
      ]
     },
     "metadata": {},
     "output_type": "display_data"
    },
    {
     "data": {
      "application/javascript": "\n(async () => {\n  const status = document.getElementById('stream-49401a89-status');\n  try {\n    const mod = await import('https://cdn.jsdelivr.net/npm/d3@7/+esm');\n    const d3 = mod.default ?? mod;\n    \n    const mount = document.getElementById('stream-49401a89');\n    mount.innerHTML = '';\n    \n    const data = [{\"x\": \"70\", \"europe\": 86.2, \"japan\": 91.5, \"usa\": 166.95454545454547}, {\"x\": \"71\", \"europe\": 74.0, \"japan\": 79.25, \"usa\": 119.84210526315789}, {\"x\": \"72\", \"europe\": 79.6, \"japan\": 93.8, \"usa\": 138.77777777777777}, {\"x\": \"73\", \"europe\": 81.85714285714286, \"japan\": 98.5, \"usa\": 146.6206896551724}, {\"x\": \"74\", \"europe\": 74.16666666666667, \"japan\": 72.5, \"usa\": 112.14285714285714}, {\"x\": \"75\", \"europe\": 89.5, \"japan\": 80.25, \"usa\": 108.7}, {\"x\": \"76\", \"europe\": 87.625, \"japan\": 76.5, \"usa\": 110.5}, {\"x\": \"77\", \"europe\": 81.0, \"japan\": 81.16666666666667, \"usa\": 118.38888888888889}, {\"x\": \"78\", \"europe\": 99.16666666666667, \"japan\": 79.25, \"usa\": 107.27272727272727}, {\"x\": \"79\", \"europe\": 72.0, \"japan\": 65.0, \"usa\": 109.43478260869566}, {\"x\": \"80\", \"europe\": 66.75, \"japan\": 78.84615384615384, \"usa\": 88.83333333333333}, {\"x\": \"81\", \"europe\": 76.66666666666667, \"japan\": 78.33333333333333, \"usa\": 84.53846153846153}, {\"x\": \"82\", \"europe\": 63.0, \"japan\": 74.0, \"usa\": 86.94736842105263}];\n    const categories = [\"europe\", \"japan\", \"usa\"];\n    const W = 950, H = 500;\n    const margin = { top: 20, right: 120, bottom: 40, left: 40 };\n    const w = W - margin.left - margin.right;\n    const h = H - margin.top - margin.bottom;\n    \n    const svg = d3.select(mount)\n      .append('svg')\n      .attr('width', W)\n      .attr('height', H)\n      .append('g')\n      .attr('transform', `translate(${margin.left},${margin.top})`);\n    \n    const stack = d3.stack()\n      .keys(categories)\n      .offset(d3.stackOffsetWiggle)\n      .order(d3.stackOrderInsideOut);\n    \n    const series = stack(data);\n    \n    const x = d3.scalePoint()\n      .domain(data.map(d => d.x))\n      .range([0, w]);\n    \n    const y = d3.scaleLinear()\n      .domain([\n        d3.min(series, s => d3.min(s, d => d[0])),\n        d3.max(series, s => d3.max(s, d => d[1]))\n      ])\n      .range([h, 0]);\n    \n    const color = d3.scaleOrdinal(d3.schemeTableau10 || d3.schemeCategory10);\n    \n    const area = d3.area()\n      .x(d => x(d.data.x))\n      .y0(d => y(d[0]))\n      .y1(d => y(d[1]))\n      .curve(d3.curveBasis);\n    \n    svg.selectAll('.stream')\n      .data(series)\n      .enter()\n      .append('path')\n      .attr('class', 'stream')\n      .attr('d', area)\n      .style('fill', d => color(d.key))\n      .style('opacity', 0.7)\n      .on('mouseover', function(event, d) {\n        d3.select(this)\n          .style('opacity', 1)\n          .style('stroke', '#333')\n          .style('stroke-width', '2px');\n        \n        const total = d3.sum(d, p => p.data[d.key]);\n        status.textContent = `${d.key}: Total = ${total.toFixed(2)}`;\n      })\n      .on('mouseout', function() {\n        d3.select(this)\n          .style('opacity', 0.7)\n          .style('stroke', 'none');\n        status.textContent = 'Hover sobre streams para ver detalles';\n      });\n    \n    svg.append('g')\n      .attr('transform', `translate(0,${h})`)\n      .call(d3.axisBottom(x).tickValues(\n        data.map(d => d.x).filter((d, i) => i % Math.ceil(data.length / 10) === 0)\n      ))\n      .selectAll('text')\n      .attr('transform', 'rotate(-45)')\n      .style('text-anchor', 'end');\n    \n    const legend = svg.selectAll('.legend')\n      .data(categories)\n      .enter()\n      .append('g')\n      .attr('class', 'legend')\n      .attr('transform', (d, i) => `translate(${w + 10}, ${i * 20})`);\n    \n    legend.append('rect')\n      .attr('width', 15)\n      .attr('height', 15)\n      .style('fill', d => color(d));\n    \n    legend.append('text')\n      .attr('x', 20)\n      .attr('y', 7.5)\n      .attr('dy', '.35em')\n      .style('font-size', '11px')\n      .text(d => d.length > 12 ? d.substring(0, 10) + '...' : d);\n    \n    status.textContent = 'Hover sobre streams para ver detalles';\n  } catch (e) {\n    const msg = (e && e.stack) ? e.stack : (''+e);\n    document.getElementById('stream-49401a89-status').textContent = 'Error: ' + msg;\n  }\n})();\n",
      "text/plain": [
       "<IPython.core.display.Javascript object>"
      ]
     },
     "metadata": {},
     "output_type": "display_data"
    },
    {
     "data": {
      "text/html": [
       "<small>StreamGraph listo (#stream-49401a89)</small>"
      ],
      "text/plain": [
       "<IPython.core.display.HTML object>"
      ]
     },
     "execution_count": 35,
     "metadata": {},
     "output_type": "execute_result"
    }
   ],
   "source": [
    "# Celda 4: STREAM GRAPH - Evolución de caballos de fuerza por año y origen\n",
    "# CORREGIDO: usar 'model_year' en lugar de 'year'\n",
    "df_stream = df.groupby(['model_year', 'origin'])['horsepower'].mean().reset_index()\n",
    "\n",
    "StreamGraph(\n",
    "    df=df_stream,\n",
    "    x_column='model_year',\n",
    "    y_column='horsepower',\n",
    "    category_column='origin',\n",
    "    width=950,\n",
    "    height=500,\n",
    "    color_scheme='schemeTableau10'\n",
    ")"
   ]
  },
  {
   "cell_type": "code",
   "execution_count": 36,
   "id": "88a51fb3",
   "metadata": {},
   "outputs": [
    {
     "data": {
      "text/html": [
       "\n",
       "<div id=\"stream-997b1291\" class=\"vis\"></div>\n",
       "<div id=\"stream-997b1291-status\" class=\"status\">Cargando Stream Graphâ€¦</div>\n",
       "<style>\n",
       "  .vis { width: 100%; min-height: 550px; }\n",
       "  .status { font-size:12px; color:#64748b; margin:6px 2px; }\n",
       "</style>\n"
      ],
      "text/plain": [
       "<IPython.core.display.HTML object>"
      ]
     },
     "metadata": {},
     "output_type": "display_data"
    },
    {
     "data": {
      "application/javascript": "\n(async () => {\n  const status = document.getElementById('stream-997b1291-status');\n  try {\n    const mod = await import('https://cdn.jsdelivr.net/npm/d3@7/+esm');\n    const d3 = mod.default ?? mod;\n    \n    const mount = document.getElementById('stream-997b1291');\n    mount.innerHTML = '';\n    \n    const data = [{\"x\": \"70\", \"3 cyl\": 0.0, \"4 cyl\": 25.285714285714285, \"5 cyl\": 0.0, \"6 cyl\": 20.5, \"8 cyl\": 14.11111111111111}, {\"x\": \"71\", \"3 cyl\": 0.0, \"4 cyl\": 27.666666666666668, \"5 cyl\": 0.0, \"6 cyl\": 18.0, \"8 cyl\": 13.428571428571429}, {\"x\": \"72\", \"3 cyl\": 19.0, \"4 cyl\": 23.428571428571427, \"5 cyl\": 0.0, \"6 cyl\": 0.0, \"8 cyl\": 13.615384615384615}, {\"x\": \"73\", \"3 cyl\": 18.0, \"4 cyl\": 22.727272727272727, \"5 cyl\": 0.0, \"6 cyl\": 19.0, \"8 cyl\": 13.2}, {\"x\": \"74\", \"3 cyl\": 0.0, \"4 cyl\": 27.8, \"5 cyl\": 0.0, \"6 cyl\": 17.333333333333332, \"8 cyl\": 14.2}, {\"x\": \"75\", \"3 cyl\": 0.0, \"4 cyl\": 25.25, \"5 cyl\": 0.0, \"6 cyl\": 17.583333333333332, \"8 cyl\": 15.666666666666666}, {\"x\": \"76\", \"3 cyl\": 0.0, \"4 cyl\": 26.766666666666666, \"5 cyl\": 0.0, \"6 cyl\": 20.0, \"8 cyl\": 14.666666666666666}, {\"x\": \"77\", \"3 cyl\": 21.5, \"4 cyl\": 29.107142857142858, \"5 cyl\": 0.0, \"6 cyl\": 19.5, \"8 cyl\": 16.0}, {\"x\": \"78\", \"3 cyl\": 0.0, \"4 cyl\": 29.576470588235296, \"5 cyl\": 20.3, \"6 cyl\": 19.066666666666666, \"8 cyl\": 19.05}, {\"x\": \"79\", \"3 cyl\": 0.0, \"4 cyl\": 31.525000000000002, \"5 cyl\": 25.4, \"6 cyl\": 22.95, \"8 cyl\": 18.630000000000003}, {\"x\": \"80\", \"3 cyl\": 23.7, \"4 cyl\": 34.81739130434782, \"5 cyl\": 36.4, \"6 cyl\": 25.900000000000002, \"8 cyl\": 0.0}, {\"x\": \"81\", \"3 cyl\": 0.0, \"4 cyl\": 32.730000000000004, \"5 cyl\": 0.0, \"6 cyl\": 23.428571428571427, \"8 cyl\": 26.6}, {\"x\": \"82\", \"3 cyl\": 0.0, \"4 cyl\": 32.407407407407405, \"5 cyl\": 0.0, \"6 cyl\": 28.333333333333332, \"8 cyl\": 0.0}];\n    const categories = [\"3 cyl\", \"4 cyl\", \"5 cyl\", \"6 cyl\", \"8 cyl\"];\n    const W = 950, H = 550;\n    const margin = { top: 20, right: 120, bottom: 40, left: 40 };\n    const w = W - margin.left - margin.right;\n    const h = H - margin.top - margin.bottom;\n    \n    const svg = d3.select(mount)\n      .append('svg')\n      .attr('width', W)\n      .attr('height', H)\n      .append('g')\n      .attr('transform', `translate(${margin.left},${margin.top})`);\n    \n    const stack = d3.stack()\n      .keys(categories)\n      .offset(d3.stackOffsetWiggle)\n      .order(d3.stackOrderInsideOut);\n    \n    const series = stack(data);\n    \n    const x = d3.scalePoint()\n      .domain(data.map(d => d.x))\n      .range([0, w]);\n    \n    const y = d3.scaleLinear()\n      .domain([\n        d3.min(series, s => d3.min(s, d => d[0])),\n        d3.max(series, s => d3.max(s, d => d[1]))\n      ])\n      .range([h, 0]);\n    \n    const color = d3.scaleOrdinal(d3.schemeCategory10 || d3.schemeCategory10);\n    \n    const area = d3.area()\n      .x(d => x(d.data.x))\n      .y0(d => y(d[0]))\n      .y1(d => y(d[1]))\n      .curve(d3.curveBasis);\n    \n    svg.selectAll('.stream')\n      .data(series)\n      .enter()\n      .append('path')\n      .attr('class', 'stream')\n      .attr('d', area)\n      .style('fill', d => color(d.key))\n      .style('opacity', 0.7)\n      .on('mouseover', function(event, d) {\n        d3.select(this)\n          .style('opacity', 1)\n          .style('stroke', '#333')\n          .style('stroke-width', '2px');\n        \n        const total = d3.sum(d, p => p.data[d.key]);\n        status.textContent = `${d.key}: Total = ${total.toFixed(2)}`;\n      })\n      .on('mouseout', function() {\n        d3.select(this)\n          .style('opacity', 0.7)\n          .style('stroke', 'none');\n        status.textContent = 'Hover sobre streams para ver detalles';\n      });\n    \n    svg.append('g')\n      .attr('transform', `translate(0,${h})`)\n      .call(d3.axisBottom(x).tickValues(\n        data.map(d => d.x).filter((d, i) => i % Math.ceil(data.length / 10) === 0)\n      ))\n      .selectAll('text')\n      .attr('transform', 'rotate(-45)')\n      .style('text-anchor', 'end');\n    \n    const legend = svg.selectAll('.legend')\n      .data(categories)\n      .enter()\n      .append('g')\n      .attr('class', 'legend')\n      .attr('transform', (d, i) => `translate(${w + 10}, ${i * 20})`);\n    \n    legend.append('rect')\n      .attr('width', 15)\n      .attr('height', 15)\n      .style('fill', d => color(d));\n    \n    legend.append('text')\n      .attr('x', 20)\n      .attr('y', 7.5)\n      .attr('dy', '.35em')\n      .style('font-size', '11px')\n      .text(d => d.length > 12 ? d.substring(0, 10) + '...' : d);\n    \n    status.textContent = 'Hover sobre streams para ver detalles';\n  } catch (e) {\n    const msg = (e && e.stack) ? e.stack : (''+e);\n    document.getElementById('stream-997b1291-status').textContent = 'Error: ' + msg;\n  }\n})();\n",
      "text/plain": [
       "<IPython.core.display.Javascript object>"
      ]
     },
     "metadata": {},
     "output_type": "display_data"
    },
    {
     "data": {
      "text/html": [
       "<small>StreamGraph listo (#stream-997b1291)</small>"
      ],
      "text/plain": [
       "<IPython.core.display.HTML object>"
      ]
     },
     "execution_count": 36,
     "metadata": {},
     "output_type": "execute_result"
    }
   ],
   "source": [
    "# Celda 5: STREAM GRAPH - Evolución de eficiencia (MPG) por año y cilindros\n",
    "df_stream2 = df.copy()\n",
    "df_stream2['cyl_cat'] = df_stream2['cylinders'].astype(str) + ' cyl'\n",
    "df_stream2 = df_stream2.groupby(['model_year', 'cyl_cat'])['mpg'].mean().reset_index()\n",
    "\n",
    "StreamGraph(\n",
    "    df=df_stream2,\n",
    "    x_column='model_year',\n",
    "    y_column='mpg',\n",
    "    category_column='cyl_cat',\n",
    "    width=950,\n",
    "    height=550,\n",
    "    color_scheme='schemeCategory10'\n",
    ")"
   ]
  },
  {
   "cell_type": "code",
   "execution_count": 37,
   "id": "f49d2fd5",
   "metadata": {},
   "outputs": [
    {
     "data": {
      "text/html": [
       "\n",
       "<div id=\"radar-9a00e94f\" class=\"vis\"></div>\n",
       "<div id=\"radar-9a00e94f-status\" class=\"status\">Cargando Radar Chart…</div>\n",
       "<style>\n",
       "  .vis { width: 100%; min-height: 750px; }\n",
       "  .status { font-size:12px; color:#64748b; margin:6px 2px; }\n",
       "</style>\n"
      ],
      "text/plain": [
       "<IPython.core.display.HTML object>"
      ]
     },
     "metadata": {},
     "output_type": "display_data"
    },
    {
     "data": {
      "application/javascript": "\n(async () => {\n  const status = document.getElementById('radar-9a00e94f-status');\n  try {\n    const mod = await import('https://cdn.jsdelivr.net/npm/d3@7/+esm');\n    const d3 = mod.default ?? mod;\n    \n    const mount = document.getElementById('radar-9a00e94f');\n    mount.innerHTML = '';\n    \n    const data = [{\"name\": \"europe\", \"Caballos\": 1.844721376873224, \"Peso\": 18.435660149843415, \"Aceleración\": 100.0, \"Eficiencia (MPG)\": 72.66346325023892, \"Cilindrada\": 4.781305508069025}, {\"name\": \"japan\", \"Caballos\": 0.0, \"Peso\": 0.0, \"Aceleración\": 65.52131098489133, \"Eficiencia (MPG)\": 100.0, \"Cilindrada\": 0.0}, {\"name\": \"usa\", \"Caballos\": 100.00000000000003, \"Peso\": 100.0, \"Aceleración\": 0.0, \"Eficiencia (MPG)\": 0.0, \"Cilindrada\": 100.00000000000001}];\n    const features = [\"Caballos\", \"Peso\", \"Aceleraci\\u00f3n\", \"Eficiencia (MPG)\", \"Cilindrada\"];\n    const W = 750, H = 750;\n    const margin = { top: 50, right: 100, bottom: 50, left: 100 };\n    const w = W - margin.left - margin.right;\n    const h = H - margin.top - margin.bottom;\n    const radius = Math.min(w, h) / 2;\n    \n    const svg = d3.select(mount)\n      .append('svg')\n      .attr('width', W)\n      .attr('height', H)\n      .append('g')\n      .attr('transform', `translate(${W/2}, ${H/2})`);\n    \n    const angleSlice = (Math.PI * 2) / features.length;\n    \n    // Escala radial\n    const maxValue = d3.max(data, d => d3.max(features, f => +d[f]));\n    const rScale = d3.scaleLinear()\n      .domain([0, maxValue])\n      .range([0, radius]);\n    \n    const colorScale = d3.scaleOrdinal(d3.schemeCategory10 || d3.schemeCategory10);\n    \n    // Dibujar círculos de niveles\n    const levels = 5;\n    for (let i = 1; i <= levels; i++) {\n      const levelRadius = (radius / levels) * i;\n      \n      svg.append('circle')\n        .attr('r', levelRadius)\n        .style('fill', 'none')\n        .style('stroke', '#CDCDCD')\n        .style('stroke-dasharray', '3,3');\n      \n      svg.append('text')\n        .attr('x', 5)\n        .attr('y', -levelRadius)\n        .attr('dy', '0.4em')\n        .style('font-size', '10px')\n        .style('fill', '#737373')\n        .text(Math.round((maxValue / levels) * i));\n    }\n    \n    // Dibujar ejes radiales\n    const axis = svg.selectAll('.axis')\n      .data(features)\n      .enter()\n      .append('g')\n      .attr('class', 'axis');\n    \n    axis.append('line')\n      .attr('x1', 0)\n      .attr('y1', 0)\n      .attr('x2', (d, i) => rScale(maxValue * 1.1) * Math.cos(angleSlice * i - Math.PI/2))\n      .attr('y2', (d, i) => rScale(maxValue * 1.1) * Math.sin(angleSlice * i - Math.PI/2))\n      .style('stroke', '#999')\n      .style('stroke-width', '1px');\n    \n    // Etiquetas de características\n    axis.append('text')\n      .attr('x', (d, i) => (rScale(maxValue * 1.25)) * Math.cos(angleSlice * i - Math.PI/2))\n      .attr('y', (d, i) => (rScale(maxValue * 1.25)) * Math.sin(angleSlice * i - Math.PI/2))\n      .attr('text-anchor', 'middle')\n      .attr('dy', '0.35em')\n      .style('font-size', '12px')\n      .style('font-weight', 'bold')\n      .text(d => d);\n    \n    // Generador de líneas para el radar\n    const radarLine = d3.lineRadial()\n      .radius(d => rScale(d.value))\n      .angle((d, i) => i * angleSlice)\n      .curve(d3.curveLinearClosed);\n    \n    // Preparar datos del radar\n    const radarData = data.map(item => \n      features.map(f => ({ axis: f, value: +item[f] }))\n    );\n    \n    // Dibujar áreas del radar\n    svg.selectAll('.radar-area')\n      .data(radarData)\n      .enter()\n      .append('path')\n      .attr('class', 'radar-area')\n      .attr('d', radarLine)\n      .style('fill', (d, i) => colorScale(i))\n      .style('fill-opacity', 0.2)\n      .style('stroke', (d, i) => colorScale(i))\n      .style('stroke-width', '2px')\n      .on('mouseover', function() {\n        d3.select(this).style('fill-opacity', 0.5);\n      })\n      .on('mouseout', function() {\n        d3.select(this).style('fill-opacity', 0.2);\n      });\n    \n    // Puntos en los vértices\n    radarData.forEach((item, idx) => {\n      svg.selectAll(`.radar-circle-${idx}`)\n        .data(item)\n        .enter()\n        .append('circle')\n        .attr('class', `radar-circle-${idx}`)\n        .attr('r', 4)\n        .attr('cx', (d, i) => rScale(d.value) * Math.cos(angleSlice * i - Math.PI/2))\n        .attr('cy', (d, i) => rScale(d.value) * Math.sin(angleSlice * i - Math.PI/2))\n        .style('fill', colorScale(idx))\n        .style('fill-opacity', 0.8);\n    });\n    \n    // Leyenda\n    const legend = svg.selectAll('.legend')\n      .data(data)\n      .enter()\n      .append('g')\n      .attr('class', 'legend')\n      .attr('transform', (d, i) => `translate(${radius + 30}, ${-radius + i * 25})`);\n    \n    legend.append('rect')\n      .attr('width', 18)\n      .attr('height', 18)\n      .style('fill', (d, i) => colorScale(i));\n    \n    legend.append('text')\n      .attr('x', 24)\n      .attr('y', 9)\n      .attr('dy', '.35em')\n      .style('font-size', '12px')\n      .text(d => d['name'] || 'Sin nombre');\n    \n    status.textContent = 'Radar Chart renderizado correctamente.';\n  } catch (e) {\n    const msg = (e && e.stack) ? e.stack : (''+e);\n    document.getElementById('radar-9a00e94f-status').textContent = 'Error: ' + msg;\n  }\n})();\n",
      "text/plain": [
       "<IPython.core.display.Javascript object>"
      ]
     },
     "metadata": {},
     "output_type": "display_data"
    },
    {
     "data": {
      "text/html": [
       "<small>RadarChart listo (#radar-9a00e94f)</small>"
      ],
      "text/plain": [
       "<IPython.core.display.HTML object>"
      ]
     },
     "execution_count": 37,
     "metadata": {},
     "output_type": "execute_result"
    }
   ],
   "source": [
    "# Celda 6: RADAR CHART - Comparación de características por origen\n",
    "radar_data = df.groupby('origin')[['horsepower', 'weight', 'acceleration', 'mpg', 'displacement']].mean().reset_index()\n",
    "radar_data.columns = ['name', 'Caballos', 'Peso', 'Aceleración', 'Eficiencia (MPG)', 'Cilindrada']\n",
    "\n",
    "# Normalizar para mejor visualización en radar\n",
    "from sklearn.preprocessing import MinMaxScaler\n",
    "scaler = MinMaxScaler(feature_range=(0, 100))\n",
    "features_to_scale = ['Caballos', 'Peso', 'Aceleración', 'Eficiencia (MPG)', 'Cilindrada']\n",
    "radar_data[features_to_scale] = scaler.fit_transform(radar_data[features_to_scale])\n",
    "\n",
    "RadarChart(\n",
    "    df=radar_data,\n",
    "    features=features_to_scale,\n",
    "    name_col='name',\n",
    "    width=750,\n",
    "    height=750\n",
    ")"
   ]
  },
  {
   "cell_type": "code",
   "execution_count": 38,
   "id": "73857c5b",
   "metadata": {},
   "outputs": [
    {
     "data": {
      "text/html": [
       "\n",
       "<div id=\"sunburst-c8472a6d\" class=\"vis\"></div>\n",
       "<div id=\"sunburst-c8472a6d-status\" class=\"status\">Cargando Sunburstâ€¦</div>\n",
       "<style>\n",
       "  .vis { width: 100%; min-height: 750px; }\n",
       "  .status { font-size:12px; color:#64748b; margin:6px 2px; }\n",
       "</style>\n"
      ],
      "text/plain": [
       "<IPython.core.display.HTML object>"
      ]
     },
     "metadata": {},
     "output_type": "display_data"
    },
    {
     "data": {
      "application/javascript": "\n(async () => {\n  const status = document.getElementById('sunburst-c8472a6d-status');\n  try {\n    const mod = await import('https://cdn.jsdelivr.net/npm/d3@7/+esm');\n    const d3 = mod.default ?? mod;\n    \n    const mount = document.getElementById('sunburst-c8472a6d');\n    mount.innerHTML = '';\n    \n    const data = {\"name\": \"root\", \"children\": [{\"name\": \"70s\", \"children\": [{\"name\": \"usa\", \"children\": [{\"name\": \"Baja (<20 mpg)\", \"children\": [], \"value\": 3940}, {\"name\": \"Media (20-30)\", \"children\": [], \"value\": 2700}, {\"name\": \"Alta (>30)\", \"children\": [], \"value\": 2556}]}, {\"name\": \"japan\", \"children\": [{\"name\": \"Media (20-30)\", \"children\": [], \"value\": 2135}, {\"name\": \"Alta (>30)\", \"children\": [], \"value\": 2020}, {\"name\": \"Baja (<20 mpg)\", \"children\": [], \"value\": 2930}]}, {\"name\": \"europe\", \"children\": [{\"name\": \"Media (20-30)\", \"children\": [], \"value\": 3190}, {\"name\": \"Baja (<20 mpg)\", \"children\": [], \"value\": 3410}, {\"name\": \"Alta (>30)\", \"children\": [], \"value\": 2130}]}]}, {\"name\": \"80s\", \"children\": [{\"name\": \"europe\", \"children\": [{\"name\": \"Alta (>30)\", \"children\": [], \"value\": 2130}, {\"name\": \"Media (20-30)\", \"children\": [], \"value\": 3230}]}, {\"name\": \"japan\", \"children\": [{\"name\": \"Alta (>30)\", \"children\": [], \"value\": 2665}, {\"name\": \"Media (20-30)\", \"children\": [], \"value\": 2930}]}, {\"name\": \"usa\", \"children\": [{\"name\": \"Alta (>30)\", \"children\": [], \"value\": 2720}, {\"name\": \"Media (20-30)\", \"children\": [], \"value\": 2625}, {\"name\": \"Baja (<20 mpg)\", \"children\": [], \"value\": 3465}]}]}]};\n    const W = 750, H = 750;\n    const radius = Math.min(W, H) / 2;\n    \n    const svg = d3.select(mount)\n      .append('svg')\n      .attr('width', W)\n      .attr('height', H)\n      .append('g')\n      .attr('transform', `translate(${W/2}, ${H/2})`);\n    \n    const color = d3.scaleOrdinal(d3.schemePastel1 || d3.schemeCategory10);\n    \n    const root = d3.hierarchy(data)\n      .sum(d => d.value || 0)\n      .sort((a, b) => b.value - a.value);\n    \n    const partition = d3.partition()\n      .size([2 * Math.PI, radius]);\n    \n    partition(root);\n    \n    const arc = d3.arc()\n      .startAngle(d => d.x0)\n      .endAngle(d => d.x1)\n      .innerRadius(d => d.y0)\n      .outerRadius(d => d.y1);\n    \n    const segments = svg.selectAll('path')\n      .data(root.descendants().filter(d => d.depth > 0))\n      .enter()\n      .append('path')\n      .attr('d', arc)\n      .style('fill', d => color(d.data.name))\n      .style('stroke', '#fff')\n      .style('stroke-width', '2px')\n      .style('opacity', 0.8)\n      .on('mouseover', function(event, d) {\n        d3.select(this)\n          .style('opacity', 1)\n          .style('stroke-width', '3px');\n        \n        const percent = ((d.value / root.value) * 100).toFixed(1);\n        status.textContent = `${d.data.name}: ${d.value.toFixed(2)} (${percent}%)`;\n      })\n      .on('mouseout', function() {\n        d3.select(this)\n          .style('opacity', 0.8)\n          .style('stroke-width', '2px');\n        status.textContent = 'Hover sobre segmentos para ver detalles';\n      });\n    \n    svg.selectAll('text')\n      .data(root.descendants().filter(d => d.depth > 0 && (d.x1 - d.x0) > 0.1))\n      .enter()\n      .append('text')\n      .attr('transform', d => {\n        const angle = (d.x0 + d.x1) / 2;\n        const radius = (d.y0 + d.y1) / 2;\n        const x = Math.cos(angle - Math.PI / 2) * radius;\n        const y = Math.sin(angle - Math.PI / 2) * radius;\n        return `translate(${x},${y})`;\n      })\n      .attr('text-anchor', 'middle')\n      .attr('dy', '0.35em')\n      .style('font-size', '10px')\n      .style('fill', '#fff')\n      .style('font-weight', 'bold')\n      .style('pointer-events', 'none')\n      .text(d => d.data.name.length > 15 ? d.data.name.substring(0, 12) + '...' : d.data.name);\n    \n    status.textContent = 'Hover sobre segmentos para ver detalles';\n  } catch (e) {\n    const msg = (e && e.stack) ? e.stack : (''+e);\n    document.getElementById('sunburst-c8472a6d-status').textContent = 'Error: ' + msg;\n  }\n})();\n",
      "text/plain": [
       "<IPython.core.display.Javascript object>"
      ]
     },
     "metadata": {},
     "output_type": "display_data"
    },
    {
     "data": {
      "text/html": [
       "<small>Sunburst listo (#sunburst-c8472a6d)</small>"
      ],
      "text/plain": [
       "<IPython.core.display.HTML object>"
      ]
     },
     "execution_count": 38,
     "metadata": {},
     "output_type": "execute_result"
    }
   ],
   "source": [
    "# Celda 7: SUNBURST alternativo - Década → Origen → Eficiencia\n",
    "df_sunburst2 = df.copy()\n",
    "\n",
    "# Crear décadas\n",
    "df_sunburst2['decade'] = (df_sunburst2['model_year'] // 10 * 10).astype(str) + 's'\n",
    "\n",
    "# Categorizar eficiencia\n",
    "df_sunburst2['efficiency'] = pd.cut(\n",
    "    df_sunburst2['mpg'], \n",
    "    bins=[0, 20, 30, 50], \n",
    "    labels=['Baja (<20 mpg)', 'Media (20-30)', 'Alta (>30)']\n",
    ")\n",
    "\n",
    "Sunburst(\n",
    "    df=df_sunburst2,\n",
    "    path_columns=['decade', 'origin', 'efficiency'],\n",
    "    value_column='weight',\n",
    "    width=750,\n",
    "    height=750,\n",
    "    color_scheme='schemePastel1'\n",
    ")"
   ]
  },
  {
   "cell_type": "code",
   "execution_count": 39,
   "id": "d406f6af",
   "metadata": {},
   "outputs": [
    {
     "data": {
      "text/html": [
       "\n",
       "<div id=\"stream-b2ffb1a3\" class=\"vis\"></div>\n",
       "<div id=\"stream-b2ffb1a3-status\" class=\"status\">Cargando Stream Graphâ€¦</div>\n",
       "<style>\n",
       "  .vis { width: 100%; min-height: 550px; }\n",
       "  .status { font-size:12px; color:#64748b; margin:6px 2px; }\n",
       "</style>\n"
      ],
      "text/plain": [
       "<IPython.core.display.HTML object>"
      ]
     },
     "metadata": {},
     "output_type": "display_data"
    },
    {
     "data": {
      "application/javascript": "\n(async () => {\n  const status = document.getElementById('stream-b2ffb1a3-status');\n  try {\n    const mod = await import('https://cdn.jsdelivr.net/npm/d3@7/+esm');\n    const d3 = mod.default ?? mod;\n    \n    const mount = document.getElementById('stream-b2ffb1a3');\n    mount.innerHTML = '';\n    \n    const data = [{\"x\": \"70\", \"europe\": 2309.2, \"japan\": 2251.0, \"usa\": 3716.5}, {\"x\": \"71\", \"europe\": 2024.0, \"japan\": 1936.0, \"usa\": 3472.9473684210525}, {\"x\": \"72\", \"europe\": 2573.2, \"japan\": 2300.4, \"usa\": 3682.6666666666665}, {\"x\": \"73\", \"europe\": 2335.714285714286, \"japan\": 2397.25, \"usa\": 3821.448275862069}, {\"x\": \"74\", \"europe\": 2139.3333333333335, \"japan\": 2053.0, \"usa\": 3548.214285714286}, {\"x\": \"75\", \"europe\": 2571.1666666666665, \"japan\": 2303.25, \"usa\": 3533.2}, {\"x\": \"76\", \"europe\": 2611.0, \"japan\": 2217.5, \"usa\": 3405.409090909091}, {\"x\": \"77\", \"europe\": 2138.75, \"japan\": 2295.8333333333335, \"usa\": 3422.0}, {\"x\": \"78\", \"europe\": 2691.6666666666665, \"japan\": 2221.25, \"usa\": 3141.1363636363635}, {\"x\": \"79\", \"europe\": 2693.75, \"japan\": 1997.5, \"usa\": 3210.217391304348}, {\"x\": \"80\", \"europe\": 2412.125, \"japan\": 2290.3076923076924, \"usa\": 2808.6666666666665}, {\"x\": \"81\", \"europe\": 2860.0, \"japan\": 2269.1666666666665, \"usa\": 2695.0}, {\"x\": \"82\", \"europe\": 2055.0, \"japan\": 2132.777777777778, \"usa\": 2616.842105263158}];\n    const categories = [\"europe\", \"japan\", \"usa\"];\n    const W = 950, H = 550;\n    const margin = { top: 20, right: 120, bottom: 40, left: 40 };\n    const w = W - margin.left - margin.right;\n    const h = H - margin.top - margin.bottom;\n    \n    const svg = d3.select(mount)\n      .append('svg')\n      .attr('width', W)\n      .attr('height', H)\n      .append('g')\n      .attr('transform', `translate(${margin.left},${margin.top})`);\n    \n    const stack = d3.stack()\n      .keys(categories)\n      .offset(d3.stackOffsetWiggle)\n      .order(d3.stackOrderInsideOut);\n    \n    const series = stack(data);\n    \n    const x = d3.scalePoint()\n      .domain(data.map(d => d.x))\n      .range([0, w]);\n    \n    const y = d3.scaleLinear()\n      .domain([\n        d3.min(series, s => d3.min(s, d => d[0])),\n        d3.max(series, s => d3.max(s, d => d[1]))\n      ])\n      .range([h, 0]);\n    \n    const color = d3.scaleOrdinal(d3.schemeAccent || d3.schemeCategory10);\n    \n    const area = d3.area()\n      .x(d => x(d.data.x))\n      .y0(d => y(d[0]))\n      .y1(d => y(d[1]))\n      .curve(d3.curveBasis);\n    \n    svg.selectAll('.stream')\n      .data(series)\n      .enter()\n      .append('path')\n      .attr('class', 'stream')\n      .attr('d', area)\n      .style('fill', d => color(d.key))\n      .style('opacity', 0.7)\n      .on('mouseover', function(event, d) {\n        d3.select(this)\n          .style('opacity', 1)\n          .style('stroke', '#333')\n          .style('stroke-width', '2px');\n        \n        const total = d3.sum(d, p => p.data[d.key]);\n        status.textContent = `${d.key}: Total = ${total.toFixed(2)}`;\n      })\n      .on('mouseout', function() {\n        d3.select(this)\n          .style('opacity', 0.7)\n          .style('stroke', 'none');\n        status.textContent = 'Hover sobre streams para ver detalles';\n      });\n    \n    svg.append('g')\n      .attr('transform', `translate(0,${h})`)\n      .call(d3.axisBottom(x).tickValues(\n        data.map(d => d.x).filter((d, i) => i % Math.ceil(data.length / 10) === 0)\n      ))\n      .selectAll('text')\n      .attr('transform', 'rotate(-45)')\n      .style('text-anchor', 'end');\n    \n    const legend = svg.selectAll('.legend')\n      .data(categories)\n      .enter()\n      .append('g')\n      .attr('class', 'legend')\n      .attr('transform', (d, i) => `translate(${w + 10}, ${i * 20})`);\n    \n    legend.append('rect')\n      .attr('width', 15)\n      .attr('height', 15)\n      .style('fill', d => color(d));\n    \n    legend.append('text')\n      .attr('x', 20)\n      .attr('y', 7.5)\n      .attr('dy', '.35em')\n      .style('font-size', '11px')\n      .text(d => d.length > 12 ? d.substring(0, 10) + '...' : d);\n    \n    status.textContent = 'Hover sobre streams para ver detalles';\n  } catch (e) {\n    const msg = (e && e.stack) ? e.stack : (''+e);\n    document.getElementById('stream-b2ffb1a3-status').textContent = 'Error: ' + msg;\n  }\n})();\n",
      "text/plain": [
       "<IPython.core.display.Javascript object>"
      ]
     },
     "metadata": {},
     "output_type": "display_data"
    },
    {
     "data": {
      "text/html": [
       "<small>StreamGraph listo (#stream-b2ffb1a3)</small>"
      ],
      "text/plain": [
       "<IPython.core.display.HTML object>"
      ]
     },
     "execution_count": 39,
     "metadata": {},
     "output_type": "execute_result"
    }
   ],
   "source": [
    "# Celda 8: STREAM GRAPH - Evolución del peso promedio por año y origen\n",
    "df_stream3 = df.groupby(['model_year', 'origin'])['weight'].mean().reset_index()\n",
    "\n",
    "StreamGraph(\n",
    "    df=df_stream3,\n",
    "    x_column='model_year',\n",
    "    y_column='weight',\n",
    "    category_column='origin',\n",
    "    width=950,\n",
    "    height=550,\n",
    "    color_scheme='schemeAccent'\n",
    ")"
   ]
  },
  {
   "cell_type": "code",
   "execution_count": 40,
   "id": "d6b1ffe5",
   "metadata": {},
   "outputs": [
    {
     "data": {
      "text/html": [
       "\n",
       "<div id=\"sc-e4f6c509\" class=\"vis\"></div>\n",
       "<div id=\"sc-e4f6c509-status\" class=\"status\">Cargando…</div>\n",
       "<style>\n",
       "  .vis { width: 100%; min-height: 80px; }\n",
       "  .status { font-size:12px; color:#64748b; margin:6px 2px; }\n",
       "  .axis path, .axis line { shape-rendering: crispEdges; }\n",
       "</style>\n"
      ],
      "text/plain": [
       "<IPython.core.display.HTML object>"
      ]
     },
     "metadata": {},
     "output_type": "display_data"
    },
    {
     "data": {
      "application/javascript": "\n(async () => {\n  const status = document.getElementById('sc-e4f6c509-status');\n  try {\n    // D3 como módulo ESM\n    const mod = await import('https://cdn.jsdelivr.net/npm/d3@7/+esm');\n    const d3  = mod.default ?? mod;\n\n    const mount = document.getElementById('sc-e4f6c509');\n    mount.innerHTML = ''; // limpiar por re-ejecución\n\n    const data  = [{\"horsepower\": 130.0, \"weight\": 3504, \"origin\": \"usa\"}, {\"horsepower\": 165.0, \"weight\": 3693, \"origin\": \"usa\"}, {\"horsepower\": 150.0, \"weight\": 3436, \"origin\": \"usa\"}, {\"horsepower\": 150.0, \"weight\": 3433, \"origin\": \"usa\"}, {\"horsepower\": 140.0, \"weight\": 3449, \"origin\": \"usa\"}, {\"horsepower\": 198.0, \"weight\": 4341, \"origin\": \"usa\"}, {\"horsepower\": 220.0, \"weight\": 4354, \"origin\": \"usa\"}, {\"horsepower\": 215.0, \"weight\": 4312, \"origin\": \"usa\"}, {\"horsepower\": 225.0, \"weight\": 4425, \"origin\": \"usa\"}, {\"horsepower\": 190.0, \"weight\": 3850, \"origin\": \"usa\"}, {\"horsepower\": 170.0, \"weight\": 3563, \"origin\": \"usa\"}, {\"horsepower\": 160.0, \"weight\": 3609, \"origin\": \"usa\"}, {\"horsepower\": 150.0, \"weight\": 3761, \"origin\": \"usa\"}, {\"horsepower\": 225.0, \"weight\": 3086, \"origin\": \"usa\"}, {\"horsepower\": 95.0, \"weight\": 2372, \"origin\": \"japan\"}, {\"horsepower\": 95.0, \"weight\": 2833, \"origin\": \"usa\"}, {\"horsepower\": 97.0, \"weight\": 2774, \"origin\": \"usa\"}, {\"horsepower\": 85.0, \"weight\": 2587, \"origin\": \"usa\"}, {\"horsepower\": 88.0, \"weight\": 2130, \"origin\": \"japan\"}, {\"horsepower\": 46.0, \"weight\": 1835, \"origin\": \"europe\"}, {\"horsepower\": 87.0, \"weight\": 2672, \"origin\": \"europe\"}, {\"horsepower\": 90.0, \"weight\": 2430, \"origin\": \"europe\"}, {\"horsepower\": 95.0, \"weight\": 2375, \"origin\": \"europe\"}, {\"horsepower\": 113.0, \"weight\": 2234, \"origin\": \"europe\"}, {\"horsepower\": 90.0, \"weight\": 2648, \"origin\": \"usa\"}, {\"horsepower\": 215.0, \"weight\": 4615, \"origin\": \"usa\"}, {\"horsepower\": 200.0, \"weight\": 4376, \"origin\": \"usa\"}, {\"horsepower\": 210.0, \"weight\": 4382, \"origin\": \"usa\"}, {\"horsepower\": 193.0, \"weight\": 4732, \"origin\": \"usa\"}, {\"horsepower\": 88.0, \"weight\": 2130, \"origin\": \"japan\"}, {\"horsepower\": 90.0, \"weight\": 2264, \"origin\": \"usa\"}, {\"horsepower\": 95.0, \"weight\": 2228, \"origin\": \"japan\"}, {\"horsepower\": 100.0, \"weight\": 2634, \"origin\": \"usa\"}, {\"horsepower\": 105.0, \"weight\": 3439, \"origin\": \"usa\"}, {\"horsepower\": 100.0, \"weight\": 3329, \"origin\": \"usa\"}, {\"horsepower\": 88.0, \"weight\": 3302, \"origin\": \"usa\"}, {\"horsepower\": 100.0, \"weight\": 3288, \"origin\": \"usa\"}, {\"horsepower\": 165.0, \"weight\": 4209, \"origin\": \"usa\"}, {\"horsepower\": 175.0, \"weight\": 4464, \"origin\": \"usa\"}, {\"horsepower\": 153.0, \"weight\": 4154, \"origin\": \"usa\"}, {\"horsepower\": 150.0, \"weight\": 4096, \"origin\": \"usa\"}, {\"horsepower\": 180.0, \"weight\": 4955, \"origin\": \"usa\"}, {\"horsepower\": 170.0, \"weight\": 4746, \"origin\": \"usa\"}, {\"horsepower\": 175.0, \"weight\": 5140, \"origin\": \"usa\"}, {\"horsepower\": 110.0, \"weight\": 2962, \"origin\": \"usa\"}, {\"horsepower\": 72.0, \"weight\": 2408, \"origin\": \"usa\"}, {\"horsepower\": 100.0, \"weight\": 3282, \"origin\": \"usa\"}, {\"horsepower\": 88.0, \"weight\": 3139, \"origin\": \"usa\"}, {\"horsepower\": 86.0, \"weight\": 2220, \"origin\": \"usa\"}, {\"horsepower\": 90.0, \"weight\": 2123, \"origin\": \"europe\"}, {\"horsepower\": 70.0, \"weight\": 2074, \"origin\": \"europe\"}, {\"horsepower\": 76.0, \"weight\": 2065, \"origin\": \"europe\"}, {\"horsepower\": 65.0, \"weight\": 1773, \"origin\": \"japan\"}, {\"horsepower\": 69.0, \"weight\": 1613, \"origin\": \"japan\"}, {\"horsepower\": 60.0, \"weight\": 1834, \"origin\": \"europe\"}, {\"horsepower\": 70.0, \"weight\": 1955, \"origin\": \"usa\"}, {\"horsepower\": 95.0, \"weight\": 2278, \"origin\": \"japan\"}, {\"horsepower\": 80.0, \"weight\": 2126, \"origin\": \"usa\"}, {\"horsepower\": 54.0, \"weight\": 2254, \"origin\": \"europe\"}, {\"horsepower\": 90.0, \"weight\": 2408, \"origin\": \"usa\"}, {\"horsepower\": 86.0, \"weight\": 2226, \"origin\": \"usa\"}, {\"horsepower\": 165.0, \"weight\": 4274, \"origin\": \"usa\"}, {\"horsepower\": 175.0, \"weight\": 4385, \"origin\": \"usa\"}, {\"horsepower\": 150.0, \"weight\": 4135, \"origin\": \"usa\"}, {\"horsepower\": 153.0, \"weight\": 4129, \"origin\": \"usa\"}, {\"horsepower\": 150.0, \"weight\": 3672, \"origin\": \"usa\"}, {\"horsepower\": 208.0, \"weight\": 4633, \"origin\": \"usa\"}, {\"horsepower\": 155.0, \"weight\": 4502, \"origin\": \"usa\"}, {\"horsepower\": 160.0, \"weight\": 4456, \"origin\": \"usa\"}, {\"horsepower\": 190.0, \"weight\": 4422, \"origin\": \"usa\"}, {\"horsepower\": 97.0, \"weight\": 2330, \"origin\": \"japan\"}, {\"horsepower\": 150.0, \"weight\": 3892, \"origin\": \"usa\"}, {\"horsepower\": 130.0, \"weight\": 4098, \"origin\": \"usa\"}, {\"horsepower\": 140.0, \"weight\": 4294, \"origin\": \"usa\"}, {\"horsepower\": 150.0, \"weight\": 4077, \"origin\": \"usa\"}, {\"horsepower\": 112.0, \"weight\": 2933, \"origin\": \"europe\"}, {\"horsepower\": 76.0, \"weight\": 2511, \"origin\": \"europe\"}, {\"horsepower\": 87.0, \"weight\": 2979, \"origin\": \"europe\"}, {\"horsepower\": 69.0, \"weight\": 2189, \"origin\": \"europe\"}, {\"horsepower\": 86.0, \"weight\": 2395, \"origin\": \"usa\"}, {\"horsepower\": 92.0, \"weight\": 2288, \"origin\": \"japan\"}, {\"horsepower\": 97.0, \"weight\": 2506, \"origin\": \"japan\"}, {\"horsepower\": 80.0, \"weight\": 2164, \"origin\": \"usa\"}, {\"horsepower\": 88.0, \"weight\": 2100, \"origin\": \"japan\"}, {\"horsepower\": 175.0, \"weight\": 4100, \"origin\": \"usa\"}, {\"horsepower\": 150.0, \"weight\": 3672, \"origin\": \"usa\"}, {\"horsepower\": 145.0, \"weight\": 3988, \"origin\": \"usa\"}, {\"horsepower\": 137.0, \"weight\": 4042, \"origin\": \"usa\"}, {\"horsepower\": 150.0, \"weight\": 3777, \"origin\": \"usa\"}, {\"horsepower\": 198.0, \"weight\": 4952, \"origin\": \"usa\"}, {\"horsepower\": 150.0, \"weight\": 4464, \"origin\": \"usa\"}, {\"horsepower\": 158.0, \"weight\": 4363, \"origin\": \"usa\"}, {\"horsepower\": 150.0, \"weight\": 4237, \"origin\": \"usa\"}, {\"horsepower\": 215.0, \"weight\": 4735, \"origin\": \"usa\"}, {\"horsepower\": 225.0, \"weight\": 4951, \"origin\": \"usa\"}, {\"horsepower\": 175.0, \"weight\": 3821, \"origin\": \"usa\"}, {\"horsepower\": 105.0, \"weight\": 3121, \"origin\": \"usa\"}, {\"horsepower\": 100.0, \"weight\": 3278, \"origin\": \"usa\"}, {\"horsepower\": 100.0, \"weight\": 2945, \"origin\": \"usa\"}, {\"horsepower\": 88.0, \"weight\": 3021, \"origin\": \"usa\"}, {\"horsepower\": 95.0, \"weight\": 2904, \"origin\": \"usa\"}, {\"horsepower\": 46.0, \"weight\": 1950, \"origin\": \"europe\"}, {\"horsepower\": 150.0, \"weight\": 4997, \"origin\": \"usa\"}, {\"horsepower\": 167.0, \"weight\": 4906, \"origin\": \"usa\"}, {\"horsepower\": 170.0, \"weight\": 4654, \"origin\": \"usa\"}, {\"horsepower\": 180.0, \"weight\": 4499, \"origin\": \"usa\"}, {\"horsepower\": 100.0, \"weight\": 2789, \"origin\": \"usa\"}, {\"horsepower\": 88.0, \"weight\": 2279, \"origin\": \"japan\"}, {\"horsepower\": 72.0, \"weight\": 2401, \"origin\": \"usa\"}, {\"horsepower\": 94.0, \"weight\": 2379, \"origin\": \"japan\"}, {\"horsepower\": 90.0, \"weight\": 2124, \"origin\": \"japan\"}, {\"horsepower\": 85.0, \"weight\": 2310, \"origin\": \"usa\"}, {\"horsepower\": 107.0, \"weight\": 2472, \"origin\": \"usa\"}, {\"horsepower\": 90.0, \"weight\": 2265, \"origin\": \"europe\"}, {\"horsepower\": 145.0, \"weight\": 4082, \"origin\": \"usa\"}, {\"horsepower\": 230.0, \"weight\": 4278, \"origin\": \"usa\"}, {\"horsepower\": 49.0, \"weight\": 1867, \"origin\": \"europe\"}, {\"horsepower\": 75.0, \"weight\": 2158, \"origin\": \"europe\"}, {\"horsepower\": 91.0, \"weight\": 2582, \"origin\": \"europe\"}, {\"horsepower\": 112.0, \"weight\": 2868, \"origin\": \"europe\"}, {\"horsepower\": 150.0, \"weight\": 3399, \"origin\": \"usa\"}, {\"horsepower\": 110.0, \"weight\": 2660, \"origin\": \"europe\"}, {\"horsepower\": 122.0, \"weight\": 2807, \"origin\": \"japan\"}, {\"horsepower\": 180.0, \"weight\": 3664, \"origin\": \"usa\"}, {\"horsepower\": 95.0, \"weight\": 3102, \"origin\": \"usa\"}, {\"horsepower\": 100.0, \"weight\": 2901, \"origin\": \"usa\"}, {\"horsepower\": 100.0, \"weight\": 3336, \"origin\": \"usa\"}, {\"horsepower\": 67.0, \"weight\": 1950, \"origin\": \"japan\"}, {\"horsepower\": 80.0, \"weight\": 2451, \"origin\": \"usa\"}, {\"horsepower\": 65.0, \"weight\": 1836, \"origin\": \"japan\"}, {\"horsepower\": 75.0, \"weight\": 2542, \"origin\": \"usa\"}, {\"horsepower\": 100.0, \"weight\": 3781, \"origin\": \"usa\"}, {\"horsepower\": 110.0, \"weight\": 3632, \"origin\": \"usa\"}, {\"horsepower\": 105.0, \"weight\": 3613, \"origin\": \"usa\"}, {\"horsepower\": 140.0, \"weight\": 4141, \"origin\": \"usa\"}, {\"horsepower\": 150.0, \"weight\": 4699, \"origin\": \"usa\"}, {\"horsepower\": 150.0, \"weight\": 4457, \"origin\": \"usa\"}, {\"horsepower\": 140.0, \"weight\": 4638, \"origin\": \"usa\"}, {\"horsepower\": 150.0, \"weight\": 4257, \"origin\": \"usa\"}, {\"horsepower\": 83.0, \"weight\": 2219, \"origin\": \"europe\"}, {\"horsepower\": 67.0, \"weight\": 1963, \"origin\": \"europe\"}, {\"horsepower\": 78.0, \"weight\": 2300, \"origin\": \"europe\"}, {\"horsepower\": 52.0, \"weight\": 1649, \"origin\": \"japan\"}, {\"horsepower\": 61.0, \"weight\": 2003, \"origin\": \"japan\"}, {\"horsepower\": 75.0, \"weight\": 2125, \"origin\": \"usa\"}, {\"horsepower\": 75.0, \"weight\": 2108, \"origin\": \"europe\"}, {\"horsepower\": 75.0, \"weight\": 2246, \"origin\": \"europe\"}, {\"horsepower\": 97.0, \"weight\": 2489, \"origin\": \"japan\"}, {\"horsepower\": 93.0, \"weight\": 2391, \"origin\": \"japan\"}, {\"horsepower\": 67.0, \"weight\": 2000, \"origin\": \"europe\"}, {\"horsepower\": 95.0, \"weight\": 3264, \"origin\": \"usa\"}, {\"horsepower\": 105.0, \"weight\": 3459, \"origin\": \"usa\"}, {\"horsepower\": 72.0, \"weight\": 3432, \"origin\": \"usa\"}, {\"horsepower\": 72.0, \"weight\": 3158, \"origin\": \"usa\"}, {\"horsepower\": 170.0, \"weight\": 4668, \"origin\": \"usa\"}, {\"horsepower\": 145.0, \"weight\": 4440, \"origin\": \"usa\"}, {\"horsepower\": 150.0, \"weight\": 4498, \"origin\": \"usa\"}, {\"horsepower\": 148.0, \"weight\": 4657, \"origin\": \"usa\"}, {\"horsepower\": 110.0, \"weight\": 3907, \"origin\": \"usa\"}, {\"horsepower\": 105.0, \"weight\": 3897, \"origin\": \"usa\"}, {\"horsepower\": 110.0, \"weight\": 3730, \"origin\": \"usa\"}, {\"horsepower\": 95.0, \"weight\": 3785, \"origin\": \"usa\"}, {\"horsepower\": 110.0, \"weight\": 3039, \"origin\": \"usa\"}, {\"horsepower\": 110.0, \"weight\": 3221, \"origin\": \"usa\"}, {\"horsepower\": 129.0, \"weight\": 3169, \"origin\": \"usa\"}, {\"horsepower\": 75.0, \"weight\": 2171, \"origin\": \"japan\"}, {\"horsepower\": 83.0, \"weight\": 2639, \"origin\": \"usa\"}, {\"horsepower\": 100.0, \"weight\": 2914, \"origin\": \"usa\"}, {\"horsepower\": 78.0, \"weight\": 2592, \"origin\": \"usa\"}, {\"horsepower\": 96.0, \"weight\": 2702, \"origin\": \"japan\"}, {\"horsepower\": 71.0, \"weight\": 2223, \"origin\": \"europe\"}, {\"horsepower\": 97.0, \"weight\": 2545, \"origin\": \"japan\"}, {\"horsepower\": 97.0, \"weight\": 2984, \"origin\": \"usa\"}, {\"horsepower\": 70.0, \"weight\": 1937, \"origin\": \"europe\"}, {\"horsepower\": 90.0, \"weight\": 3211, \"origin\": \"usa\"}, {\"horsepower\": 95.0, \"weight\": 2694, \"origin\": \"europe\"}, {\"horsepower\": 88.0, \"weight\": 2957, \"origin\": \"europe\"}, {\"horsepower\": 98.0, \"weight\": 2945, \"origin\": \"europe\"}, {\"horsepower\": 115.0, \"weight\": 2671, \"origin\": \"europe\"}, {\"horsepower\": 53.0, \"weight\": 1795, \"origin\": \"japan\"}, {\"horsepower\": 86.0, \"weight\": 2464, \"origin\": \"europe\"}, {\"horsepower\": 81.0, \"weight\": 2220, \"origin\": \"europe\"}, {\"horsepower\": 92.0, \"weight\": 2572, \"origin\": \"usa\"}, {\"horsepower\": 79.0, \"weight\": 2255, \"origin\": \"usa\"}, {\"horsepower\": 83.0, \"weight\": 2202, \"origin\": \"europe\"}, {\"horsepower\": 140.0, \"weight\": 4215, \"origin\": \"usa\"}, {\"horsepower\": 150.0, \"weight\": 4190, \"origin\": \"usa\"}, {\"horsepower\": 120.0, \"weight\": 3962, \"origin\": \"usa\"}, {\"horsepower\": 152.0, \"weight\": 4215, \"origin\": \"usa\"}, {\"horsepower\": 100.0, \"weight\": 3233, \"origin\": \"usa\"}, {\"horsepower\": 105.0, \"weight\": 3353, \"origin\": \"usa\"}, {\"horsepower\": 81.0, \"weight\": 3012, \"origin\": \"usa\"}, {\"horsepower\": 90.0, \"weight\": 3085, \"origin\": \"usa\"}, {\"horsepower\": 52.0, \"weight\": 2035, \"origin\": \"usa\"}, {\"horsepower\": 60.0, \"weight\": 2164, \"origin\": \"usa\"}, {\"horsepower\": 70.0, \"weight\": 1937, \"origin\": \"europe\"}, {\"horsepower\": 53.0, \"weight\": 1795, \"origin\": \"japan\"}, {\"horsepower\": 100.0, \"weight\": 3651, \"origin\": \"usa\"}, {\"horsepower\": 78.0, \"weight\": 3574, \"origin\": \"usa\"}, {\"horsepower\": 110.0, \"weight\": 3645, \"origin\": \"usa\"}, {\"horsepower\": 95.0, \"weight\": 3193, \"origin\": \"usa\"}, {\"horsepower\": 71.0, \"weight\": 1825, \"origin\": \"europe\"}, {\"horsepower\": 70.0, \"weight\": 1990, \"origin\": \"japan\"}, {\"horsepower\": 75.0, \"weight\": 2155, \"origin\": \"japan\"}, {\"horsepower\": 72.0, \"weight\": 2565, \"origin\": \"usa\"}, {\"horsepower\": 102.0, \"weight\": 3150, \"origin\": \"europe\"}, {\"horsepower\": 150.0, \"weight\": 3940, \"origin\": \"usa\"}, {\"horsepower\": 88.0, \"weight\": 3270, \"origin\": \"europe\"}, {\"horsepower\": 108.0, \"weight\": 2930, \"origin\": \"japan\"}, {\"horsepower\": 120.0, \"weight\": 3820, \"origin\": \"europe\"}, {\"horsepower\": 180.0, \"weight\": 4380, \"origin\": \"usa\"}, {\"horsepower\": 145.0, \"weight\": 4055, \"origin\": \"usa\"}, {\"horsepower\": 130.0, \"weight\": 3870, \"origin\": \"usa\"}, {\"horsepower\": 150.0, \"weight\": 3755, \"origin\": \"usa\"}, {\"horsepower\": 68.0, \"weight\": 2045, \"origin\": \"japan\"}, {\"horsepower\": 80.0, \"weight\": 2155, \"origin\": \"usa\"}, {\"horsepower\": 58.0, \"weight\": 1825, \"origin\": \"europe\"}, {\"horsepower\": 96.0, \"weight\": 2300, \"origin\": \"usa\"}, {\"horsepower\": 70.0, \"weight\": 1945, \"origin\": \"japan\"}, {\"horsepower\": 145.0, \"weight\": 3880, \"origin\": \"usa\"}, {\"horsepower\": 110.0, \"weight\": 4060, \"origin\": \"usa\"}, {\"horsepower\": 145.0, \"weight\": 4140, \"origin\": \"usa\"}, {\"horsepower\": 130.0, \"weight\": 4295, \"origin\": \"usa\"}, {\"horsepower\": 110.0, \"weight\": 3520, \"origin\": \"usa\"}, {\"horsepower\": 105.0, \"weight\": 3425, \"origin\": \"usa\"}, {\"horsepower\": 100.0, \"weight\": 3630, \"origin\": \"usa\"}, {\"horsepower\": 98.0, \"weight\": 3525, \"origin\": \"usa\"}, {\"horsepower\": 180.0, \"weight\": 4220, \"origin\": \"usa\"}, {\"horsepower\": 170.0, \"weight\": 4165, \"origin\": \"usa\"}, {\"horsepower\": 190.0, \"weight\": 4325, \"origin\": \"usa\"}, {\"horsepower\": 149.0, \"weight\": 4335, \"origin\": \"usa\"}, {\"horsepower\": 78.0, \"weight\": 1940, \"origin\": \"europe\"}, {\"horsepower\": 88.0, \"weight\": 2740, \"origin\": \"usa\"}, {\"horsepower\": 75.0, \"weight\": 2265, \"origin\": \"japan\"}, {\"horsepower\": 89.0, \"weight\": 2755, \"origin\": \"usa\"}, {\"horsepower\": 63.0, \"weight\": 2051, \"origin\": \"usa\"}, {\"horsepower\": 83.0, \"weight\": 2075, \"origin\": \"usa\"}, {\"horsepower\": 67.0, \"weight\": 1985, \"origin\": \"japan\"}, {\"horsepower\": 78.0, \"weight\": 2190, \"origin\": \"europe\"}, {\"horsepower\": 97.0, \"weight\": 2815, \"origin\": \"japan\"}, {\"horsepower\": 110.0, \"weight\": 2600, \"origin\": \"europe\"}, {\"horsepower\": 110.0, \"weight\": 2720, \"origin\": \"japan\"}, {\"horsepower\": 48.0, \"weight\": 1985, \"origin\": \"europe\"}, {\"horsepower\": 66.0, \"weight\": 1800, \"origin\": \"usa\"}, {\"horsepower\": 52.0, \"weight\": 1985, \"origin\": \"japan\"}, {\"horsepower\": 70.0, \"weight\": 2070, \"origin\": \"japan\"}, {\"horsepower\": 60.0, \"weight\": 1800, \"origin\": \"japan\"}, {\"horsepower\": 110.0, \"weight\": 3365, \"origin\": \"usa\"}, {\"horsepower\": 140.0, \"weight\": 3735, \"origin\": \"usa\"}, {\"horsepower\": 139.0, \"weight\": 3570, \"origin\": \"usa\"}, {\"horsepower\": 105.0, \"weight\": 3535, \"origin\": \"usa\"}, {\"horsepower\": 95.0, \"weight\": 3155, \"origin\": \"usa\"}, {\"horsepower\": 85.0, \"weight\": 2965, \"origin\": \"usa\"}, {\"horsepower\": 88.0, \"weight\": 2720, \"origin\": \"usa\"}, {\"horsepower\": 100.0, \"weight\": 3430, \"origin\": \"usa\"}, {\"horsepower\": 90.0, \"weight\": 3210, \"origin\": \"usa\"}, {\"horsepower\": 105.0, \"weight\": 3380, \"origin\": \"usa\"}, {\"horsepower\": 85.0, \"weight\": 3070, \"origin\": \"usa\"}, {\"horsepower\": 110.0, \"weight\": 3620, \"origin\": \"usa\"}, {\"horsepower\": 120.0, \"weight\": 3410, \"origin\": \"usa\"}, {\"horsepower\": 145.0, \"weight\": 3425, \"origin\": \"usa\"}, {\"horsepower\": 165.0, \"weight\": 3445, \"origin\": \"usa\"}, {\"horsepower\": 139.0, \"weight\": 3205, \"origin\": \"usa\"}, {\"horsepower\": 140.0, \"weight\": 4080, \"origin\": \"usa\"}, {\"horsepower\": 68.0, \"weight\": 2155, \"origin\": \"usa\"}, {\"horsepower\": 95.0, \"weight\": 2560, \"origin\": \"japan\"}, {\"horsepower\": 97.0, \"weight\": 2300, \"origin\": \"japan\"}, {\"horsepower\": 75.0, \"weight\": 2230, \"origin\": \"usa\"}, {\"horsepower\": 95.0, \"weight\": 2515, \"origin\": \"japan\"}, {\"horsepower\": 105.0, \"weight\": 2745, \"origin\": \"usa\"}, {\"horsepower\": 85.0, \"weight\": 2855, \"origin\": \"usa\"}, {\"horsepower\": 97.0, \"weight\": 2405, \"origin\": \"japan\"}, {\"horsepower\": 103.0, \"weight\": 2830, \"origin\": \"europe\"}, {\"horsepower\": 125.0, \"weight\": 3140, \"origin\": \"europe\"}, {\"horsepower\": 115.0, \"weight\": 2795, \"origin\": \"europe\"}, {\"horsepower\": 133.0, \"weight\": 3410, \"origin\": \"europe\"}, {\"horsepower\": 71.0, \"weight\": 1990, \"origin\": \"europe\"}, {\"horsepower\": 68.0, \"weight\": 2135, \"origin\": \"japan\"}, {\"horsepower\": 115.0, \"weight\": 3245, \"origin\": \"usa\"}, {\"horsepower\": 85.0, \"weight\": 2990, \"origin\": \"usa\"}, {\"horsepower\": 88.0, \"weight\": 2890, \"origin\": \"usa\"}, {\"horsepower\": 90.0, \"weight\": 3265, \"origin\": \"usa\"}, {\"horsepower\": 110.0, \"weight\": 3360, \"origin\": \"usa\"}, {\"horsepower\": 130.0, \"weight\": 3840, \"origin\": \"usa\"}, {\"horsepower\": 129.0, \"weight\": 3725, \"origin\": \"usa\"}, {\"horsepower\": 138.0, \"weight\": 3955, \"origin\": \"usa\"}, {\"horsepower\": 135.0, \"weight\": 3830, \"origin\": \"usa\"}, {\"horsepower\": 155.0, \"weight\": 4360, \"origin\": \"usa\"}, {\"horsepower\": 142.0, \"weight\": 4054, \"origin\": \"usa\"}, {\"horsepower\": 125.0, \"weight\": 3605, \"origin\": \"usa\"}, {\"horsepower\": 150.0, \"weight\": 3940, \"origin\": \"usa\"}, {\"horsepower\": 71.0, \"weight\": 1925, \"origin\": \"europe\"}, {\"horsepower\": 65.0, \"weight\": 1975, \"origin\": \"japan\"}, {\"horsepower\": 80.0, \"weight\": 1915, \"origin\": \"usa\"}, {\"horsepower\": 80.0, \"weight\": 2670, \"origin\": \"usa\"}, {\"horsepower\": 77.0, \"weight\": 3530, \"origin\": \"europe\"}, {\"horsepower\": 125.0, \"weight\": 3900, \"origin\": \"usa\"}, {\"horsepower\": 71.0, \"weight\": 3190, \"origin\": \"europe\"}, {\"horsepower\": 90.0, \"weight\": 3420, \"origin\": \"usa\"}, {\"horsepower\": 70.0, \"weight\": 2200, \"origin\": \"usa\"}, {\"horsepower\": 70.0, \"weight\": 2150, \"origin\": \"usa\"}, {\"horsepower\": 65.0, \"weight\": 2020, \"origin\": \"japan\"}, {\"horsepower\": 69.0, \"weight\": 2130, \"origin\": \"europe\"}, {\"horsepower\": 90.0, \"weight\": 2670, \"origin\": \"usa\"}, {\"horsepower\": 115.0, \"weight\": 2595, \"origin\": \"usa\"}, {\"horsepower\": 115.0, \"weight\": 2700, \"origin\": \"usa\"}, {\"horsepower\": 90.0, \"weight\": 2556, \"origin\": \"usa\"}, {\"horsepower\": 76.0, \"weight\": 2144, \"origin\": \"europe\"}, {\"horsepower\": 60.0, \"weight\": 1968, \"origin\": \"japan\"}, {\"horsepower\": 70.0, \"weight\": 2120, \"origin\": \"usa\"}, {\"horsepower\": 65.0, \"weight\": 2019, \"origin\": \"japan\"}, {\"horsepower\": 90.0, \"weight\": 2678, \"origin\": \"usa\"}, {\"horsepower\": 88.0, \"weight\": 2870, \"origin\": \"usa\"}, {\"horsepower\": 90.0, \"weight\": 3003, \"origin\": \"usa\"}, {\"horsepower\": 90.0, \"weight\": 3381, \"origin\": \"usa\"}, {\"horsepower\": 78.0, \"weight\": 2188, \"origin\": \"europe\"}, {\"horsepower\": 90.0, \"weight\": 2711, \"origin\": \"japan\"}, {\"horsepower\": 75.0, \"weight\": 2542, \"origin\": \"japan\"}, {\"horsepower\": 92.0, \"weight\": 2434, \"origin\": \"japan\"}, {\"horsepower\": 75.0, \"weight\": 2265, \"origin\": \"japan\"}, {\"horsepower\": 65.0, \"weight\": 2110, \"origin\": \"japan\"}, {\"horsepower\": 105.0, \"weight\": 2800, \"origin\": \"usa\"}, {\"horsepower\": 65.0, \"weight\": 2110, \"origin\": \"japan\"}, {\"horsepower\": 48.0, \"weight\": 2085, \"origin\": \"europe\"}, {\"horsepower\": 48.0, \"weight\": 2335, \"origin\": \"europe\"}, {\"horsepower\": 67.0, \"weight\": 2950, \"origin\": \"europe\"}, {\"horsepower\": 67.0, \"weight\": 3250, \"origin\": \"europe\"}, {\"horsepower\": 67.0, \"weight\": 1850, \"origin\": \"japan\"}, {\"horsepower\": 67.0, \"weight\": 2145, \"origin\": \"japan\"}, {\"horsepower\": 62.0, \"weight\": 1845, \"origin\": \"europe\"}, {\"horsepower\": 132.0, \"weight\": 2910, \"origin\": \"japan\"}, {\"horsepower\": 100.0, \"weight\": 2420, \"origin\": \"japan\"}, {\"horsepower\": 88.0, \"weight\": 2500, \"origin\": \"europe\"}, {\"horsepower\": 72.0, \"weight\": 2290, \"origin\": \"japan\"}, {\"horsepower\": 84.0, \"weight\": 2490, \"origin\": \"usa\"}, {\"horsepower\": 84.0, \"weight\": 2635, \"origin\": \"usa\"}, {\"horsepower\": 92.0, \"weight\": 2620, \"origin\": \"usa\"}, {\"horsepower\": 110.0, \"weight\": 2725, \"origin\": \"usa\"}, {\"horsepower\": 84.0, \"weight\": 2385, \"origin\": \"usa\"}, {\"horsepower\": 58.0, \"weight\": 1755, \"origin\": \"japan\"}, {\"horsepower\": 64.0, \"weight\": 1875, \"origin\": \"usa\"}, {\"horsepower\": 60.0, \"weight\": 1760, \"origin\": \"japan\"}, {\"horsepower\": 67.0, \"weight\": 2065, \"origin\": \"japan\"}, {\"horsepower\": 65.0, \"weight\": 1975, \"origin\": \"japan\"}, {\"horsepower\": 62.0, \"weight\": 2050, \"origin\": \"japan\"}, {\"horsepower\": 68.0, \"weight\": 1985, \"origin\": \"japan\"}, {\"horsepower\": 63.0, \"weight\": 2215, \"origin\": \"usa\"}, {\"horsepower\": 65.0, \"weight\": 2045, \"origin\": \"usa\"}, {\"horsepower\": 65.0, \"weight\": 2380, \"origin\": \"usa\"}, {\"horsepower\": 74.0, \"weight\": 2190, \"origin\": \"europe\"}, {\"horsepower\": 75.0, \"weight\": 2210, \"origin\": \"japan\"}, {\"horsepower\": 75.0, \"weight\": 2350, \"origin\": \"japan\"}, {\"horsepower\": 100.0, \"weight\": 2615, \"origin\": \"japan\"}, {\"horsepower\": 74.0, \"weight\": 2635, \"origin\": \"japan\"}, {\"horsepower\": 80.0, \"weight\": 3230, \"origin\": \"europe\"}, {\"horsepower\": 76.0, \"weight\": 3160, \"origin\": \"europe\"}, {\"horsepower\": 116.0, \"weight\": 2900, \"origin\": \"japan\"}, {\"horsepower\": 120.0, \"weight\": 2930, \"origin\": \"japan\"}, {\"horsepower\": 110.0, \"weight\": 3415, \"origin\": \"usa\"}, {\"horsepower\": 105.0, \"weight\": 3725, \"origin\": \"usa\"}, {\"horsepower\": 88.0, \"weight\": 3060, \"origin\": \"usa\"}, {\"horsepower\": 85.0, \"weight\": 3465, \"origin\": \"usa\"}, {\"horsepower\": 88.0, \"weight\": 2605, \"origin\": \"usa\"}, {\"horsepower\": 88.0, \"weight\": 2640, \"origin\": \"usa\"}, {\"horsepower\": 88.0, \"weight\": 2395, \"origin\": \"usa\"}, {\"horsepower\": 85.0, \"weight\": 2575, \"origin\": \"usa\"}, {\"horsepower\": 84.0, \"weight\": 2525, \"origin\": \"usa\"}, {\"horsepower\": 90.0, \"weight\": 2735, \"origin\": \"usa\"}, {\"horsepower\": 92.0, \"weight\": 2865, \"origin\": \"usa\"}, {\"horsepower\": 74.0, \"weight\": 1980, \"origin\": \"europe\"}, {\"horsepower\": 68.0, \"weight\": 2025, \"origin\": \"japan\"}, {\"horsepower\": 68.0, \"weight\": 1970, \"origin\": \"japan\"}, {\"horsepower\": 63.0, \"weight\": 2125, \"origin\": \"usa\"}, {\"horsepower\": 70.0, \"weight\": 2125, \"origin\": \"usa\"}, {\"horsepower\": 88.0, \"weight\": 2160, \"origin\": \"japan\"}, {\"horsepower\": 75.0, \"weight\": 2205, \"origin\": \"japan\"}, {\"horsepower\": 70.0, \"weight\": 2245, \"origin\": \"japan\"}, {\"horsepower\": 67.0, \"weight\": 1965, \"origin\": \"japan\"}, {\"horsepower\": 67.0, \"weight\": 1965, \"origin\": \"japan\"}, {\"horsepower\": 67.0, \"weight\": 1995, \"origin\": \"japan\"}, {\"horsepower\": 110.0, \"weight\": 2945, \"origin\": \"usa\"}, {\"horsepower\": 85.0, \"weight\": 3015, \"origin\": \"usa\"}, {\"horsepower\": 92.0, \"weight\": 2585, \"origin\": \"usa\"}, {\"horsepower\": 112.0, \"weight\": 2835, \"origin\": \"usa\"}, {\"horsepower\": 96.0, \"weight\": 2665, \"origin\": \"japan\"}, {\"horsepower\": 84.0, \"weight\": 2370, \"origin\": \"usa\"}, {\"horsepower\": 90.0, \"weight\": 2950, \"origin\": \"usa\"}, {\"horsepower\": 86.0, \"weight\": 2790, \"origin\": \"usa\"}, {\"horsepower\": 52.0, \"weight\": 2130, \"origin\": \"europe\"}, {\"horsepower\": 84.0, \"weight\": 2295, \"origin\": \"usa\"}, {\"horsepower\": 79.0, \"weight\": 2625, \"origin\": \"usa\"}, {\"horsepower\": 82.0, \"weight\": 2720, \"origin\": \"usa\"}];\n    const W=900, H=600, m={top:24,right:16,bottom:36,left:44};\n    const iW = W - m.left - m.right, iH = H - m.top - m.bottom;\n\n    const svg = d3.select(mount).append('svg')\n      .attr('width', W).attr('height', H);\n    const g = svg.append('g').attr('transform', `translate(${m.left},${m.top})`);\n\n    const x = d3.scaleLinear()\n      .domain(d3.extent(data, d => +d['horsepower'])).nice()\n      .range([0, iW]);\n    const y = d3.scaleLinear()\n      .domain(d3.extent(data, d => +d['weight'])).nice()\n      .range([iH, 0]);\n\n    g.append('g').attr('transform', `translate(0,${iH})`).call(d3.axisBottom(x));\n    g.append('g').call(d3.axisLeft(y));\n\n    const cats = [...new Set(data.map(d => d['origin']))];\n    const color = d3.scaleOrdinal(cats, d3.schemeCategory10);\n\n    const dots = g.selectAll('circle').data(data).join('circle')\n      .attr('r', 3.5)\n      .attr('cx', d => x(+d['horsepower']))\n      .attr('cy', d => y(+d['weight']))\n      .attr('fill', d => color(d['origin']))\n      .attr('opacity', 0.95);\n\n    const brush = d3.brush()\n      .extent([[0,0],[iW,iH]])\n      .on('brush end', (ev) => {\n        const sel = ev.selection;\n        if (!sel) {\n          dots.attr('opacity', 0.95).attr('stroke', null);\n          status.textContent = 'Tip: arrastra para seleccionar. Doble clic limpia.';\n          window._lastSelection = null;\n          return;\n        }\n        const [[x0,y0],[x1,y1]] = sel;\n        let count = 0;\n        dots\n          .attr('opacity', d => {\n            const hit = (x0 <= x(+d['horsepower']) && x(+d['horsepower']) <= x1 &&\n                         y0 <= y(+d['weight']) && y(+d['weight']) <= y1);\n            if (hit) count++;\n            return hit ? 1 : 0.2;\n          })\n          .attr('stroke', d => {\n            const hit = (x0 <= x(+d['horsepower']) && x(+d['horsepower']) <= x1 &&\n                         y0 <= y(+d['weight']) && y(+d['weight']) <= y1);\n            return hit ? '#111' : null;\n          })\n          .attr('stroke-width', d => {\n            const hit = (x0 <= x(+d['horsepower']) && x(+d['horsepower']) <= x1 &&\n                         y0 <= y(+d['weight']) && y(+d['weight']) <= y1);\n            return hit ? 1.1 : null;\n          });\n        status.textContent = `Seleccionados: ${count} punto(s).`;\n      });\n\n    const gBrush = g.append('g').attr('class','brush').call(brush);\n    svg.on('dblclick', () => gBrush.call(brush.move, null));\n\n    status.textContent = 'Tip: arrastra para seleccionar. Doble clic limpia.';\n  } catch (e) {\n    const msg = (e && e.stack) ? e.stack : (''+e);\n    document.getElementById('sc-e4f6c509-status').textContent = 'Error al renderizar: ' + msg;\n  }\n})();\n",
      "text/plain": [
       "<IPython.core.display.Javascript object>"
      ]
     },
     "metadata": {},
     "output_type": "display_data"
    },
    {
     "data": {
      "text/html": [
       "<small>ScatterBrush listo (#sc-e4f6c509)</small>"
      ],
      "text/plain": [
       "<IPython.core.display.HTML object>"
      ]
     },
     "execution_count": 40,
     "metadata": {},
     "output_type": "execute_result"
    }
   ],
   "source": [
    "# Celda 9: SCATTER tradicional - Caballos vs Peso (coloreado por origen)\n",
    "ScatterBrush(\n",
    "    df=df, \n",
    "    x=\"horsepower\", \n",
    "    y=\"weight\", \n",
    "    color=\"origin\",\n",
    "    width=900,\n",
    "    height=600\n",
    ")"
   ]
  },
  {
   "cell_type": "code",
   "execution_count": 41,
   "id": "5a8c30c7",
   "metadata": {},
   "outputs": [
    {
     "data": {
      "text/html": [
       "\n",
       "<div id=\"radar-eeceb246\" class=\"vis\"></div>\n",
       "<div id=\"radar-eeceb246-status\" class=\"status\">Cargando Radar Chart…</div>\n",
       "<style>\n",
       "  .vis { width: 100%; min-height: 700px; }\n",
       "  .status { font-size:12px; color:#64748b; margin:6px 2px; }\n",
       "</style>\n"
      ],
      "text/plain": [
       "<IPython.core.display.HTML object>"
      ]
     },
     "metadata": {},
     "output_type": "display_data"
    },
    {
     "data": {
      "application/javascript": "\n(async () => {\n  const status = document.getElementById('radar-eeceb246-status');\n  try {\n    const mod = await import('https://cdn.jsdelivr.net/npm/d3@7/+esm');\n    const d3 = mod.default ?? mod;\n    \n    const mount = document.getElementById('radar-eeceb246');\n    mount.innerHTML = '';\n    \n    const data = [{\"name\": \"70s\", \"Potencia\": 100.0, \"Peso\": 100.0, \"Aceleración\": 0.0, \"Eficiencia\": 0.0}, {\"name\": \"80s\", \"Potencia\": 0.0, \"Peso\": 0.0, \"Aceleración\": 100.0, \"Eficiencia\": 99.99999999999997}];\n    const features = [\"Potencia\", \"Peso\", \"Aceleraci\\u00f3n\", \"Eficiencia\"];\n    const W = 700, H = 700;\n    const margin = { top: 50, right: 100, bottom: 50, left: 100 };\n    const w = W - margin.left - margin.right;\n    const h = H - margin.top - margin.bottom;\n    const radius = Math.min(w, h) / 2;\n    \n    const svg = d3.select(mount)\n      .append('svg')\n      .attr('width', W)\n      .attr('height', H)\n      .append('g')\n      .attr('transform', `translate(${W/2}, ${H/2})`);\n    \n    const angleSlice = (Math.PI * 2) / features.length;\n    \n    // Escala radial\n    const maxValue = d3.max(data, d => d3.max(features, f => +d[f]));\n    const rScale = d3.scaleLinear()\n      .domain([0, maxValue])\n      .range([0, radius]);\n    \n    const colorScale = d3.scaleOrdinal(d3.schemeCategory10 || d3.schemeCategory10);\n    \n    // Dibujar círculos de niveles\n    const levels = 5;\n    for (let i = 1; i <= levels; i++) {\n      const levelRadius = (radius / levels) * i;\n      \n      svg.append('circle')\n        .attr('r', levelRadius)\n        .style('fill', 'none')\n        .style('stroke', '#CDCDCD')\n        .style('stroke-dasharray', '3,3');\n      \n      svg.append('text')\n        .attr('x', 5)\n        .attr('y', -levelRadius)\n        .attr('dy', '0.4em')\n        .style('font-size', '10px')\n        .style('fill', '#737373')\n        .text(Math.round((maxValue / levels) * i));\n    }\n    \n    // Dibujar ejes radiales\n    const axis = svg.selectAll('.axis')\n      .data(features)\n      .enter()\n      .append('g')\n      .attr('class', 'axis');\n    \n    axis.append('line')\n      .attr('x1', 0)\n      .attr('y1', 0)\n      .attr('x2', (d, i) => rScale(maxValue * 1.1) * Math.cos(angleSlice * i - Math.PI/2))\n      .attr('y2', (d, i) => rScale(maxValue * 1.1) * Math.sin(angleSlice * i - Math.PI/2))\n      .style('stroke', '#999')\n      .style('stroke-width', '1px');\n    \n    // Etiquetas de características\n    axis.append('text')\n      .attr('x', (d, i) => (rScale(maxValue * 1.25)) * Math.cos(angleSlice * i - Math.PI/2))\n      .attr('y', (d, i) => (rScale(maxValue * 1.25)) * Math.sin(angleSlice * i - Math.PI/2))\n      .attr('text-anchor', 'middle')\n      .attr('dy', '0.35em')\n      .style('font-size', '12px')\n      .style('font-weight', 'bold')\n      .text(d => d);\n    \n    // Generador de líneas para el radar\n    const radarLine = d3.lineRadial()\n      .radius(d => rScale(d.value))\n      .angle((d, i) => i * angleSlice)\n      .curve(d3.curveLinearClosed);\n    \n    // Preparar datos del radar\n    const radarData = data.map(item => \n      features.map(f => ({ axis: f, value: +item[f] }))\n    );\n    \n    // Dibujar áreas del radar\n    svg.selectAll('.radar-area')\n      .data(radarData)\n      .enter()\n      .append('path')\n      .attr('class', 'radar-area')\n      .attr('d', radarLine)\n      .style('fill', (d, i) => colorScale(i))\n      .style('fill-opacity', 0.2)\n      .style('stroke', (d, i) => colorScale(i))\n      .style('stroke-width', '2px')\n      .on('mouseover', function() {\n        d3.select(this).style('fill-opacity', 0.5);\n      })\n      .on('mouseout', function() {\n        d3.select(this).style('fill-opacity', 0.2);\n      });\n    \n    // Puntos en los vértices\n    radarData.forEach((item, idx) => {\n      svg.selectAll(`.radar-circle-${idx}`)\n        .data(item)\n        .enter()\n        .append('circle')\n        .attr('class', `radar-circle-${idx}`)\n        .attr('r', 4)\n        .attr('cx', (d, i) => rScale(d.value) * Math.cos(angleSlice * i - Math.PI/2))\n        .attr('cy', (d, i) => rScale(d.value) * Math.sin(angleSlice * i - Math.PI/2))\n        .style('fill', colorScale(idx))\n        .style('fill-opacity', 0.8);\n    });\n    \n    // Leyenda\n    const legend = svg.selectAll('.legend')\n      .data(data)\n      .enter()\n      .append('g')\n      .attr('class', 'legend')\n      .attr('transform', (d, i) => `translate(${radius + 30}, ${-radius + i * 25})`);\n    \n    legend.append('rect')\n      .attr('width', 18)\n      .attr('height', 18)\n      .style('fill', (d, i) => colorScale(i));\n    \n    legend.append('text')\n      .attr('x', 24)\n      .attr('y', 9)\n      .attr('dy', '.35em')\n      .style('font-size', '12px')\n      .text(d => d['name'] || 'Sin nombre');\n    \n    status.textContent = 'Radar Chart renderizado correctamente.';\n  } catch (e) {\n    const msg = (e && e.stack) ? e.stack : (''+e);\n    document.getElementById('radar-eeceb246-status').textContent = 'Error: ' + msg;\n  }\n})();\n",
      "text/plain": [
       "<IPython.core.display.Javascript object>"
      ]
     },
     "metadata": {},
     "output_type": "display_data"
    },
    {
     "data": {
      "text/html": [
       "<small>RadarChart listo (#radar-eeceb246)</small>"
      ],
      "text/plain": [
       "<IPython.core.display.HTML object>"
      ]
     },
     "execution_count": 41,
     "metadata": {},
     "output_type": "execute_result"
    }
   ],
   "source": [
    "# Celda 10: RADAR CHART - Comparación por décadas\n",
    "radar_decades = df.copy()\n",
    "radar_decades['decade'] = (radar_decades['model_year'] // 10 * 10).astype(str) + 's'\n",
    "radar_decades_agg = radar_decades.groupby('decade')[['horsepower', 'weight', 'acceleration', 'mpg']].mean().reset_index()\n",
    "radar_decades_agg.columns = ['name', 'Potencia', 'Peso', 'Aceleración', 'Eficiencia']\n",
    "\n",
    "# Normalizar\n",
    "features_radar = ['Potencia', 'Peso', 'Aceleración', 'Eficiencia']\n",
    "scaler2 = MinMaxScaler(feature_range=(0, 100))\n",
    "radar_decades_agg[features_radar] = scaler2.fit_transform(radar_decades_agg[features_radar])\n",
    "\n",
    "RadarChart(\n",
    "    df=radar_decades_agg,\n",
    "    features=features_radar,\n",
    "    name_col='name',\n",
    "    width=700,\n",
    "    height=700\n",
    ")"
   ]
  }
 ],
 "metadata": {
  "kernelspec": {
   "display_name": "Python 3",
   "language": "python",
   "name": "python3"
  },
  "language_info": {
   "codemirror_mode": {
    "name": "ipython",
    "version": 3
   },
   "file_extension": ".py",
   "mimetype": "text/x-python",
   "name": "python",
   "nbconvert_exporter": "python",
   "pygments_lexer": "ipython3",
   "version": "3.13.2"
  }
 },
 "nbformat": 4,
 "nbformat_minor": 5
}
